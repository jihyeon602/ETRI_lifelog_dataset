{
  "cells": [
    {
      "cell_type": "markdown",
      "metadata": {
        "id": "view-in-github",
        "colab_type": "text"
      },
      "source": [
        "<a href=\"https://colab.research.google.com/github/jihyeon602/ETRI_lifelog_dataset/blob/main/ETRI.ipynb\" target=\"_parent\"><img src=\"https://colab.research.google.com/assets/colab-badge.svg\" alt=\"Open In Colab\"/></a>"
      ]
    },
    {
      "cell_type": "markdown",
      "id": "7af526ed",
      "metadata": {
        "id": "7af526ed"
      },
      "source": [
        "# 기본 경로지정, parquet 파일 확인"
      ]
    },
    {
      "cell_type": "code",
      "source": [
        "from google.colab import drive\n",
        "drive.mount('/content/drive')"
      ],
      "metadata": {
        "colab": {
          "base_uri": "https://localhost:8080/"
        },
        "id": "YADivoQOFKiv",
        "outputId": "a5b49640-2964-4062-8ea1-65d27a6052ad"
      },
      "id": "YADivoQOFKiv",
      "execution_count": 2,
      "outputs": [
        {
          "output_type": "stream",
          "name": "stdout",
          "text": [
            "Mounted at /content/drive\n"
          ]
        }
      ]
    },
    {
      "cell_type": "code",
      "execution_count": 4,
      "id": "9bfa6207-0c78-4422-a502-f34d2438582a",
      "metadata": {
        "colab": {
          "base_uri": "https://localhost:8080/"
        },
        "id": "9bfa6207-0c78-4422-a502-f34d2438582a",
        "outputId": "c01e92d3-3865-4a0f-b3fc-e0fd442b1bb9"
      },
      "outputs": [
        {
          "output_type": "stream",
          "name": "stdout",
          "text": [
            "challenge 2025 dataset ===== \n",
            "\n",
            "ch2025_mACStatus.parquet\n",
            "ch2025_mActivity.parquet\n",
            "ch2025_mAmbience.parquet\n",
            "ch2025_mBle.parquet\n",
            "ch2025_mGps.parquet\n",
            "ch2025_mLight.parquet\n",
            "ch2025_mScreenStatus.parquet\n",
            "ch2025_mUsageStats.parquet\n",
            "ch2025_mWifi.parquet\n",
            "ch2025_wHr.parquet\n",
            "ch2025_wLight.parquet\n",
            "ch2025_wPedo.parquet\n"
          ]
        }
      ],
      "source": [
        "# 1. 실험 재현을 위한 Seed 고정 (가장 맨 위에 둬야 함)\n",
        "import os\n",
        "import random\n",
        "import numpy as np\n",
        "import tensorflow as tf\n",
        "\n",
        "os.environ['PYTHONHASHSEED'] = '42'\n",
        "np.random.seed(42)\n",
        "random.seed(42)\n",
        "tf.random.set_seed(42)\n",
        "tf.config.experimental.enable_op_determinism()  # TensorFlow 2.9 이상에서만\n",
        "\n",
        "import pandas as pd\n",
        "import matplotlib.pyplot as plt\n",
        "import seaborn as sns\n",
        "import torch\n",
        "import torch.nn as nn\n",
        "import random\n",
        "\n",
        "from tensorflow.keras.callbacks import EarlyStopping\n",
        "from tensorflow.keras.optimizers import Adam\n",
        "from tensorflow.keras import layers, models, Input\n",
        "from tensorflow.keras.models import Model\n",
        "from tensorflow.keras.layers import Input, Conv1D, BatchNormalization, ReLU, GlobalAveragePooling1D, Dense, Dropout\n",
        "\n",
        "from sklearn.model_selection import train_test_split\n",
        "from sklearn.metrics import f1_score\n",
        "from sklearn.preprocessing import StandardScaler, MinMaxScaler\n",
        "from sklearn.decomposition import PCA\n",
        "\n",
        "from scipy.stats import mode\n",
        "from scipy import stats\n",
        "from datetime import timedelta\n",
        "from tqdm import tqdm\n",
        "\n",
        "# Note: Set the file path associated with the dataset.\n",
        "challenge2025_dataset_path = '/content/drive/MyDrive/Sleep/ch2025_data_items'\n",
        "\n",
        "# To print the list of data items\n",
        "print(\"challenge 2025 dataset \" + \"=\"*5,'\\n')\n",
        "for file_name in sorted(os.listdir(challenge2025_dataset_path)):\n",
        "    if file_name.endswith('.parquet'):\n",
        "        print(file_name)"
      ]
    },
    {
      "cell_type": "markdown",
      "id": "bff590e9",
      "metadata": {
        "id": "bff590e9"
      },
      "source": [
        "# 데이터 전처리"
      ]
    },
    {
      "cell_type": "markdown",
      "id": "de4405a4",
      "metadata": {
        "id": "de4405a4"
      },
      "source": [
        "### 1. mACStatus, 1분당 1회"
      ]
    },
    {
      "cell_type": "code",
      "execution_count": 5,
      "id": "05b73540-4b26-4507-afe6-8b3d105896a9",
      "metadata": {
        "id": "05b73540-4b26-4507-afe6-8b3d105896a9"
      },
      "outputs": [],
      "source": [
        "data_item = \"mACStatus\"  # 스마트폰 충전 여부\n",
        "input1 = pd.read_parquet(os.path.join(challenge2025_dataset_path, f\"ch2025_{data_item}.parquet\"))"
      ]
    },
    {
      "cell_type": "markdown",
      "id": "37d2104d",
      "metadata": {
        "id": "37d2104d"
      },
      "source": [
        "### 2. mActivity,  1분당 1회"
      ]
    },
    {
      "cell_type": "code",
      "execution_count": 6,
      "id": "34436d4c",
      "metadata": {
        "id": "34436d4c"
      },
      "outputs": [],
      "source": [
        "data_item = \"mActivity\" # 사용자 활동 상태\n",
        "input2 = pd.read_parquet(os.path.join(challenge2025_dataset_path, f\"ch2025_{data_item}.parquet\"))\n",
        "\n",
        "# 원-핫 인코딩 수행\n",
        "activity_ohe = pd.get_dummies(input2['m_activity'], prefix='activity').astype(int)\n",
        "\n",
        "# 기존 데이터와 결합 (subject_id, timestamp 유지)\n",
        "input2 = pd.concat([input2[['subject_id', 'timestamp']], activity_ohe], axis=1)"
      ]
    },
    {
      "cell_type": "markdown",
      "id": "ee5e6dfc",
      "metadata": {
        "id": "ee5e6dfc"
      },
      "source": [
        "### 3. mAmbience, 2분당 1회"
      ]
    },
    {
      "cell_type": "code",
      "execution_count": 7,
      "id": "adfcda47",
      "metadata": {
        "id": "adfcda47"
      },
      "outputs": [],
      "source": [
        "data_item = \"mAmbience\"  # 주변 소음 데이터\n",
        "input3 = pd.read_parquet(os.path.join(challenge2025_dataset_path, f\"ch2025_{data_item}.parquet\"))\n",
        "\n",
        "# timestamp 초단위 제거 (초를 0초로)\n",
        "input3['timestamp'] = input3['timestamp'].dt.floor('min')\n",
        "\n",
        "# 전체 key 수집\n",
        "all_keys = set()\n",
        "for row in input3['m_ambience']:\n",
        "    for item in row:\n",
        "        all_keys.add(item[0])\n",
        "\n",
        "key_list = sorted(all_keys)\n",
        "key_to_index = {key: idx for idx, key in enumerate(key_list)}\n",
        "vector_length = len(key_list)\n",
        "\n",
        "# key-value → 확률 벡터 변환 함수\n",
        "def ambience_to_vector(row):\n",
        "    vec = np.zeros(vector_length, dtype=np.float32)\n",
        "    for item in row:\n",
        "        key, value = item\n",
        "        if key in key_to_index:\n",
        "            vec[key_to_index[key]] = float(value)\n",
        "    return vec\n",
        "\n",
        "# 변환 적용\n",
        "ambience_vectors = np.stack(input3['m_ambience'].apply(ambience_to_vector))\n",
        "ambience_df = pd.DataFrame(ambience_vectors, columns=[f\"amb_{k}\" for k in key_list], index=input3.index)\n",
        "\n",
        "# PCA 적용\n",
        "amb_data = ambience_df.values\n",
        "pca = PCA(n_components=10, random_state=42)\n",
        "amb_pca = pca.fit_transform(amb_data)\n",
        "pca_cols = [f'amb_pca_{i}' for i in range(1, 11)]\n",
        "amb_pca_df = pd.DataFrame(amb_pca, columns=pca_cols, index=input3.index)\n",
        "\n",
        "# subject_id, timestamp와 결합\n",
        "input3 = pd.concat([input3[['subject_id', 'timestamp']], amb_pca_df], axis=1)"
      ]
    },
    {
      "cell_type": "markdown",
      "id": "f4922c1e",
      "metadata": {
        "id": "f4922c1e"
      },
      "source": [
        "### 4. mBLE, 10분당 1회"
      ]
    },
    {
      "cell_type": "code",
      "execution_count": 8,
      "id": "5aa922ed-ae92-440d-bc2e-7b07f9611ec6",
      "metadata": {
        "id": "5aa922ed-ae92-440d-bc2e-7b07f9611ec6"
      },
      "outputs": [],
      "source": [
        "# Step 0: Load parquet\n",
        "data_item = \"mBle\"\n",
        "input4 = pd.read_parquet(os.path.join(challenge2025_dataset_path, f\"ch2025_{data_item}.parquet\"))\n",
        "\n",
        "# Step 1: m_ble explode + 정리\n",
        "exploded = input4.explode('m_ble').reset_index(drop=True)\n",
        "ble_df = pd.json_normalize(exploded['m_ble'])\n",
        "\n",
        "# Step 2: subject_id, timestamp 복원\n",
        "ble_df['subject_id'] = exploded['subject_id']\n",
        "ble_df['timestamp'] = exploded['timestamp']\n",
        "\n",
        "# Step 3: RSSI 수치 정제 및 통계 요약\n",
        "ble_df['rssi'] = ble_df['rssi'].astype(float)\n",
        "ble_stats = ble_df.groupby(['subject_id', 'timestamp'])['rssi'].agg(\n",
        "    ble_rssi_mean='mean',\n",
        "    ble_rssi_std='std',\n",
        "    ble_rssi_min='min',\n",
        "    ble_rssi_max='max',\n",
        "    ble_rssi_count='count'\n",
        ").reset_index()\n",
        "\n",
        "# Step 4: device_class One-hot 인코딩 + 평균 집계\n",
        "device_ohe = pd.get_dummies(ble_df['device_class'], prefix='ble_device_class').astype(int)\n",
        "ble_df = pd.concat([ble_df, device_ohe], axis=1)\n",
        "device_class_agg = ble_df.groupby(['subject_id', 'timestamp'])[device_ohe.columns].mean().reset_index()\n",
        "\n",
        "# Step 5: address 고유 개수 count\n",
        "address_count = ble_df.groupby(['subject_id', 'timestamp'])['address'].nunique().reset_index()\n",
        "address_count = address_count.rename(columns={'address': 'ble_device_unique_count'})\n",
        "\n",
        "# Step 6: 병합\n",
        "input4_cnn = ble_stats.merge(device_class_agg, on=['subject_id', 'timestamp'], how='outer')\n",
        "input4_cnn = input4_cnn.merge(address_count, on=['subject_id', 'timestamp'], how='outer')\n",
        "input4_cnn = input4_cnn.fillna(0)\n",
        "\n",
        "# Step 7: RSSI 통계 정규화 (z-score)\n",
        "rssi_cols = ['ble_rssi_mean', 'ble_rssi_std', 'ble_rssi_min', 'ble_rssi_max', 'ble_rssi_count']\n",
        "scaler = StandardScaler()\n",
        "input4_cnn[rssi_cols] = scaler.fit_transform(input4_cnn[rssi_cols])\n",
        "\n",
        "# Step 8: device_class OHE → PCA(5차원 축소)\n",
        "device_ohe_cols = [col for col in input4_cnn.columns if col.startswith('ble_device_class_')]\n",
        "device_ohe_data = input4_cnn[device_ohe_cols]\n",
        "\n",
        "pca = PCA(n_components=5, random_state=42)\n",
        "device_pca = pca.fit_transform(device_ohe_data)\n",
        "pca_cols = [f'ble_device_pca_{i+1}' for i in range(5)]\n",
        "device_pca_df = pd.DataFrame(device_pca, columns=pca_cols, index=input4_cnn.index)\n",
        "\n",
        "# Step 9: PCA 결과 붙이기 + 기존 OHE 제거\n",
        "input4_cnn = pd.concat([input4_cnn.drop(columns=device_ohe_cols), device_pca_df], axis=1)\n",
        "\n",
        "# Step 10: ble_device_unique_count 정규화 (0~1 스케일)\n",
        "scaler = StandardScaler()\n",
        "input4_cnn['ble_device_unique_count'] = scaler.fit_transform(input4_cnn[['ble_device_unique_count']])\n",
        "input4 = input4_cnn"
      ]
    },
    {
      "cell_type": "markdown",
      "id": "a653c838",
      "metadata": {
        "id": "a653c838"
      },
      "source": [
        "### 5. mGps"
      ]
    },
    {
      "cell_type": "code",
      "execution_count": 9,
      "id": "a47c37bc",
      "metadata": {
        "id": "a47c37bc"
      },
      "outputs": [],
      "source": [
        "data_item = \"mGps\"  # 스마트폰으로 측정된 GPS 데이터, 위치 데이터\n",
        "input5 = pd.read_parquet(os.path.join(challenge2025_dataset_path, f\"ch2025_{data_item}.parquet\"))\n",
        "\n",
        "# Step 1: m_gps 속도 평균 계산\n",
        "def compute_speed_mean(mgps_list):\n",
        "    if not isinstance(mgps_list, (list, np.ndarray)) or len(mgps_list) == 0:\n",
        "        return np.nan\n",
        "    speeds = [point.get('speed', 0) for point in mgps_list if isinstance(point, dict) and 'speed' in point]\n",
        "    if not speeds:\n",
        "        return np.nan\n",
        "    return np.mean(speeds)\n",
        "\n",
        "input5['speed_mean'] = input5['m_gps'].apply(compute_speed_mean)\n",
        "\n",
        "# Step 2: m_gps 열 삭제 + NaN 제거\n",
        "input5 = input5[['subject_id', 'timestamp', 'speed_mean']]\n",
        "input5 = input5.dropna(subset=['speed_mean'])\n",
        "\n",
        "# Step 3: speed_mean 클리핑 (10m/s 초과 값 10으로 고정)\n",
        "input5['speed_mean'] = input5['speed_mean'].clip(upper=10)\n",
        "\n",
        "# Step 4: speed_mean에 Z-Score 정규화 적용\n",
        "scaler = StandardScaler()\n",
        "input5['speed_zscore'] = scaler.fit_transform(input5[['speed_mean']])"
      ]
    },
    {
      "cell_type": "markdown",
      "id": "2282e65a",
      "metadata": {
        "id": "2282e65a"
      },
      "source": [
        "### 6. mLight, 10분당 1회"
      ]
    },
    {
      "cell_type": "code",
      "execution_count": 10,
      "id": "b8fd243b-5bbb-45af-8d26-bccb1cd511d6",
      "metadata": {
        "id": "b8fd243b-5bbb-45af-8d26-bccb1cd511d6"
      },
      "outputs": [],
      "source": [
        "data_item = \"mLight\"  # 주변 밝기 수준 (Lux)\n",
        "input6 = pd.read_parquet(os.path.join(challenge2025_dataset_path, f\"ch2025_{data_item}.parquet\"))\n",
        "\n",
        "# Step 1: 로그 변환\n",
        "input6['m_light_log'] = np.log1p(input6['m_light'])\n",
        "\n",
        "# Step 2: Z-Score 정규화\n",
        "scaler = StandardScaler()\n",
        "input6['m_light_zscore'] = scaler.fit_transform(input6[['m_light_log']])\n",
        "\n",
        "# Step 3: 최종 CNN 입력용 컬럼 정리\n",
        "input6 = input6[['subject_id', 'timestamp', 'm_light_zscore']]"
      ]
    },
    {
      "cell_type": "markdown",
      "id": "9b4e4f4b",
      "metadata": {
        "id": "9b4e4f4b"
      },
      "source": [
        "### 7. mScreenStatus, 1분당 1회"
      ]
    },
    {
      "cell_type": "code",
      "execution_count": 11,
      "id": "e557ec06-4dd4-48b3-a95c-f9ddac6fde65",
      "metadata": {
        "id": "e557ec06-4dd4-48b3-a95c-f9ddac6fde65"
      },
      "outputs": [],
      "source": [
        "data_item = \"mScreenStatus\"  # 스마트폰 화면 켜짐 여부\n",
        "input7 = pd.read_parquet(os.path.join(challenge2025_dataset_path, f\"ch2025_{data_item}.parquet\"))\n",
        "\n",
        "# One-Hot Encoding\n",
        "screen_ohe = pd.get_dummies(input7['m_screen_use'], prefix='screen').astype(int)\n",
        "\n",
        "# 최종 정제: m_screen_use도 남기고 OHE도 추가\n",
        "input7 = pd.concat([input7[['subject_id', 'timestamp']], screen_ohe], axis=1)"
      ]
    },
    {
      "cell_type": "markdown",
      "id": "fb40f996",
      "metadata": {
        "id": "fb40f996"
      },
      "source": [
        "### 8. mUsageStats, 10분당 1회"
      ]
    },
    {
      "cell_type": "code",
      "execution_count": 12,
      "id": "d357a576-46cc-4ac3-811d-65628aa638b8",
      "metadata": {
        "id": "d357a576-46cc-4ac3-811d-65628aa638b8"
      },
      "outputs": [],
      "source": [
        "data_item = \"mUsageStats\" # 10분간 어플 사용정보\n",
        "input8 = pd.read_parquet(os.path.join(challenge2025_dataset_path, f\"ch2025_{data_item}.parquet\"))\n",
        "\n",
        "# 어플사용시간 비율/10분\n",
        "def calc_usage_ratio(app_list):\n",
        "    if not isinstance(app_list, (list, np.ndarray)) or len(app_list) == 0:\n",
        "        return np.nan\n",
        "    total_time = sum(item.get('total_time', 0) for item in app_list)\n",
        "    return (total_time/600000) / len(app_list)\n",
        "input8['usage_ratio'] = input8['m_usage_stats'].apply(calc_usage_ratio)\n",
        "\n",
        "# 편향되어있어서 Min-Max 정규화\n",
        "# Min-Max 정규화\n",
        "min_val = input8['usage_ratio'].min()\n",
        "max_val = input8['usage_ratio'].max()\n",
        "input8['usage_ratio_norm'] = (input8['usage_ratio'] - min_val) / (max_val - min_val)\n",
        "input8 = input8.drop(columns=['m_usage_stats','usage_ratio'])"
      ]
    },
    {
      "cell_type": "markdown",
      "id": "dc917260",
      "metadata": {
        "id": "dc917260"
      },
      "source": [
        "### 9. mWifi, 10분당 1회"
      ]
    },
    {
      "cell_type": "code",
      "execution_count": 13,
      "id": "da257aa2",
      "metadata": {
        "id": "da257aa2"
      },
      "outputs": [],
      "source": [
        "data_item = \"mWifi\"\n",
        "input9 = pd.read_parquet(os.path.join(challenge2025_dataset_path, f\"ch2025_{data_item}.parquet\"))\n",
        "\n",
        "# Step 1: m_wifi explode + 정리\n",
        "exploded = input9.explode('m_wifi').reset_index(drop=True)\n",
        "wifi_df = pd.json_normalize(exploded['m_wifi'])\n",
        "\n",
        "# Step 2: subject_id, timestamp 복원\n",
        "wifi_df['subject_id'] = exploded['subject_id']\n",
        "wifi_df['timestamp'] = exploded['timestamp']\n",
        "\n",
        "# Step 3: RSSI 수치 정제 및 통계 요약\n",
        "wifi_df['rssi'] = wifi_df['rssi'].astype(float)\n",
        "wifi_stats = wifi_df.groupby(['subject_id', 'timestamp'])['rssi'].agg(\n",
        "    wifi_rssi_mean='mean',\n",
        "    wifi_rssi_std='std',\n",
        "    wifi_rssi_min='min',\n",
        "    wifi_rssi_max='max',\n",
        "    wifi_rssi_count='count'\n",
        ").reset_index()\n",
        "\n",
        "# Step 4: 상위 100개 BSSID만 One-hot 인코딩 + 평균 집계\n",
        "top_bssid = wifi_df['bssid'].value_counts().sort_index().head(100).index\n",
        "wifi_df['bssid_top'] = wifi_df['bssid'].where(wifi_df['bssid'].isin(top_bssid), 'OTHER')\n",
        "\n",
        "bssid_ohe = pd.get_dummies(wifi_df['bssid_top'], prefix='bssid').astype(int)\n",
        "wifi_df = pd.concat([wifi_df, bssid_ohe], axis=1)\n",
        "bssid_agg = wifi_df.groupby(['subject_id', 'timestamp'])[bssid_ohe.columns].mean().reset_index()\n",
        "\n",
        "# Step 5: 고유 BSSID 개수 count\n",
        "bssid_count = wifi_df.groupby(['subject_id', 'timestamp'])['bssid'].nunique().reset_index()\n",
        "bssid_count = bssid_count.rename(columns={'bssid': 'bssid_count'})\n",
        "\n",
        "# Step 6: 병합\n",
        "input9_cnn = wifi_stats.merge(bssid_agg, on=['subject_id', 'timestamp'], how='outer')\n",
        "input9_cnn = input9_cnn.merge(bssid_count, on=['subject_id', 'timestamp'], how='outer')\n",
        "input9_cnn = input9_cnn.fillna(0)\n",
        "\n",
        "# Step 7: RSSI 관련 통계 정규화 (z-score)\n",
        "rssi_cols = ['wifi_rssi_mean', 'wifi_rssi_std', 'wifi_rssi_min', 'wifi_rssi_max', 'wifi_rssi_count']\n",
        "scaler = StandardScaler()\n",
        "input9_cnn[rssi_cols] = scaler.fit_transform(input9_cnn[rssi_cols])\n",
        "\n",
        "# Step 8: bssid 컬럼 이름 정리 → bssid_1 ~ bssid_100, bssid_OTHER\n",
        "bssid_cols = [col for col in input9_cnn.columns if col.startswith('bssid_')]\n",
        "other_col = [col for col in bssid_cols if col.endswith('OTHER')]\n",
        "top_cols = sorted(set(bssid_cols) - set(other_col))\n",
        "\n",
        "rename_map = {col: f\"bssid_{i+1}\" for i, col in enumerate(top_cols)}\n",
        "if other_col:\n",
        "    rename_map[other_col[0]] = 'bssid_OTHER'\n",
        "\n",
        "input9_cnn = input9_cnn.rename(columns=rename_map)\n",
        "\n",
        "# Step 9: PCA 적용 대상 컬럼 찾기\n",
        "pca_input_cols = [col for col in input9_cnn.columns if col.startswith('bssid_')]\n",
        "\n",
        "# Step 10: PCA 적용 (예: 10차원으로 축소)\n",
        "pca = PCA(n_components=10, random_state=42)\n",
        "bssid_pca = pca.fit_transform(input9_cnn[pca_input_cols])\n",
        "pca_cols = [f'bssid_pca_{i+1}' for i in range(10)]\n",
        "bssid_pca_df = pd.DataFrame(bssid_pca, columns=pca_cols, index=input9_cnn.index)\n",
        "\n",
        "# Step 11: PCA 결과 붙이기 + 기존 OHE 제거\n",
        "input9 = pd.concat([input9_cnn.drop(columns=pca_input_cols), bssid_pca_df], axis=1)"
      ]
    },
    {
      "cell_type": "markdown",
      "id": "45d8f7b8",
      "metadata": {
        "id": "45d8f7b8"
      },
      "source": [
        "### 10. wHr"
      ]
    },
    {
      "cell_type": "code",
      "execution_count": 14,
      "id": "58980e44",
      "metadata": {
        "id": "58980e44"
      },
      "outputs": [],
      "source": [
        "# Step 1: 심박수 데이터 로드\n",
        "data_item = \"wHr\"  # 심박수\n",
        "input10 = pd.read_parquet(os.path.join(challenge2025_dataset_path, f\"ch2025_{data_item}.parquet\"))\n",
        "\n",
        "# Step 2: 심박수 통계 계산 함수 (이상치 필터링 포함)\n",
        "def calc_hr_stats_filtered(hr_list):\n",
        "    if not isinstance(hr_list, (list, np.ndarray)) or len(hr_list) == 0:\n",
        "        return pd.Series([np.nan] * 5)\n",
        "    valid = [x for x in hr_list if 40 <= x <= 200]\n",
        "    if len(valid) == 0:\n",
        "        return pd.Series([np.nan] * 5)\n",
        "    min_hr = np.min(valid)\n",
        "    mean_hr = np.mean(valid)\n",
        "    median_hr = np.median(valid)\n",
        "    mode_result = stats.mode(valid, keepdims=True)\n",
        "    mode_hr = mode_result.mode[0] if mode_result.count[0] > 0 else np.nan\n",
        "    max_hr = np.max(valid)\n",
        "    return pd.Series([min_hr, mean_hr, median_hr, mode_hr, max_hr])\n",
        "\n",
        "# Step 3: 통계 컬럼 생성\n",
        "input10[['min_hr', 'mean_hr', 'median_hr', 'mode_hr', 'max_hr']] = input10['heart_rate'].apply(calc_hr_stats_filtered)\n",
        "\n",
        "# Step 4: NaN 제거\n",
        "input10 = input10.dropna(subset=['mean_hr'])\n",
        "\n",
        "# Step 5: heart_rate 컬럼 제거\n",
        "input10 = input10.drop(columns='heart_rate')\n",
        "\n",
        "# Step 6: Z-Score 정규화\n",
        "hr_cols = ['min_hr', 'mean_hr', 'median_hr', 'mode_hr', 'max_hr']\n",
        "scaler = StandardScaler()\n",
        "input10_zscore = scaler.fit_transform(input10[hr_cols])\n",
        "\n",
        "# Step 7: 정규화된 결과를 DataFrame에 넣기\n",
        "input10_zscore = pd.DataFrame(input10_zscore, columns=[f'{col}_zscore' for col in hr_cols], index=input10.index)\n",
        "\n",
        "# Step 8: 원본 min/mean/median/mode/max 컬럼 삭제 후 zscore 컬럼 붙이기\n",
        "input10 = pd.concat([input10[['subject_id', 'timestamp']], input10_zscore], axis=1)"
      ]
    },
    {
      "cell_type": "markdown",
      "id": "238dd866",
      "metadata": {
        "id": "238dd866"
      },
      "source": [
        "### 11. wLight, 1분당 1회"
      ]
    },
    {
      "cell_type": "code",
      "execution_count": 15,
      "id": "d95847eb-a9e8-49d5-a3ae-6b52c23f3335",
      "metadata": {
        "id": "d95847eb-a9e8-49d5-a3ae-6b52c23f3335"
      },
      "outputs": [],
      "source": [
        "data_item = \"wLight\"\n",
        "input11 = pd.read_parquet(os.path.join(challenge2025_dataset_path, f\"ch2025_{data_item}.parquet\"))\n",
        "\n",
        "# Step 1: 로그 변환\n",
        "input11['w_light_log'] = np.log1p(input11['w_light'])\n",
        "\n",
        "# Step 2: Z-Score 정규화\n",
        "scaler = StandardScaler()\n",
        "input11['w_light_zscore'] = scaler.fit_transform(input11[['w_light_log']])\n",
        "\n",
        "# Step 3: 최종 CNN 입력용 컬럼만 유지\n",
        "input11_cnn = input11[['subject_id', 'timestamp', 'w_light_zscore']]\n",
        "input11 = input11_cnn"
      ]
    },
    {
      "cell_type": "markdown",
      "id": "1336ce39",
      "metadata": {
        "id": "1336ce39"
      },
      "source": [
        "### 12. wPedo, 1분당 1회"
      ]
    },
    {
      "cell_type": "code",
      "execution_count": 16,
      "id": "e2d9b063-bfe2-4c86-81a6-e3434d9222c3",
      "metadata": {
        "id": "e2d9b063-bfe2-4c86-81a6-e3434d9222c3"
      },
      "outputs": [],
      "source": [
        "data_item = \"wPedo\"\n",
        "input12 = pd.read_parquet(os.path.join(challenge2025_dataset_path, f\"ch2025_{data_item}.parquet\"))\n",
        "\n",
        "# 빈 열, 이상치 제거\n",
        "input12 = input12.drop(columns=['running_step', 'walking_step'])\n",
        "input12 = input12[input12['burned_calories'] <= 15]\n",
        "\n",
        "# 정규화\n",
        "features_to_norm = ['step', 'step_frequency', 'distance', 'speed', 'burned_calories']\n",
        "# log1p 적용\n",
        "for col in features_to_norm:\n",
        "    input12[f'{col}_log'] = np.log1p(input12[col])\n",
        "# Min-Max 정규화\n",
        "for col in features_to_norm:\n",
        "    log_col = f'{col}_log'\n",
        "    min_val = input12[log_col].min()\n",
        "    max_val = input12[log_col].max()\n",
        "    input12[f'{col}_norm'] = (input12[log_col] - min_val) / (max_val - min_val)\n",
        "\n",
        "input12_cnn = input12[['subject_id', 'timestamp'] + [f'{col}_norm' for col in features_to_norm]]\n",
        "input12 = input12_cnn"
      ]
    },
    {
      "cell_type": "code",
      "source": [
        "input12"
      ],
      "metadata": {
        "colab": {
          "base_uri": "https://localhost:8080/",
          "height": 423
        },
        "id": "zAZ0QaupNdgI",
        "outputId": "15d19493-39a3-490f-aecd-4468e31a3409"
      },
      "id": "zAZ0QaupNdgI",
      "execution_count": 18,
      "outputs": [
        {
          "output_type": "execute_result",
          "data": {
            "text/plain": [
              "       subject_id           timestamp  step_norm  step_frequency_norm  \\\n",
              "0            id01 2024-06-26 12:09:00   0.416153             0.083873   \n",
              "1            id01 2024-06-26 12:10:00   0.000000             0.000000   \n",
              "2            id01 2024-06-26 12:11:00   0.000000             0.000000   \n",
              "3            id01 2024-06-26 12:12:00   0.000000             0.000000   \n",
              "4            id01 2024-06-26 12:13:00   0.000000             0.000000   \n",
              "...           ...                 ...        ...                  ...   \n",
              "748095       id10 2024-09-26 23:55:00   0.000000             0.000000   \n",
              "748096       id10 2024-09-26 23:56:00   0.000000             0.000000   \n",
              "748097       id10 2024-09-26 23:57:00   0.000000             0.000000   \n",
              "748098       id10 2024-09-26 23:58:00   0.000000             0.000000   \n",
              "748099       id10 2024-09-26 23:59:00   0.000000             0.000000   \n",
              "\n",
              "        distance_norm  speed_norm  burned_calories_norm  \n",
              "0              0.3908    0.072306                   0.0  \n",
              "1              0.0000    0.000000                   0.0  \n",
              "2              0.0000    0.000000                   0.0  \n",
              "3              0.0000    0.000000                   0.0  \n",
              "4              0.0000    0.000000                   0.0  \n",
              "...               ...         ...                   ...  \n",
              "748095         0.0000    0.000000                   0.0  \n",
              "748096         0.0000    0.000000                   0.0  \n",
              "748097         0.0000    0.000000                   0.0  \n",
              "748098         0.0000    0.000000                   0.0  \n",
              "748099         0.0000    0.000000                   0.0  \n",
              "\n",
              "[747852 rows x 7 columns]"
            ],
            "text/html": [
              "\n",
              "  <div id=\"df-7829d34f-8d39-41ea-8366-6bab0c9b1977\" class=\"colab-df-container\">\n",
              "    <div>\n",
              "<style scoped>\n",
              "    .dataframe tbody tr th:only-of-type {\n",
              "        vertical-align: middle;\n",
              "    }\n",
              "\n",
              "    .dataframe tbody tr th {\n",
              "        vertical-align: top;\n",
              "    }\n",
              "\n",
              "    .dataframe thead th {\n",
              "        text-align: right;\n",
              "    }\n",
              "</style>\n",
              "<table border=\"1\" class=\"dataframe\">\n",
              "  <thead>\n",
              "    <tr style=\"text-align: right;\">\n",
              "      <th></th>\n",
              "      <th>subject_id</th>\n",
              "      <th>timestamp</th>\n",
              "      <th>step_norm</th>\n",
              "      <th>step_frequency_norm</th>\n",
              "      <th>distance_norm</th>\n",
              "      <th>speed_norm</th>\n",
              "      <th>burned_calories_norm</th>\n",
              "    </tr>\n",
              "  </thead>\n",
              "  <tbody>\n",
              "    <tr>\n",
              "      <th>0</th>\n",
              "      <td>id01</td>\n",
              "      <td>2024-06-26 12:09:00</td>\n",
              "      <td>0.416153</td>\n",
              "      <td>0.083873</td>\n",
              "      <td>0.3908</td>\n",
              "      <td>0.072306</td>\n",
              "      <td>0.0</td>\n",
              "    </tr>\n",
              "    <tr>\n",
              "      <th>1</th>\n",
              "      <td>id01</td>\n",
              "      <td>2024-06-26 12:10:00</td>\n",
              "      <td>0.000000</td>\n",
              "      <td>0.000000</td>\n",
              "      <td>0.0000</td>\n",
              "      <td>0.000000</td>\n",
              "      <td>0.0</td>\n",
              "    </tr>\n",
              "    <tr>\n",
              "      <th>2</th>\n",
              "      <td>id01</td>\n",
              "      <td>2024-06-26 12:11:00</td>\n",
              "      <td>0.000000</td>\n",
              "      <td>0.000000</td>\n",
              "      <td>0.0000</td>\n",
              "      <td>0.000000</td>\n",
              "      <td>0.0</td>\n",
              "    </tr>\n",
              "    <tr>\n",
              "      <th>3</th>\n",
              "      <td>id01</td>\n",
              "      <td>2024-06-26 12:12:00</td>\n",
              "      <td>0.000000</td>\n",
              "      <td>0.000000</td>\n",
              "      <td>0.0000</td>\n",
              "      <td>0.000000</td>\n",
              "      <td>0.0</td>\n",
              "    </tr>\n",
              "    <tr>\n",
              "      <th>4</th>\n",
              "      <td>id01</td>\n",
              "      <td>2024-06-26 12:13:00</td>\n",
              "      <td>0.000000</td>\n",
              "      <td>0.000000</td>\n",
              "      <td>0.0000</td>\n",
              "      <td>0.000000</td>\n",
              "      <td>0.0</td>\n",
              "    </tr>\n",
              "    <tr>\n",
              "      <th>...</th>\n",
              "      <td>...</td>\n",
              "      <td>...</td>\n",
              "      <td>...</td>\n",
              "      <td>...</td>\n",
              "      <td>...</td>\n",
              "      <td>...</td>\n",
              "      <td>...</td>\n",
              "    </tr>\n",
              "    <tr>\n",
              "      <th>748095</th>\n",
              "      <td>id10</td>\n",
              "      <td>2024-09-26 23:55:00</td>\n",
              "      <td>0.000000</td>\n",
              "      <td>0.000000</td>\n",
              "      <td>0.0000</td>\n",
              "      <td>0.000000</td>\n",
              "      <td>0.0</td>\n",
              "    </tr>\n",
              "    <tr>\n",
              "      <th>748096</th>\n",
              "      <td>id10</td>\n",
              "      <td>2024-09-26 23:56:00</td>\n",
              "      <td>0.000000</td>\n",
              "      <td>0.000000</td>\n",
              "      <td>0.0000</td>\n",
              "      <td>0.000000</td>\n",
              "      <td>0.0</td>\n",
              "    </tr>\n",
              "    <tr>\n",
              "      <th>748097</th>\n",
              "      <td>id10</td>\n",
              "      <td>2024-09-26 23:57:00</td>\n",
              "      <td>0.000000</td>\n",
              "      <td>0.000000</td>\n",
              "      <td>0.0000</td>\n",
              "      <td>0.000000</td>\n",
              "      <td>0.0</td>\n",
              "    </tr>\n",
              "    <tr>\n",
              "      <th>748098</th>\n",
              "      <td>id10</td>\n",
              "      <td>2024-09-26 23:58:00</td>\n",
              "      <td>0.000000</td>\n",
              "      <td>0.000000</td>\n",
              "      <td>0.0000</td>\n",
              "      <td>0.000000</td>\n",
              "      <td>0.0</td>\n",
              "    </tr>\n",
              "    <tr>\n",
              "      <th>748099</th>\n",
              "      <td>id10</td>\n",
              "      <td>2024-09-26 23:59:00</td>\n",
              "      <td>0.000000</td>\n",
              "      <td>0.000000</td>\n",
              "      <td>0.0000</td>\n",
              "      <td>0.000000</td>\n",
              "      <td>0.0</td>\n",
              "    </tr>\n",
              "  </tbody>\n",
              "</table>\n",
              "<p>747852 rows × 7 columns</p>\n",
              "</div>\n",
              "    <div class=\"colab-df-buttons\">\n",
              "\n",
              "  <div class=\"colab-df-container\">\n",
              "    <button class=\"colab-df-convert\" onclick=\"convertToInteractive('df-7829d34f-8d39-41ea-8366-6bab0c9b1977')\"\n",
              "            title=\"Convert this dataframe to an interactive table.\"\n",
              "            style=\"display:none;\">\n",
              "\n",
              "  <svg xmlns=\"http://www.w3.org/2000/svg\" height=\"24px\" viewBox=\"0 -960 960 960\">\n",
              "    <path d=\"M120-120v-720h720v720H120Zm60-500h600v-160H180v160Zm220 220h160v-160H400v160Zm0 220h160v-160H400v160ZM180-400h160v-160H180v160Zm440 0h160v-160H620v160ZM180-180h160v-160H180v160Zm440 0h160v-160H620v160Z\"/>\n",
              "  </svg>\n",
              "    </button>\n",
              "\n",
              "  <style>\n",
              "    .colab-df-container {\n",
              "      display:flex;\n",
              "      gap: 12px;\n",
              "    }\n",
              "\n",
              "    .colab-df-convert {\n",
              "      background-color: #E8F0FE;\n",
              "      border: none;\n",
              "      border-radius: 50%;\n",
              "      cursor: pointer;\n",
              "      display: none;\n",
              "      fill: #1967D2;\n",
              "      height: 32px;\n",
              "      padding: 0 0 0 0;\n",
              "      width: 32px;\n",
              "    }\n",
              "\n",
              "    .colab-df-convert:hover {\n",
              "      background-color: #E2EBFA;\n",
              "      box-shadow: 0px 1px 2px rgba(60, 64, 67, 0.3), 0px 1px 3px 1px rgba(60, 64, 67, 0.15);\n",
              "      fill: #174EA6;\n",
              "    }\n",
              "\n",
              "    .colab-df-buttons div {\n",
              "      margin-bottom: 4px;\n",
              "    }\n",
              "\n",
              "    [theme=dark] .colab-df-convert {\n",
              "      background-color: #3B4455;\n",
              "      fill: #D2E3FC;\n",
              "    }\n",
              "\n",
              "    [theme=dark] .colab-df-convert:hover {\n",
              "      background-color: #434B5C;\n",
              "      box-shadow: 0px 1px 3px 1px rgba(0, 0, 0, 0.15);\n",
              "      filter: drop-shadow(0px 1px 2px rgba(0, 0, 0, 0.3));\n",
              "      fill: #FFFFFF;\n",
              "    }\n",
              "  </style>\n",
              "\n",
              "    <script>\n",
              "      const buttonEl =\n",
              "        document.querySelector('#df-7829d34f-8d39-41ea-8366-6bab0c9b1977 button.colab-df-convert');\n",
              "      buttonEl.style.display =\n",
              "        google.colab.kernel.accessAllowed ? 'block' : 'none';\n",
              "\n",
              "      async function convertToInteractive(key) {\n",
              "        const element = document.querySelector('#df-7829d34f-8d39-41ea-8366-6bab0c9b1977');\n",
              "        const dataTable =\n",
              "          await google.colab.kernel.invokeFunction('convertToInteractive',\n",
              "                                                    [key], {});\n",
              "        if (!dataTable) return;\n",
              "\n",
              "        const docLinkHtml = 'Like what you see? Visit the ' +\n",
              "          '<a target=\"_blank\" href=https://colab.research.google.com/notebooks/data_table.ipynb>data table notebook</a>'\n",
              "          + ' to learn more about interactive tables.';\n",
              "        element.innerHTML = '';\n",
              "        dataTable['output_type'] = 'display_data';\n",
              "        await google.colab.output.renderOutput(dataTable, element);\n",
              "        const docLink = document.createElement('div');\n",
              "        docLink.innerHTML = docLinkHtml;\n",
              "        element.appendChild(docLink);\n",
              "      }\n",
              "    </script>\n",
              "  </div>\n",
              "\n",
              "\n",
              "    <div id=\"df-874f46c8-1f31-4626-8176-a88a0bb4a584\">\n",
              "      <button class=\"colab-df-quickchart\" onclick=\"quickchart('df-874f46c8-1f31-4626-8176-a88a0bb4a584')\"\n",
              "                title=\"Suggest charts\"\n",
              "                style=\"display:none;\">\n",
              "\n",
              "<svg xmlns=\"http://www.w3.org/2000/svg\" height=\"24px\"viewBox=\"0 0 24 24\"\n",
              "     width=\"24px\">\n",
              "    <g>\n",
              "        <path d=\"M19 3H5c-1.1 0-2 .9-2 2v14c0 1.1.9 2 2 2h14c1.1 0 2-.9 2-2V5c0-1.1-.9-2-2-2zM9 17H7v-7h2v7zm4 0h-2V7h2v10zm4 0h-2v-4h2v4z\"/>\n",
              "    </g>\n",
              "</svg>\n",
              "      </button>\n",
              "\n",
              "<style>\n",
              "  .colab-df-quickchart {\n",
              "      --bg-color: #E8F0FE;\n",
              "      --fill-color: #1967D2;\n",
              "      --hover-bg-color: #E2EBFA;\n",
              "      --hover-fill-color: #174EA6;\n",
              "      --disabled-fill-color: #AAA;\n",
              "      --disabled-bg-color: #DDD;\n",
              "  }\n",
              "\n",
              "  [theme=dark] .colab-df-quickchart {\n",
              "      --bg-color: #3B4455;\n",
              "      --fill-color: #D2E3FC;\n",
              "      --hover-bg-color: #434B5C;\n",
              "      --hover-fill-color: #FFFFFF;\n",
              "      --disabled-bg-color: #3B4455;\n",
              "      --disabled-fill-color: #666;\n",
              "  }\n",
              "\n",
              "  .colab-df-quickchart {\n",
              "    background-color: var(--bg-color);\n",
              "    border: none;\n",
              "    border-radius: 50%;\n",
              "    cursor: pointer;\n",
              "    display: none;\n",
              "    fill: var(--fill-color);\n",
              "    height: 32px;\n",
              "    padding: 0;\n",
              "    width: 32px;\n",
              "  }\n",
              "\n",
              "  .colab-df-quickchart:hover {\n",
              "    background-color: var(--hover-bg-color);\n",
              "    box-shadow: 0 1px 2px rgba(60, 64, 67, 0.3), 0 1px 3px 1px rgba(60, 64, 67, 0.15);\n",
              "    fill: var(--button-hover-fill-color);\n",
              "  }\n",
              "\n",
              "  .colab-df-quickchart-complete:disabled,\n",
              "  .colab-df-quickchart-complete:disabled:hover {\n",
              "    background-color: var(--disabled-bg-color);\n",
              "    fill: var(--disabled-fill-color);\n",
              "    box-shadow: none;\n",
              "  }\n",
              "\n",
              "  .colab-df-spinner {\n",
              "    border: 2px solid var(--fill-color);\n",
              "    border-color: transparent;\n",
              "    border-bottom-color: var(--fill-color);\n",
              "    animation:\n",
              "      spin 1s steps(1) infinite;\n",
              "  }\n",
              "\n",
              "  @keyframes spin {\n",
              "    0% {\n",
              "      border-color: transparent;\n",
              "      border-bottom-color: var(--fill-color);\n",
              "      border-left-color: var(--fill-color);\n",
              "    }\n",
              "    20% {\n",
              "      border-color: transparent;\n",
              "      border-left-color: var(--fill-color);\n",
              "      border-top-color: var(--fill-color);\n",
              "    }\n",
              "    30% {\n",
              "      border-color: transparent;\n",
              "      border-left-color: var(--fill-color);\n",
              "      border-top-color: var(--fill-color);\n",
              "      border-right-color: var(--fill-color);\n",
              "    }\n",
              "    40% {\n",
              "      border-color: transparent;\n",
              "      border-right-color: var(--fill-color);\n",
              "      border-top-color: var(--fill-color);\n",
              "    }\n",
              "    60% {\n",
              "      border-color: transparent;\n",
              "      border-right-color: var(--fill-color);\n",
              "    }\n",
              "    80% {\n",
              "      border-color: transparent;\n",
              "      border-right-color: var(--fill-color);\n",
              "      border-bottom-color: var(--fill-color);\n",
              "    }\n",
              "    90% {\n",
              "      border-color: transparent;\n",
              "      border-bottom-color: var(--fill-color);\n",
              "    }\n",
              "  }\n",
              "</style>\n",
              "\n",
              "      <script>\n",
              "        async function quickchart(key) {\n",
              "          const quickchartButtonEl =\n",
              "            document.querySelector('#' + key + ' button');\n",
              "          quickchartButtonEl.disabled = true;  // To prevent multiple clicks.\n",
              "          quickchartButtonEl.classList.add('colab-df-spinner');\n",
              "          try {\n",
              "            const charts = await google.colab.kernel.invokeFunction(\n",
              "                'suggestCharts', [key], {});\n",
              "          } catch (error) {\n",
              "            console.error('Error during call to suggestCharts:', error);\n",
              "          }\n",
              "          quickchartButtonEl.classList.remove('colab-df-spinner');\n",
              "          quickchartButtonEl.classList.add('colab-df-quickchart-complete');\n",
              "        }\n",
              "        (() => {\n",
              "          let quickchartButtonEl =\n",
              "            document.querySelector('#df-874f46c8-1f31-4626-8176-a88a0bb4a584 button');\n",
              "          quickchartButtonEl.style.display =\n",
              "            google.colab.kernel.accessAllowed ? 'block' : 'none';\n",
              "        })();\n",
              "      </script>\n",
              "    </div>\n",
              "\n",
              "  <div id=\"id_d4d2ffb2-4640-47bf-9b24-dbc9ecac9aa6\">\n",
              "    <style>\n",
              "      .colab-df-generate {\n",
              "        background-color: #E8F0FE;\n",
              "        border: none;\n",
              "        border-radius: 50%;\n",
              "        cursor: pointer;\n",
              "        display: none;\n",
              "        fill: #1967D2;\n",
              "        height: 32px;\n",
              "        padding: 0 0 0 0;\n",
              "        width: 32px;\n",
              "      }\n",
              "\n",
              "      .colab-df-generate:hover {\n",
              "        background-color: #E2EBFA;\n",
              "        box-shadow: 0px 1px 2px rgba(60, 64, 67, 0.3), 0px 1px 3px 1px rgba(60, 64, 67, 0.15);\n",
              "        fill: #174EA6;\n",
              "      }\n",
              "\n",
              "      [theme=dark] .colab-df-generate {\n",
              "        background-color: #3B4455;\n",
              "        fill: #D2E3FC;\n",
              "      }\n",
              "\n",
              "      [theme=dark] .colab-df-generate:hover {\n",
              "        background-color: #434B5C;\n",
              "        box-shadow: 0px 1px 3px 1px rgba(0, 0, 0, 0.15);\n",
              "        filter: drop-shadow(0px 1px 2px rgba(0, 0, 0, 0.3));\n",
              "        fill: #FFFFFF;\n",
              "      }\n",
              "    </style>\n",
              "    <button class=\"colab-df-generate\" onclick=\"generateWithVariable('input12')\"\n",
              "            title=\"Generate code using this dataframe.\"\n",
              "            style=\"display:none;\">\n",
              "\n",
              "  <svg xmlns=\"http://www.w3.org/2000/svg\" height=\"24px\"viewBox=\"0 0 24 24\"\n",
              "       width=\"24px\">\n",
              "    <path d=\"M7,19H8.4L18.45,9,17,7.55,7,17.6ZM5,21V16.75L18.45,3.32a2,2,0,0,1,2.83,0l1.4,1.43a1.91,1.91,0,0,1,.58,1.4,1.91,1.91,0,0,1-.58,1.4L9.25,21ZM18.45,9,17,7.55Zm-12,3A5.31,5.31,0,0,0,4.9,8.1,5.31,5.31,0,0,0,1,6.5,5.31,5.31,0,0,0,4.9,4.9,5.31,5.31,0,0,0,6.5,1,5.31,5.31,0,0,0,8.1,4.9,5.31,5.31,0,0,0,12,6.5,5.46,5.46,0,0,0,6.5,12Z\"/>\n",
              "  </svg>\n",
              "    </button>\n",
              "    <script>\n",
              "      (() => {\n",
              "      const buttonEl =\n",
              "        document.querySelector('#id_d4d2ffb2-4640-47bf-9b24-dbc9ecac9aa6 button.colab-df-generate');\n",
              "      buttonEl.style.display =\n",
              "        google.colab.kernel.accessAllowed ? 'block' : 'none';\n",
              "\n",
              "      buttonEl.onclick = () => {\n",
              "        google.colab.notebook.generateWithVariable('input12');\n",
              "      }\n",
              "      })();\n",
              "    </script>\n",
              "  </div>\n",
              "\n",
              "    </div>\n",
              "  </div>\n"
            ],
            "application/vnd.google.colaboratory.intrinsic+json": {
              "type": "dataframe",
              "variable_name": "input12"
            }
          },
          "metadata": {},
          "execution_count": 18
        }
      ]
    },
    {
      "cell_type": "markdown",
      "id": "770e3517",
      "metadata": {
        "id": "770e3517"
      },
      "source": [
        "# Train.csv, Input Data 구조 설정"
      ]
    },
    {
      "cell_type": "code",
      "execution_count": 19,
      "id": "85ceaf8b",
      "metadata": {
        "id": "85ceaf8b"
      },
      "outputs": [],
      "source": [
        "# 레이블 로딩\n",
        "df_label = pd.read_csv(\"/content/drive/MyDrive/Sleep/ch2025_metrics_train.csv\")\n",
        "df_label['lifelog_date'] = pd.to_datetime(df_label['lifelog_date'])\n",
        "df_label['sleep_date'] = pd.to_datetime(df_label['sleep_date'])\n",
        "\n",
        "# feature 구조 정의 (21개 피처)\n",
        "feature_structure = {\n",
        "    'input1': ['m_charging'],\n",
        "    'input2': ['activity_0','activity_1','activity_3','activity_4','activity_7','activity_8'],\n",
        "    'input3': ['amb_pca_1','amb_pca_2','amb_pca_3','amb_pca_4','amb_pca_5','amb_pca_6','amb_pca_7','amb_pca_8','amb_pca_9','amb_pca_10'],\n",
        "\n",
        "    'input4': ['ble_rssi_mean','ble_rssi_std','ble_rssi_min','ble_rssi_max','ble_rssi_count','ble_device_unique_count',\n",
        "               'ble_device_pca_1','ble_device_pca_2','ble_device_pca_3','ble_device_pca_4','ble_device_pca_5'],\n",
        "    'input5': ['speed_mean','speed_zscore'],\n",
        "    'input6': ['m_light_zscore'],\n",
        "\n",
        "    'input7': ['screen_0','screen_1'],\n",
        "    'input8': ['usage_ratio_norm'],\n",
        "    'input9': ['wifi_rssi_mean','wifi_rssi_std','wifi_rssi_min','wifi_rssi_max','wifi_rssi_count',\n",
        "               'bssid_pca_1','bssid_pca_2','bssid_pca_3','bssid_pca_4','bssid_pca_5',\n",
        "               'bssid_pca_6','bssid_pca_7','bssid_pca_8','bssid_pca_9','bssid_pca_10'],\n",
        "\n",
        "    'input10': ['min_hr_zscore','mean_hr_zscore','median_hr_zscore','mode_hr_zscore','max_hr_zscore'],\n",
        "    'input11': ['w_light_zscore'],\n",
        "    'input12': ['step_norm','step_frequency_norm','distance_norm','speed_norm','burned_calories_norm']\n",
        "}\n",
        "\n",
        "# 병합 함수 정의\n",
        "def merge_input_timeseries(subject_id, lifelog_date, sleep_date, input_dict):\n",
        "    start = pd.to_datetime(lifelog_date) + timedelta(hours=12)\n",
        "    end = pd.to_datetime(sleep_date) + timedelta(hours=12)\n",
        "    base_time = pd.date_range(start=start, end=end, freq='1min')[:-1]\n",
        "\n",
        "    df_base = pd.DataFrame({'timestamp': base_time})\n",
        "    merged = df_base.copy()\n",
        "\n",
        "    for input_name, columns in feature_structure.items():\n",
        "        df = input_dict[input_name]\n",
        "        df = df[df['subject_id'] == subject_id].copy()\n",
        "        df = df.sort_values('timestamp').set_index('timestamp')\n",
        "        df = df[~df.index.duplicated(keep='last')]\n",
        "        df = df.reindex(base_time)\n",
        "        df = df.ffill().bfill().infer_objects().reset_index()  # 앞뒤 모두 보간\n",
        "\n",
        "        for col in columns:\n",
        "            merged[col] = df[col]\n",
        "\n",
        "    merged.drop(columns=['timestamp'], inplace=True)\n",
        "    return merged.fillna(0)\n",
        "\n",
        "# dict 구조로 안전하게 전달\n",
        "input_dict = {\n",
        "    'input1': input1, 'input2': input2, 'input3': input3,\n",
        "    'input4': input4, 'input5': input5, 'input6': input6,\n",
        "    'input7': input7, 'input8': input8, 'input9': input9,\n",
        "    'input10': input10, 'input11': input11, 'input12': input12\n",
        "}"
      ]
    },
    {
      "cell_type": "markdown",
      "id": "134ef86a",
      "metadata": {
        "id": "134ef86a"
      },
      "source": [
        "# Input 데이터 생성"
      ]
    },
    {
      "cell_type": "code",
      "execution_count": null,
      "id": "5143b02b",
      "metadata": {
        "collapsed": true,
        "id": "5143b02b"
      },
      "outputs": [],
      "source": [
        "# 시계열 생성\n",
        "X_seq = []\n",
        "for _, row in tqdm(df_label.iterrows(), total=len(df_label)):\n",
        "    x = merge_input_timeseries(row['subject_id'], row['lifelog_date'], row['sleep_date'], input_dict)\n",
        "    X_seq.append(x.values)\n",
        "\n",
        "X_seq = np.stack(X_seq)\n",
        "y_target = df_label[['Q1', 'Q2', 'Q3', 'S1', 'S2', 'S3']].values"
      ]
    },
    {
      "cell_type": "code",
      "source": [
        "print(X_seq.shape)\n",
        "print(y_target.shape)"
      ],
      "metadata": {
        "colab": {
          "base_uri": "https://localhost:8080/"
        },
        "id": "ASMO0hGpSmTX",
        "outputId": "9527805c-f09d-4baa-fb75-b1bea72fcb17"
      },
      "id": "ASMO0hGpSmTX",
      "execution_count": 27,
      "outputs": [
        {
          "output_type": "stream",
          "name": "stdout",
          "text": [
            "(450, 1440, 60)\n",
            "(450, 6)\n"
          ]
        }
      ]
    },
    {
      "cell_type": "markdown",
      "id": "2b66b7ba",
      "metadata": {
        "id": "2b66b7ba"
      },
      "source": [
        "# Model Compile 모델 구성"
      ]
    },
    {
      "cell_type": "code",
      "execution_count": null,
      "id": "bc3773bc",
      "metadata": {
        "id": "bc3773bc",
        "outputId": "b72e9287-b175-4ea1-cdf2-bf2aa2f5bb05"
      },
      "outputs": [
        {
          "name": "stderr",
          "output_type": "stream",
          "text": [
            "2025-04-26 18:11:11.238841: I tensorflow/compiler/xla/stream_executor/cuda/cuda_gpu_executor.cc:981] could not open file to read NUMA node: /sys/bus/pci/devices/0000:01:00.0/numa_node\n",
            "Your kernel may have been built without NUMA support.\n",
            "2025-04-26 18:11:11.253254: I tensorflow/compiler/xla/stream_executor/cuda/cuda_gpu_executor.cc:981] could not open file to read NUMA node: /sys/bus/pci/devices/0000:01:00.0/numa_node\n",
            "Your kernel may have been built without NUMA support.\n",
            "2025-04-26 18:11:11.253417: I tensorflow/compiler/xla/stream_executor/cuda/cuda_gpu_executor.cc:981] could not open file to read NUMA node: /sys/bus/pci/devices/0000:01:00.0/numa_node\n",
            "Your kernel may have been built without NUMA support.\n",
            "2025-04-26 18:11:11.255873: I tensorflow/compiler/xla/stream_executor/cuda/cuda_gpu_executor.cc:981] could not open file to read NUMA node: /sys/bus/pci/devices/0000:01:00.0/numa_node\n",
            "Your kernel may have been built without NUMA support.\n",
            "2025-04-26 18:11:11.255999: I tensorflow/compiler/xla/stream_executor/cuda/cuda_gpu_executor.cc:981] could not open file to read NUMA node: /sys/bus/pci/devices/0000:01:00.0/numa_node\n",
            "Your kernel may have been built without NUMA support.\n",
            "2025-04-26 18:11:11.256096: I tensorflow/compiler/xla/stream_executor/cuda/cuda_gpu_executor.cc:981] could not open file to read NUMA node: /sys/bus/pci/devices/0000:01:00.0/numa_node\n",
            "Your kernel may have been built without NUMA support.\n",
            "2025-04-26 18:11:11.358516: I tensorflow/compiler/xla/stream_executor/cuda/cuda_gpu_executor.cc:981] could not open file to read NUMA node: /sys/bus/pci/devices/0000:01:00.0/numa_node\n",
            "Your kernel may have been built without NUMA support.\n",
            "2025-04-26 18:11:11.358743: I tensorflow/compiler/xla/stream_executor/cuda/cuda_gpu_executor.cc:981] could not open file to read NUMA node: /sys/bus/pci/devices/0000:01:00.0/numa_node\n",
            "Your kernel may have been built without NUMA support.\n",
            "2025-04-26 18:11:11.358756: I tensorflow/core/common_runtime/gpu/gpu_device.cc:1726] Could not identify NUMA node of platform GPU id 0, defaulting to 0.  Your kernel may not have been built with NUMA support.\n",
            "2025-04-26 18:11:11.358902: I tensorflow/compiler/xla/stream_executor/cuda/cuda_gpu_executor.cc:981] could not open file to read NUMA node: /sys/bus/pci/devices/0000:01:00.0/numa_node\n",
            "Your kernel may have been built without NUMA support.\n",
            "2025-04-26 18:11:11.358935: I tensorflow/core/common_runtime/gpu/gpu_device.cc:1639] Created device /job:localhost/replica:0/task:0/device:GPU:0 with 9711 MB memory:  -> device: 0, name: NVIDIA GeForce RTX 3060, pci bus id: 0000:01:00.0, compute capability: 8.6\n"
          ]
        }
      ],
      "source": [
        "def build_improved_cnn_model(X_seq):\n",
        "    input_shape = (X_seq.shape[1], X_seq.shape[2])  # 1440, feature 수 자동 추출\n",
        "    inp = Input(shape=input_shape)\n",
        "\n",
        "    # Conv Block 1\n",
        "    x = layers.Conv1D(64, kernel_size=5, strides=2, padding='same')(inp)\n",
        "    x = layers.BatchNormalization()(x)\n",
        "    x = layers.Activation('relu')(x)\n",
        "\n",
        "    # Conv Block 2\n",
        "    x = layers.Conv1D(128, kernel_size=5, strides=2, padding='same')(x)\n",
        "    x = layers.BatchNormalization()(x)\n",
        "    x = layers.Activation('relu')(x)\n",
        "\n",
        "    # Conv Block 3\n",
        "    x = layers.Conv1D(256, kernel_size=3, strides=2, padding='same')(x)\n",
        "    x = layers.BatchNormalization()(x)\n",
        "    x = layers.Activation('relu')(x)\n",
        "\n",
        "    # Conv Block 4\n",
        "    x = layers.Conv1D(512, kernel_size=3, strides=2, padding='same')(x)\n",
        "    x = layers.BatchNormalization()(x)\n",
        "    x = layers.Activation('relu')(x)\n",
        "\n",
        "    x = layers.GlobalAveragePooling1D()(x)\n",
        "\n",
        "    # Dense block\n",
        "    x = layers.Dense(256, activation='relu')(x)\n",
        "    x = layers.Dropout(0.3)(x)\n",
        "    x = layers.Dense(128, activation='relu')(x)\n",
        "    x = layers.Dropout(0.2)(x)\n",
        "\n",
        "    # Outputs\n",
        "    out_q1 = layers.Dense(1, activation='sigmoid', name='Q1')(x)\n",
        "    out_q2 = layers.Dense(1, activation='sigmoid', name='Q2')(x)\n",
        "    out_q3 = layers.Dense(1, activation='sigmoid', name='Q3')(x)\n",
        "    out_s1 = layers.Dense(3, activation='softmax', name='S1')(x)\n",
        "    out_s2 = layers.Dense(1, activation='sigmoid', name='S2')(x)\n",
        "    out_s3 = layers.Dense(1, activation='sigmoid', name='S3')(x)\n",
        "\n",
        "    model = models.Model(inputs=inp, outputs=[out_q1, out_q2, out_q3, out_s1, out_s2, out_s3])\n",
        "    return model\n",
        "\n",
        "model = build_improved_cnn_model(X_seq)\n",
        "\n",
        "early_stop = EarlyStopping(\n",
        "    monitor='val_loss',\n",
        "    patience=7,\n",
        "    restore_best_weights=True\n",
        ")\n",
        "\n",
        "model.compile(\n",
        "    optimizer=Adam(learning_rate=0.0005),  # learning rate ↓\n",
        "    loss={\n",
        "        'Q1': 'binary_crossentropy',\n",
        "        'Q2': 'binary_crossentropy',\n",
        "        'Q3': 'binary_crossentropy',\n",
        "        'S1': 'sparse_categorical_crossentropy',\n",
        "        'S2': 'binary_crossentropy',\n",
        "        'S3': 'binary_crossentropy',\n",
        "    },\n",
        "    metrics=['accuracy']\n",
        ")"
      ]
    },
    {
      "cell_type": "markdown",
      "id": "8c75ac3d",
      "metadata": {
        "id": "8c75ac3d"
      },
      "source": [
        "# Model Fit, 모델학습"
      ]
    },
    {
      "cell_type": "code",
      "execution_count": null,
      "id": "9134cb6d",
      "metadata": {
        "id": "9134cb6d",
        "outputId": "9b2d9724-462a-4a48-c20c-56b3248d2db3"
      },
      "outputs": [
        {
          "name": "stdout",
          "output_type": "stream",
          "text": [
            "Epoch 1/100\n"
          ]
        },
        {
          "name": "stderr",
          "output_type": "stream",
          "text": [
            "2025-04-26 18:11:13.570752: I tensorflow/compiler/xla/stream_executor/cuda/cuda_dnn.cc:432] Loaded cuDNN version 8600\n",
            "2025-04-26 18:11:13.759792: I tensorflow/compiler/xla/stream_executor/cuda/cuda_blas.cc:606] TensorFloat-32 will be used for the matrix multiplication. This will only be logged once.\n",
            "2025-04-26 18:11:13.835423: I tensorflow/compiler/xla/service/service.cc:168] XLA service 0x7fa25c00e020 initialized for platform CUDA (this does not guarantee that XLA will be used). Devices:\n",
            "2025-04-26 18:11:13.835457: I tensorflow/compiler/xla/service/service.cc:176]   StreamExecutor device (0): NVIDIA GeForce RTX 3060, Compute Capability 8.6\n",
            "2025-04-26 18:11:13.865336: I tensorflow/compiler/mlir/tensorflow/utils/dump_mlir_util.cc:255] disabling MLIR crash reproducer, set env var `MLIR_CRASH_REPRODUCER_DIRECTORY` to enable.\n",
            "2025-04-26 18:11:14.067556: I ./tensorflow/compiler/jit/device_compiler.h:186] Compiled cluster using XLA!  This line is logged at most once for the lifetime of the process.\n"
          ]
        },
        {
          "name": "stdout",
          "output_type": "stream",
          "text": [
            "12/12 [==============================] - 4s 54ms/step - loss: 4.6047 - Q1_loss: 0.6859 - Q2_loss: 0.6963 - Q3_loss: 0.6975 - S1_loss: 1.1655 - S2_loss: 0.6682 - S3_loss: 0.6913 - Q1_accuracy: 0.5556 - Q2_accuracy: 0.5639 - Q3_accuracy: 0.5250 - S1_accuracy: 0.4194 - S2_accuracy: 0.5861 - S3_accuracy: 0.5778 - val_loss: 4.4560 - val_Q1_loss: 0.6814 - val_Q2_loss: 0.6924 - val_Q3_loss: 0.6743 - val_S1_loss: 1.0558 - val_S2_loss: 0.6727 - val_S3_loss: 0.6794 - val_Q1_accuracy: 0.6111 - val_Q2_accuracy: 0.5444 - val_Q3_accuracy: 0.5778 - val_S1_accuracy: 0.4667 - val_S2_accuracy: 0.6222 - val_S3_accuracy: 0.6556\n",
            "Epoch 2/100\n",
            "12/12 [==============================] - 0s 22ms/step - loss: 4.2003 - Q1_loss: 0.6496 - Q2_loss: 0.6822 - Q3_loss: 0.6461 - S1_loss: 0.9902 - S2_loss: 0.6323 - S3_loss: 0.5999 - Q1_accuracy: 0.6111 - Q2_accuracy: 0.6028 - Q3_accuracy: 0.6250 - S1_accuracy: 0.5083 - S2_accuracy: 0.6778 - S3_accuracy: 0.6833 - val_loss: 4.4982 - val_Q1_loss: 0.6856 - val_Q2_loss: 0.6892 - val_Q3_loss: 0.6738 - val_S1_loss: 1.0522 - val_S2_loss: 0.7024 - val_S3_loss: 0.6951 - val_Q1_accuracy: 0.5667 - val_Q2_accuracy: 0.5222 - val_Q3_accuracy: 0.5889 - val_S1_accuracy: 0.5000 - val_S2_accuracy: 0.3556 - val_S3_accuracy: 0.4778\n",
            "Epoch 3/100\n",
            "12/12 [==============================] - 0s 22ms/step - loss: 4.0469 - Q1_loss: 0.6311 - Q2_loss: 0.6451 - Q3_loss: 0.6304 - S1_loss: 0.9376 - S2_loss: 0.6168 - S3_loss: 0.5859 - Q1_accuracy: 0.6361 - Q2_accuracy: 0.6028 - Q3_accuracy: 0.6389 - S1_accuracy: 0.5306 - S2_accuracy: 0.6806 - S3_accuracy: 0.6917 - val_loss: 4.4761 - val_Q1_loss: 0.6734 - val_Q2_loss: 0.6876 - val_Q3_loss: 0.6670 - val_S1_loss: 1.0468 - val_S2_loss: 0.7088 - val_S3_loss: 0.6925 - val_Q1_accuracy: 0.6111 - val_Q2_accuracy: 0.5222 - val_Q3_accuracy: 0.6111 - val_S1_accuracy: 0.5000 - val_S2_accuracy: 0.3333 - val_S3_accuracy: 0.5000\n",
            "Epoch 4/100\n",
            "12/12 [==============================] - 0s 23ms/step - loss: 3.8963 - Q1_loss: 0.6067 - Q2_loss: 0.6350 - Q3_loss: 0.6182 - S1_loss: 0.8859 - S2_loss: 0.6044 - S3_loss: 0.5461 - Q1_accuracy: 0.6722 - Q2_accuracy: 0.6472 - Q3_accuracy: 0.6556 - S1_accuracy: 0.5806 - S2_accuracy: 0.6444 - S3_accuracy: 0.7083 - val_loss: 4.4558 - val_Q1_loss: 0.6686 - val_Q2_loss: 0.6885 - val_Q3_loss: 0.6653 - val_S1_loss: 1.0544 - val_S2_loss: 0.6937 - val_S3_loss: 0.6854 - val_Q1_accuracy: 0.6000 - val_Q2_accuracy: 0.5000 - val_Q3_accuracy: 0.6222 - val_S1_accuracy: 0.4778 - val_S2_accuracy: 0.5000 - val_S3_accuracy: 0.5444\n",
            "Epoch 5/100\n",
            "12/12 [==============================] - 4s 357ms/step - loss: 3.7831 - Q1_loss: 0.6014 - Q2_loss: 0.6094 - Q3_loss: 0.5925 - S1_loss: 0.8685 - S2_loss: 0.5777 - S3_loss: 0.5336 - Q1_accuracy: 0.6694 - Q2_accuracy: 0.6667 - Q3_accuracy: 0.6778 - S1_accuracy: 0.6139 - S2_accuracy: 0.6750 - S3_accuracy: 0.7361 - val_loss: 4.3867 - val_Q1_loss: 0.6667 - val_Q2_loss: 0.6860 - val_Q3_loss: 0.6560 - val_S1_loss: 1.0487 - val_S2_loss: 0.6695 - val_S3_loss: 0.6597 - val_Q1_accuracy: 0.6111 - val_Q2_accuracy: 0.5444 - val_Q3_accuracy: 0.6111 - val_S1_accuracy: 0.5778 - val_S2_accuracy: 0.6111 - val_S3_accuracy: 0.6444\n",
            "Epoch 6/100\n",
            "12/12 [==============================] - 0s 22ms/step - loss: 3.6980 - Q1_loss: 0.5830 - Q2_loss: 0.6186 - Q3_loss: 0.6023 - S1_loss: 0.8245 - S2_loss: 0.5353 - S3_loss: 0.5343 - Q1_accuracy: 0.6806 - Q2_accuracy: 0.6528 - Q3_accuracy: 0.6639 - S1_accuracy: 0.6167 - S2_accuracy: 0.7222 - S3_accuracy: 0.7222 - val_loss: 4.3838 - val_Q1_loss: 0.6714 - val_Q2_loss: 0.6855 - val_Q3_loss: 0.6654 - val_S1_loss: 1.0442 - val_S2_loss: 0.6720 - val_S3_loss: 0.6454 - val_Q1_accuracy: 0.6333 - val_Q2_accuracy: 0.5333 - val_Q3_accuracy: 0.5889 - val_S1_accuracy: 0.4889 - val_S2_accuracy: 0.5889 - val_S3_accuracy: 0.6889\n",
            "Epoch 7/100\n",
            "12/12 [==============================] - 0s 23ms/step - loss: 3.5466 - Q1_loss: 0.5856 - Q2_loss: 0.5895 - Q3_loss: 0.5655 - S1_loss: 0.7916 - S2_loss: 0.5181 - S3_loss: 0.4963 - Q1_accuracy: 0.7000 - Q2_accuracy: 0.6639 - Q3_accuracy: 0.7000 - S1_accuracy: 0.6472 - S2_accuracy: 0.7444 - S3_accuracy: 0.7806 - val_loss: 4.3820 - val_Q1_loss: 0.6798 - val_Q2_loss: 0.6892 - val_Q3_loss: 0.6640 - val_S1_loss: 1.0515 - val_S2_loss: 0.6566 - val_S3_loss: 0.6408 - val_Q1_accuracy: 0.5444 - val_Q2_accuracy: 0.4889 - val_Q3_accuracy: 0.6111 - val_S1_accuracy: 0.4222 - val_S2_accuracy: 0.6000 - val_S3_accuracy: 0.7222\n",
            "Epoch 8/100\n",
            "12/12 [==============================] - 0s 23ms/step - loss: 3.4175 - Q1_loss: 0.5420 - Q2_loss: 0.5655 - Q3_loss: 0.5373 - S1_loss: 0.7617 - S2_loss: 0.5139 - S3_loss: 0.4972 - Q1_accuracy: 0.7333 - Q2_accuracy: 0.6806 - Q3_accuracy: 0.7333 - S1_accuracy: 0.6722 - S2_accuracy: 0.7611 - S3_accuracy: 0.7500 - val_loss: 4.3292 - val_Q1_loss: 0.6676 - val_Q2_loss: 0.6908 - val_Q3_loss: 0.6519 - val_S1_loss: 1.0488 - val_S2_loss: 0.6451 - val_S3_loss: 0.6251 - val_Q1_accuracy: 0.6000 - val_Q2_accuracy: 0.4667 - val_Q3_accuracy: 0.5778 - val_S1_accuracy: 0.4778 - val_S2_accuracy: 0.6667 - val_S3_accuracy: 0.6889\n",
            "Epoch 9/100\n",
            "12/12 [==============================] - 0s 23ms/step - loss: 3.2673 - Q1_loss: 0.5194 - Q2_loss: 0.5537 - Q3_loss: 0.5538 - S1_loss: 0.7174 - S2_loss: 0.4581 - S3_loss: 0.4650 - Q1_accuracy: 0.7583 - Q2_accuracy: 0.7167 - Q3_accuracy: 0.7083 - S1_accuracy: 0.6694 - S2_accuracy: 0.7972 - S3_accuracy: 0.7611 - val_loss: 4.2880 - val_Q1_loss: 0.6681 - val_Q2_loss: 0.7029 - val_Q3_loss: 0.6417 - val_S1_loss: 1.0443 - val_S2_loss: 0.6177 - val_S3_loss: 0.6134 - val_Q1_accuracy: 0.5667 - val_Q2_accuracy: 0.4778 - val_Q3_accuracy: 0.5778 - val_S1_accuracy: 0.4667 - val_S2_accuracy: 0.6556 - val_S3_accuracy: 0.7111\n",
            "Epoch 10/100\n",
            "12/12 [==============================] - 0s 22ms/step - loss: 3.1531 - Q1_loss: 0.5117 - Q2_loss: 0.5345 - Q3_loss: 0.5092 - S1_loss: 0.6588 - S2_loss: 0.4670 - S3_loss: 0.4719 - Q1_accuracy: 0.7444 - Q2_accuracy: 0.7361 - Q3_accuracy: 0.7667 - S1_accuracy: 0.7083 - S2_accuracy: 0.7861 - S3_accuracy: 0.7778 - val_loss: 4.3251 - val_Q1_loss: 0.6824 - val_Q2_loss: 0.7009 - val_Q3_loss: 0.6497 - val_S1_loss: 1.0729 - val_S2_loss: 0.6104 - val_S3_loss: 0.6088 - val_Q1_accuracy: 0.5222 - val_Q2_accuracy: 0.4778 - val_Q3_accuracy: 0.5778 - val_S1_accuracy: 0.4222 - val_S2_accuracy: 0.6667 - val_S3_accuracy: 0.6889\n",
            "Epoch 11/100\n",
            "12/12 [==============================] - 0s 22ms/step - loss: 2.9794 - Q1_loss: 0.4584 - Q2_loss: 0.5038 - Q3_loss: 0.4941 - S1_loss: 0.6114 - S2_loss: 0.4697 - S3_loss: 0.4420 - Q1_accuracy: 0.7750 - Q2_accuracy: 0.7583 - Q3_accuracy: 0.7417 - S1_accuracy: 0.7528 - S2_accuracy: 0.7694 - S3_accuracy: 0.7944 - val_loss: 4.3896 - val_Q1_loss: 0.6920 - val_Q2_loss: 0.7099 - val_Q3_loss: 0.6740 - val_S1_loss: 1.0808 - val_S2_loss: 0.6170 - val_S3_loss: 0.6159 - val_Q1_accuracy: 0.5333 - val_Q2_accuracy: 0.4556 - val_Q3_accuracy: 0.5667 - val_S1_accuracy: 0.3889 - val_S2_accuracy: 0.6889 - val_S3_accuracy: 0.6778\n",
            "Epoch 12/100\n",
            "12/12 [==============================] - 0s 22ms/step - loss: 2.8734 - Q1_loss: 0.4486 - Q2_loss: 0.4856 - Q3_loss: 0.4919 - S1_loss: 0.6284 - S2_loss: 0.4136 - S3_loss: 0.4053 - Q1_accuracy: 0.8194 - Q2_accuracy: 0.7750 - Q3_accuracy: 0.7750 - S1_accuracy: 0.7333 - S2_accuracy: 0.8083 - S3_accuracy: 0.8222 - val_loss: 4.3694 - val_Q1_loss: 0.6845 - val_Q2_loss: 0.7305 - val_Q3_loss: 0.6309 - val_S1_loss: 1.1135 - val_S2_loss: 0.6066 - val_S3_loss: 0.6033 - val_Q1_accuracy: 0.5111 - val_Q2_accuracy: 0.4889 - val_Q3_accuracy: 0.6778 - val_S1_accuracy: 0.4444 - val_S2_accuracy: 0.6667 - val_S3_accuracy: 0.6778\n",
            "Epoch 13/100\n",
            "12/12 [==============================] - 0s 22ms/step - loss: 2.7089 - Q1_loss: 0.4353 - Q2_loss: 0.4755 - Q3_loss: 0.4442 - S1_loss: 0.5444 - S2_loss: 0.4041 - S3_loss: 0.4054 - Q1_accuracy: 0.8000 - Q2_accuracy: 0.7833 - Q3_accuracy: 0.7917 - S1_accuracy: 0.7611 - S2_accuracy: 0.8278 - S3_accuracy: 0.8083 - val_loss: 4.3092 - val_Q1_loss: 0.7078 - val_Q2_loss: 0.7496 - val_Q3_loss: 0.6100 - val_S1_loss: 1.0255 - val_S2_loss: 0.6112 - val_S3_loss: 0.6051 - val_Q1_accuracy: 0.5000 - val_Q2_accuracy: 0.4889 - val_Q3_accuracy: 0.6444 - val_S1_accuracy: 0.4667 - val_S2_accuracy: 0.6667 - val_S3_accuracy: 0.6778\n",
            "Epoch 14/100\n",
            "12/12 [==============================] - 0s 22ms/step - loss: 2.5834 - Q1_loss: 0.4151 - Q2_loss: 0.4650 - Q3_loss: 0.4423 - S1_loss: 0.5063 - S2_loss: 0.3753 - S3_loss: 0.3792 - Q1_accuracy: 0.8194 - Q2_accuracy: 0.7556 - Q3_accuracy: 0.7806 - S1_accuracy: 0.7833 - S2_accuracy: 0.8333 - S3_accuracy: 0.8250 - val_loss: 4.3388 - val_Q1_loss: 0.6789 - val_Q2_loss: 0.7222 - val_Q3_loss: 0.6409 - val_S1_loss: 1.0761 - val_S2_loss: 0.6182 - val_S3_loss: 0.6025 - val_Q1_accuracy: 0.6000 - val_Q2_accuracy: 0.5111 - val_Q3_accuracy: 0.6222 - val_S1_accuracy: 0.5000 - val_S2_accuracy: 0.6667 - val_S3_accuracy: 0.7000\n",
            "Epoch 15/100\n",
            "12/12 [==============================] - 0s 22ms/step - loss: 2.5258 - Q1_loss: 0.3902 - Q2_loss: 0.4413 - Q3_loss: 0.4317 - S1_loss: 0.4941 - S2_loss: 0.3661 - S3_loss: 0.4023 - Q1_accuracy: 0.8194 - Q2_accuracy: 0.8056 - Q3_accuracy: 0.8000 - S1_accuracy: 0.7917 - S2_accuracy: 0.8333 - S3_accuracy: 0.8028 - val_loss: 4.5473 - val_Q1_loss: 0.7105 - val_Q2_loss: 0.7404 - val_Q3_loss: 0.6822 - val_S1_loss: 1.1221 - val_S2_loss: 0.6439 - val_S3_loss: 0.6481 - val_Q1_accuracy: 0.6222 - val_Q2_accuracy: 0.5000 - val_Q3_accuracy: 0.6556 - val_S1_accuracy: 0.4889 - val_S2_accuracy: 0.6222 - val_S3_accuracy: 0.6778\n",
            "Epoch 16/100\n",
            "12/12 [==============================] - 0s 24ms/step - loss: 2.2962 - Q1_loss: 0.3385 - Q2_loss: 0.3997 - Q3_loss: 0.3909 - S1_loss: 0.4730 - S2_loss: 0.3449 - S3_loss: 0.3492 - Q1_accuracy: 0.8583 - Q2_accuracy: 0.7972 - Q3_accuracy: 0.8389 - S1_accuracy: 0.8083 - S2_accuracy: 0.8583 - S3_accuracy: 0.8333 - val_loss: 4.7893 - val_Q1_loss: 0.7689 - val_Q2_loss: 0.7344 - val_Q3_loss: 0.6728 - val_S1_loss: 1.2147 - val_S2_loss: 0.7314 - val_S3_loss: 0.6671 - val_Q1_accuracy: 0.4556 - val_Q2_accuracy: 0.5667 - val_Q3_accuracy: 0.6444 - val_S1_accuracy: 0.4111 - val_S2_accuracy: 0.6333 - val_S3_accuracy: 0.6889\n"
          ]
        }
      ],
      "source": [
        "# 데이터 분할 (명시적으로)\n",
        "X_train, X_val, y_train, y_val = train_test_split(X_seq, y_target, test_size=0.2, random_state=42)\n",
        "\n",
        "# 모델 학습습\n",
        "history = model.fit(\n",
        "    X_train, {\n",
        "        'Q1': y_train[:, 0],\n",
        "        'Q2': y_train[:, 1],\n",
        "        'Q3': y_train[:, 2],\n",
        "        'S1': y_train[:, 3],\n",
        "        'S2': y_train[:, 4],\n",
        "        'S3': y_train[:, 5]\n",
        "    },\n",
        "    validation_data=(X_val, {\n",
        "        'Q1': y_val[:, 0],\n",
        "        'Q2': y_val[:, 1],\n",
        "        'Q3': y_val[:, 2],\n",
        "        'S1': y_val[:, 3],\n",
        "        'S2': y_val[:, 4],\n",
        "        'S3': y_val[:, 5]\n",
        "    }),\n",
        "    epochs=100,\n",
        "    batch_size=32,\n",
        "    shuffle=False,\n",
        "    callbacks=[early_stop]\n",
        ")"
      ]
    },
    {
      "cell_type": "markdown",
      "id": "6e6195fa",
      "metadata": {
        "id": "6e6195fa"
      },
      "source": [
        "# Model Prediction, 모델 예측 평가"
      ]
    },
    {
      "cell_type": "code",
      "execution_count": null,
      "id": "328ed6b0",
      "metadata": {
        "id": "328ed6b0",
        "outputId": "aca27415-2270-4075-a801-a67f6e8fc16c"
      },
      "outputs": [
        {
          "name": "stdout",
          "output_type": "stream",
          "text": [
            "15/15 [==============================] - 0s 5ms/step\n",
            "📊 Macro F1 Score (전체 평균): 0.63904\n"
          ]
        }
      ],
      "source": [
        "# 예측 및 F1 평가\n",
        "y_pred = model.predict(X_seq)\n",
        "binary_indices = [0, 1, 2, 4, 5]\n",
        "y_pred_binary = [(y_pred[i] > 0.5).astype(int).reshape(-1) for i in binary_indices]\n",
        "y_true_binary = [y_target[:, i] for i in binary_indices]\n",
        "y_pred_multiclass = np.argmax(y_pred[3], axis=1)\n",
        "y_true_multiclass = y_target[:, 3]\n",
        "f1s = [f1_score(y_true_binary[i], y_pred_binary[i], average='macro') for i in range(5)]\n",
        "f1s.append(f1_score(y_true_multiclass, y_pred_multiclass, average='macro'))\n",
        "macro_f1_total = np.mean(f1s)\n",
        "\n",
        "print(\"📊 Macro F1 Score (전체 평균):\", round(macro_f1_total, 5))"
      ]
    },
    {
      "cell_type": "markdown",
      "id": "4f116709",
      "metadata": {
        "id": "4f116709"
      },
      "source": [
        "# Submission csv 파일 생성"
      ]
    },
    {
      "cell_type": "code",
      "execution_count": null,
      "id": "2894ba7a",
      "metadata": {
        "id": "2894ba7a",
        "outputId": "98a06f41-0a74-4c16-8a94-63e5afa33ba7"
      },
      "outputs": [
        {
          "name": "stderr",
          "output_type": "stream",
          "text": [
            "100%|██████████| 250/250 [00:56<00:00,  4.41it/s]\n"
          ]
        },
        {
          "name": "stdout",
          "output_type": "stream",
          "text": [
            "8/8 [==============================] - 0s 22ms/step\n"
          ]
        }
      ],
      "source": [
        "\n",
        "'''\n",
        "df_label = pd.read_csv(\"/content/drive/MyDrive/Sleep/ch2025_submission_sample.csv\")\n",
        "\n",
        "# 시계열 입력 생성\n",
        "X_seq = []\n",
        "for _, row in tqdm(df_label.iterrows(), total=len(df_label)):\n",
        "    x = x = merge_input_timeseries(row['subject_id'], row['lifelog_date'], row['sleep_date'], input_dict)\n",
        "    X_seq.append(x.values)\n",
        "\n",
        "X_seq = np.stack(X_seq)  # shape = (N, 1440, 21)\n",
        "y_target = df_label[['Q1', 'Q2', 'Q3', 'S1', 'S2', 'S3']].values\n",
        "\n",
        "# 예측\n",
        "y_pred = model.predict(X_seq)\n",
        "\n",
        "# 이진 분류 결과\n",
        "binary_indices = [0, 1, 2, 4, 5]\n",
        "y_pred_binary = [(y_pred[i] > 0.5).astype(int).reshape(-1) for i in binary_indices]\n",
        "y_true_binary = [y_target[:, i] for i in binary_indices]\n",
        "\n",
        "# 다중 분류 (S1)\n",
        "y_pred_multiclass = np.argmax(y_pred[3], axis=1)\n",
        "y_true_multiclass = y_target[:, 3]\n",
        "\n",
        "# 이진 분류: Q1, Q2, Q3, S2, S3\n",
        "binary_indices = [0, 1, 2, 4, 5]\n",
        "y_pred_binary = [(y_pred[i] > 0.5).astype(int).reshape(-1) for i in binary_indices]\n",
        "\n",
        "# 다중 분류: S1\n",
        "y_pred_multiclass = np.argmax(y_pred[3], axis=1)\n",
        "\n",
        "submission_sample = pd.read_csv(\"/content/drive/MyDrive/Sleep/ch2025_submission_sample.csv\")\n",
        "\n",
        "# 결과 입력\n",
        "submission = submission_sample.copy()\n",
        "submission['Q1'] = y_pred_binary[0]\n",
        "submission['Q2'] = y_pred_binary[1]\n",
        "submission['Q3'] = y_pred_binary[2]\n",
        "submission['S1'] = y_pred_multiclass\n",
        "submission['S2'] = y_pred_binary[3]\n",
        "submission['S3'] = y_pred_binary[4]\n",
        "\n",
        "# 저장\n",
        "submission.to_csv(\"0427_3차.csv\", index=False)\n",
        "'''"
      ]
    },
    {
      "cell_type": "markdown",
      "source": [
        "# 정규화한 텐서 이미지"
      ],
      "metadata": {
        "id": "9nsm2dzWZu5M"
      },
      "id": "9nsm2dzWZu5M"
    },
    {
      "cell_type": "code",
      "source": [
        "import matplotlib.pyplot as plt\n",
        "\n",
        "# 첫 번째 샘플(0번)\n",
        "img_tensor = X_tensor[0,0]     # shape = (60,1440), 값은 0~1\n",
        "\n",
        "plt.figure(figsize=(12, 4))\n",
        "plt.imshow(img_tensor.numpy(), aspect='auto', cmap='gray',\n",
        "           vmin=0, vmax=1)         # 0~1 범위로 고정\n",
        "plt.title('Sensor → Image (normalized)')\n",
        "plt.xlabel('Time (min)')\n",
        "plt.ylabel('Channel (1–60)')\n",
        "plt.colorbar(label='Pixel intensity (0–1)')\n",
        "plt.tight_layout()\n",
        "plt.show()"
      ],
      "metadata": {
        "colab": {
          "base_uri": "https://localhost:8080/",
          "height": 407
        },
        "id": "mUVKAdabUMMK",
        "outputId": "1acecdcb-4923-433b-d97d-8c747978a984"
      },
      "id": "mUVKAdabUMMK",
      "execution_count": 46,
      "outputs": [
        {
          "output_type": "display_data",
          "data": {
            "text/plain": [
              "<Figure size 1200x400 with 2 Axes>"
            ],
            "image/png": "[encoded data removed]"
          },
          "metadata": {}
        }
      ]
    },
    {
      "cell_type": "markdown",
      "source": [
        "# (1) 스택 & 채널×시간 형태로 변환"
      ],
      "metadata": {
        "id": "FeZASpWBPMjo"
      },
      "id": "FeZASpWBPMjo"
    },
    {
      "cell_type": "code",
      "source": [
        "# 1) NumPy → Tensor 전처리\n",
        "# X_seq: 리스트 of (1440,60) → NumPy stack → (N,1440,60)\n",
        "X = np.stack(X_seq)                # (N,1440,60)\n",
        "X = X.transpose(0,2,1)            # (N,60,1440)\n",
        "X_tensor = torch.from_numpy(X)    # (N,60,1440)\n",
        "# CNN에 입력하려면 channel 차원(1) 추가\n",
        "X_tensor = X_tensor.unsqueeze(1).float()  # (N,1,60,1440)\n",
        "\n",
        "# y_target: (N,6)\n",
        "y_tensor = torch.from_numpy(y_target).float()  # (N,6)"
      ],
      "metadata": {
        "id": "UVnfpHH2pyIm"
      },
      "id": "UVnfpHH2pyIm",
      "execution_count": null,
      "outputs": []
    },
    {
      "cell_type": "markdown",
      "source": [
        "### 1 상관관계로 40개 피처만 남김 -> 50%"
      ],
      "metadata": {
        "id": "KaYwaVp5f-89"
      },
      "id": "KaYwaVp5f-89"
    },
    {
      "cell_type": "code",
      "source": [
        "'''\n",
        "# 1) NumPy → Tensor 전처리\n",
        "from sklearn.decomposition import PCA\n",
        "from scipy.stats import pearsonr\n",
        "\n",
        "# X_seq: 리스트 of (1440,60), y_target: (N,6)\n",
        "N = len(X_seq)\n",
        "T, C = X_seq[0].shape  # T=1440, C=60\n",
        "\n",
        "# 1) NumPy 스택\n",
        "X = np.stack(X_seq)    # (N,1440,60)\n",
        "\n",
        "# ── A. 상관관계 기반 채널 선택 ───────────────────────\n",
        "# 1-1) 하루 평균 기준 상관계수 계산\n",
        "X_mean = X.mean(axis=1)         # (N,60)\n",
        "corrs = np.zeros((C, y_target.shape[1]))\n",
        "for j in range(C):\n",
        "    for k in range(y_target.shape[1]):\n",
        "        corrs[j,k] = pearsonr(X_mean[:,j], y_target[:,k])[0]\n",
        "scores = np.abs(corrs).max(axis=1)        # 채널별 중요도 점수\n",
        "ranked = np.argsort(scores)               # 낮은 순서 정렬\n",
        "\n",
        "# 1-2) 하위 20개 제거\n",
        "n_remove = 20\n",
        "keep_idx = np.setdiff1d(np.arange(C), ranked[:n_remove])\n",
        "# 1-3) 선택된 채널로 재구성\n",
        "X_sel = X[:,:,keep_idx]                   # (N,1440, C-20)\n",
        "in_ch_sel = X_sel.shape[2]\n",
        "\n",
        "# ── Tensor 변환 ──────────────────────────────────\n",
        "# A: 선택된 채널용\n",
        "X_sel_t = torch.from_numpy(X_sel.transpose(0,2,1))  # (N, C-20, T)\n",
        "X_sel_t = X_sel_t.unsqueeze(1).float()              # (N,1, C-20, T)\n",
        "\n",
        "# y_target: (N,6)\n",
        "y_tensor = torch.from_numpy(y_target).float()  # (N,6)\n",
        "\n",
        "# 입력 텐서\n",
        "X_tensor = X_sel_t   # shape = (N,1,40,1440)\n",
        "in_ch = 1\n",
        "H = 40\n",
        "W = 1440\n",
        "\n",
        "'''"
      ],
      "metadata": {
        "id": "d6TeO8pdPRlW"
      },
      "id": "d6TeO8pdPRlW",
      "execution_count": 52,
      "outputs": []
    },
    {
      "cell_type": "markdown",
      "source": [
        "### 2 pca 차원축소 - 51%"
      ],
      "metadata": {
        "id": "4QzgXWqdgDfc"
      },
      "id": "4QzgXWqdgDfc"
    },
    {
      "cell_type": "code",
      "source": [
        "'''\n",
        "# X_seq: 리스트 of (1440,60), y_target: (N,6)\n",
        "N = len(X_seq)\n",
        "T, C = X_seq[0].shape  # T=1440, C=60\n",
        "\n",
        "# 1) NumPy 스택\n",
        "X = np.stack(X_seq)    # (N,1440,60)\n",
        "\n",
        "# ── B. PCA 기반 차원 축소 ─────────────────────────\n",
        "# 1-1) Flatten → PCA\n",
        "X_flat = X.reshape(-1, C)                 # (N*T,60)\n",
        "pca    = PCA(n_components=30)\n",
        "X_pca_flat = pca.fit_transform(X_flat)    # (N*T,30)\n",
        "# 1-2) 다시 (N,1440,30)\n",
        "X_pca = X_pca_flat.reshape(N, T, 30)\n",
        "in_ch_pca = 30\n",
        "\n",
        "# ── Tensor 변환 ──────────────────────────────────\n",
        "# B: PCA 축소용\n",
        "X_pca_t = torch.from_numpy(X_pca.transpose(0,2,1))  # (N,30, T)\n",
        "X_pca_t = X_pca_t.unsqueeze(1).float()              # (N,1,30, T)\n",
        "\n",
        "# y_target: (N,6)\n",
        "y_tensor = torch.from_numpy(y_target).float()  # (N,6)\n",
        "\n",
        "\n",
        "# 입력텐서\n",
        "X_tensor = X_pca_t   # shape = (N,1,30,1440)\n",
        "in_ch = 1\n",
        "H = 30\n",
        "W = 1440\n",
        "'''"
      ],
      "metadata": {
        "id": "GUct0hEWe0O1"
      },
      "id": "GUct0hEWe0O1",
      "execution_count": 72,
      "outputs": []
    },
    {
      "cell_type": "markdown",
      "source": [
        "# (2) Dataset & DataLoader"
      ],
      "metadata": {
        "id": "UFcj-1m2Pm5I"
      },
      "id": "UFcj-1m2Pm5I"
    },
    {
      "cell_type": "code",
      "source": [
        "from torch.utils.data import TensorDataset, DataLoader\n",
        "\n",
        "batch_size = 8\n",
        "ds     = TensorDataset(X_tensor, y_tensor)\n",
        "loader = DataLoader(ds, batch_size=batch_size, shuffle=True, drop_last=True)"
      ],
      "metadata": {
        "id": "jv8RuhVwPo-Q"
      },
      "id": "jv8RuhVwPo-Q",
      "execution_count": 75,
      "outputs": []
    },
    {
      "cell_type": "markdown",
      "source": [
        "# 3) PixleepFlow (자동 feature‐map 크기 계산)"
      ],
      "metadata": {
        "id": "2WAO569cTJ4a"
      },
      "id": "2WAO569cTJ4a"
    },
    {
      "cell_type": "code",
      "source": [
        "class PixleepFlowMultiHead(nn.Module):\n",
        "    def __init__(self, in_ch=1, H=60, W=1440):\n",
        "        super().__init__()\n",
        "        # 2번 Conv→ReLU→Pool\n",
        "        self.features = nn.Sequential(\n",
        "            nn.Conv2d(in_ch, 16, 3, padding=1), nn.ReLU(), nn.MaxPool2d(2),\n",
        "            nn.Conv2d(16, 32, 3, padding=1),     nn.ReLU(), nn.MaxPool2d(2),\n",
        "        )\n",
        "        feat_h, feat_w = H // 4, W // 4  # pooling 두 번\n",
        "        flat_dim = 32 * feat_h * feat_w\n",
        "\n",
        "        # Shared FC\n",
        "        self.shared_fc = nn.Sequential(\n",
        "            nn.Flatten(),\n",
        "            nn.Linear(flat_dim, 128),\n",
        "            nn.ReLU(),\n",
        "        )\n",
        "        # Binary tasks: Q1,Q2,Q3,S2,S3 → 5 logits\n",
        "        self.head_bin = nn.Linear(128, 5)\n",
        "        # Multi-class task: S1 → 3 logits\n",
        "        self.head_s1 = nn.Linear(128, 3)\n",
        "\n",
        "    def forward(self, x):\n",
        "        x = self.features(x)      # → (B,32, feat_h, feat_w)\n",
        "        x = self.shared_fc(x)     # → (B,128)\n",
        "        return self.head_bin(x), self.head_s1(x)"
      ],
      "metadata": {
        "id": "5uinyuRSTLtI"
      },
      "id": "5uinyuRSTLtI",
      "execution_count": 76,
      "outputs": []
    },
    {
      "cell_type": "markdown",
      "source": [
        "# (4) 손실/옵티마이저"
      ],
      "metadata": {
        "id": "BJJah-tUTh6Q"
      },
      "id": "BJJah-tUTh6Q"
    },
    {
      "cell_type": "code",
      "source": [
        "import torch.optim as optim\n",
        "\n",
        "bce = nn.BCEWithLogitsLoss()   # binary\n",
        "ce  = nn.CrossEntropyLoss()    # multi-class\n",
        "\n",
        "device = torch.device('cuda' if torch.cuda.is_available() else 'cpu')\n",
        "model = PixleepFlowMultiHead(in_ch=1, H=60, W=1440).to(device)\n",
        "optimizer = optim.Adam(model.parameters(), lr=1e-3)"
      ],
      "metadata": {
        "id": "RiB9GlUoTjHp"
      },
      "id": "RiB9GlUoTjHp",
      "execution_count": 77,
      "outputs": []
    },
    {
      "cell_type": "code",
      "source": [
        "print(in_ch);print(H)"
      ],
      "metadata": {
        "id": "BeqCp7LxqN7W"
      },
      "id": "BeqCp7LxqN7W",
      "execution_count": null,
      "outputs": []
    },
    {
      "cell_type": "markdown",
      "source": [
        "# 5) 학습 루프 (10 epochs)"
      ],
      "metadata": {
        "id": "zt3zcYPZTxCQ"
      },
      "id": "zt3zcYPZTxCQ"
    },
    {
      "cell_type": "code",
      "source": [
        "num_epochs = 10\n",
        "for epoch in range(num_epochs):\n",
        "    model.train()\n",
        "    total_loss = 0.0\n",
        "\n",
        "    for imgs, labels in loader:\n",
        "        imgs, labels = imgs.to(device), labels.to(device)\n",
        "        optimizer.zero_grad()\n",
        "\n",
        "        bin_logits, s1_logits = model(imgs)\n",
        "        # binary labels: Q1,Q2,Q3 (0:3), S2,S3 (4,5)\n",
        "        y_bin = torch.cat([labels[:, :3], labels[:, 4:6]], dim=1)  # (B,5)\n",
        "        # multi-class label: S1\n",
        "        y_s1 = labels[:, 3].long()  # (B,)\n",
        "\n",
        "        # losses\n",
        "        loss_bin = bce(bin_logits, y_bin)\n",
        "        loss_s1 = ce(s1_logits, y_s1)\n",
        "        loss = loss_bin + loss_s1\n",
        "\n",
        "        loss.backward()\n",
        "        optimizer.step()\n",
        "        total_loss += loss.item()\n",
        "\n",
        "    avg = total_loss / len(loader)\n",
        "    print(f\"Epoch {epoch+1}/{num_epochs} Loss: {avg:.4f}\")\n"
      ],
      "metadata": {
        "colab": {
          "base_uri": "https://localhost:8080/"
        },
        "id": "Z6kyZBjPT0w5",
        "outputId": "2b387be2-40f4-445c-8166-79364eea5cab"
      },
      "id": "Z6kyZBjPT0w5",
      "execution_count": 79,
      "outputs": [
        {
          "output_type": "stream",
          "name": "stdout",
          "text": [
            "Epoch 1/10 Loss: 2.4419\n",
            "Epoch 2/10 Loss: 1.5992\n",
            "Epoch 3/10 Loss: 1.3329\n",
            "Epoch 4/10 Loss: 0.8851\n",
            "Epoch 5/10 Loss: 0.5211\n",
            "Epoch 6/10 Loss: 0.3018\n",
            "Epoch 7/10 Loss: 0.1224\n",
            "Epoch 8/10 Loss: 0.0573\n",
            "Epoch 9/10 Loss: 0.0255\n",
            "Epoch 10/10 Loss: 0.0116\n"
          ]
        }
      ]
    },
    {
      "cell_type": "code",
      "source": [
        "torch.save(model.state_dict(), \"pixleepflow_multih_head.pth\")"
      ],
      "metadata": {
        "id": "C0u_L529mvPw"
      },
      "id": "C0u_L529mvPw",
      "execution_count": 80,
      "outputs": []
    },
    {
      "cell_type": "markdown",
      "source": [
        "# 6) ❗예시 예측 출력"
      ],
      "metadata": {
        "id": "vM44_kA1Un0L"
      },
      "id": "vM44_kA1Un0L"
    },
    {
      "cell_type": "code",
      "source": [
        "model.eval()\n",
        "with torch.no_grad():\n",
        "    imgs, labels = next(iter(loader))\n",
        "    imgs, labels = imgs.to(device), labels.to(device)\n",
        "\n",
        "    # 1) 로짓 추론\n",
        "    bin_logits, s1_logits = model(imgs)   # shapes: (B,5), (B,3)\n",
        "\n",
        "    # 2) 확률 변환\n",
        "    bin_probs = torch.sigmoid(bin_logits)  # (B,5), 0~1\n",
        "    # s1는 softmax → class 확률\n",
        "    s1_probs = torch.softmax(s1_logits, dim=1)  # (B,3)\n",
        "\n",
        "    # 3) 이진 예측 & 다중 클래스 예측\n",
        "    bin_preds = (bin_probs >= 0.5).int()        # (B,5)\n",
        "    s1_preds = torch.argmax(s1_probs, dim=1)   # (B,)\n",
        "\n",
        "    # 4) 첫 번째 배치만 출력\n",
        "    i = 5\n",
        "    print(f\"실제   → Q1–Q3,S1,S2,S3: {labels[i].cpu().numpy()}\")\n",
        "    print(f\"모델출력 Binary logits (Q1,Q2,Q3,S2,S3): {bin_logits[i].cpu().numpy()}\")\n",
        "    print(f\"확률 Binary probs  (Q1,Q2,Q3,S2,S3): {bin_probs[i].cpu().numpy()}\")\n",
        "    print(f\"예측 Binary preds  (Q1,Q2,Q3,S2,S3): {bin_preds[i].cpu().numpy()}\")\n",
        "    print(f\"모델출력 S1 logits  (3-class)         : {s1_logits[i].cpu().numpy()}\")\n",
        "    print(f\"확률 S1 probs   (softmax, 3-class): {s1_probs[i].cpu().numpy()}\")\n",
        "    print(f\"예측 S1 pred    (argmax class)    : {s1_preds[i].item()}\")\n"
      ],
      "metadata": {
        "colab": {
          "base_uri": "https://localhost:8080/"
        },
        "id": "LOjnYt_bUrSi",
        "outputId": "e2e95225-968b-4306-aee3-42df6b5bf0e0"
      },
      "id": "LOjnYt_bUrSi",
      "execution_count": 84,
      "outputs": [
        {
          "output_type": "stream",
          "name": "stdout",
          "text": [
            "실제   → Q1–Q3,S1,S2,S3: [0. 1. 1. 0. 0. 1.]\n",
            "모델출력 Binary logits (Q1,Q2,Q3,S2,S3): [-6.378007   6.0096908  4.665032  -4.485591   6.0067697]\n",
            "확률 Binary probs  (Q1,Q2,Q3,S2,S3): [0.00169562 0.99755114 0.99066895 0.01114462 0.997544  ]\n",
            "예측 Binary preds  (Q1,Q2,Q3,S2,S3): [0 1 1 0 1]\n",
            "모델출력 S1 logits  (3-class)         : [12.81033    3.4069862 -3.2163439]\n",
            "확률 S1 probs   (softmax, 3-class): [9.9991739e-01 8.2441074e-05 1.0956401e-07]\n",
            "예측 S1 pred    (argmax class)    : 0\n"
          ]
        }
      ]
    },
    {
      "cell_type": "markdown",
      "source": [
        "# 제출 파일 생성"
      ],
      "metadata": {
        "id": "7g1UyUP-Vm0E"
      },
      "id": "7g1UyUP-Vm0E"
    },
    {
      "cell_type": "code",
      "source": [
        "# 0) sample_submission 불러오기\n",
        "df_sub = pd.read_csv(\n",
        "    \"/content/drive/MyDrive/Sleep/ch2025_submission_sample.csv\",\n",
        "    parse_dates=['lifelog_date','sleep_date']\n",
        ")\n",
        "\n",
        "# 1) df_sub 순서대로 테스트 시퀀스 생성\n",
        "X_test_seq = []\n",
        "for _, row in df_sub.iterrows():\n",
        "    arr = merge_input_timeseries(\n",
        "        row['subject_id'],\n",
        "        row['lifelog_date'],\n",
        "        row['sleep_date'],\n",
        "        input_dict\n",
        "    ).values\n",
        "    X_test_seq.append(arr)\n",
        "\n",
        "# 2) NumPy stack & transpose → Tensor\n",
        "X_test = np.stack(X_test_seq)         # (250,1440,60)\n",
        "X_test = X_test.transpose(0,2,1)      # (250,60,1440)\n",
        "X_test_tensor = torch.from_numpy(X_test).unsqueeze(1).float()\n",
        "test_ds = TensorDataset(X_test_tensor)\n",
        "test_loader = DataLoader(test_ds, batch_size=8, shuffle=False)\n",
        "\n",
        "# 가중치로드\n",
        "model.load_state_dict(torch.load(\"pixleepflow_multih_head.pth\", map_location=device))\n",
        "\n",
        "# 3) 모델 추론 (멀티헤드)\n",
        "model.eval()\n",
        "model.to(device)\n",
        "\n",
        "all_bin_logits = []\n",
        "all_s1_logits  = []\n",
        "with torch.no_grad():\n",
        "    for (imgs,) in test_loader:\n",
        "        imgs = imgs.to(device)\n",
        "        bin_logits, s1_logits = model(imgs)       # (B,5), (B,3)\n",
        "        all_bin_logits.append(bin_logits.cpu().numpy())\n",
        "        all_s1_logits .append(s1_logits.cpu().numpy())\n",
        "\n",
        "all_bin_logits = np.vstack(all_bin_logits)     # (250,5)\n",
        "all_s1_logits  = np.vstack(all_s1_logits)      # (250,3)\n",
        "\n",
        "# 4) 확률 변환 & 예측\n",
        "bin_probs = 1 / (1 + np.exp(-all_bin_logits))  # sigmoid\n",
        "\n",
        "df_sub['Q1'] = (bin_probs[:,0] >= 0.5).astype(int)\n",
        "df_sub['Q2'] = (bin_probs[:,1] >= 0.5).astype(int)\n",
        "df_sub['Q3'] = (bin_probs[:,2] >= 0.5).astype(int)\n",
        "\n",
        "df_sub['S1'] = np.argmax(all_s1_logits, axis=1)\n",
        "\n",
        "df_sub['S2'] = (bin_probs[:,3] >= 0.5).astype(int)\n",
        "df_sub['S3'] = (bin_probs[:,4] >= 0.5).astype(int)\n",
        "\n",
        "# 5) submission.csv 저장\n",
        "out_path = \"/content/drive/MyDrive/Sleep/submission_file/submission8.csv\"\n",
        "df_sub.to_csv(out_path, index=False)\n",
        "print(f\"▶ {out_path} 생성 완료\")\n"
      ],
      "metadata": {
        "id": "DHnw3v3vVldQ"
      },
      "id": "DHnw3v3vVldQ",
      "execution_count": null,
      "outputs": []
    },
    {
      "cell_type": "code",
      "source": [
        "df_sub.shape"
      ],
      "metadata": {
        "colab": {
          "base_uri": "https://localhost:8080/"
        },
        "id": "dAqNu_vkcns8",
        "outputId": "2be5b360-c730-428d-b3d6-4d7098f1760a"
      },
      "id": "dAqNu_vkcns8",
      "execution_count": 70,
      "outputs": [
        {
          "output_type": "execute_result",
          "data": {
            "text/plain": [
              "(250, 9)"
            ]
          },
          "metadata": {},
          "execution_count": 70
        }
      ]
    }
  ],
  "metadata": {
    "kernelspec": {
      "display_name": "Python 3",
      "name": "python3"
    },
    "language_info": {
      "codemirror_mode": {
        "name": "ipython",
        "version": 3
      },
      "file_extension": ".py",
      "mimetype": "text/x-python",
      "name": "python",
      "nbconvert_exporter": "python",
      "pygments_lexer": "ipython3",
      "version": "3.8.10"
    },
    "colab": {
      "provenance": [],
      "collapsed_sections": [
        "2b66b7ba",
        "8c75ac3d",
        "6e6195fa",
        "KaYwaVp5f-89"
      ],
      "gpuType": "T4",
      "include_colab_link": true
    },
    "accelerator": "GPU"
  },
  "nbformat": 4,
  "nbformat_minor": 5
}