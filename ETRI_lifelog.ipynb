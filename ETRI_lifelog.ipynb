{
  "cells": [
    {
      "cell_type": "markdown",
      "metadata": {
        "id": "view-in-github",
        "colab_type": "text"
      },
      "source": [
        "<a href=\"https://colab.research.google.com/github/jihyeon602/ETRI_lifelog_dataset/blob/main/ETRI_lifelog.ipynb\" target=\"_parent\"><img src=\"https://colab.research.google.com/assets/colab-badge.svg\" alt=\"Open In Colab\"/></a>"
      ]
    },
    {
      "cell_type": "code",
      "execution_count": null,
      "id": "28498da3",
      "metadata": {
        "id": "28498da3"
      },
      "outputs": [],
      "source": [
        "import os\n",
        "import numpy as np\n",
        "import pandas as pd"
      ]
    },
    {
      "cell_type": "code",
      "execution_count": null,
      "id": "b51344b3",
      "metadata": {
        "id": "b51344b3"
      },
      "outputs": [],
      "source": [
        "# Note: Set the file path associated with the dataset.\n",
        "challenge2025_dataset_path = r\"C:\\Users\\302-26\\DACON_ETRL_lifelog\\ETRI_lifelog_dataset\\ch2025_data_items\"  # <=== Modify as appropriate."
      ]
    },
    {
      "cell_type": "markdown",
      "id": "68fa1813",
      "metadata": {
        "id": "68fa1813"
      },
      "source": [
        "# EDA: Data items\n",
        "- (1) mACStatus\n",
        "- (2) mActivity\n",
        "- (3) mAmbience\n",
        "- (4) mBle\n",
        "- (5) mGps\n",
        "- (6) mLight\n",
        "- (7) mScreenStatus\n",
        "- (8) mUsageStats\n",
        "- (9) mWifi\n",
        "- (10) wHr\n",
        "- (11) wLight\n",
        "- (12) wPedo"
      ]
    },
    {
      "cell_type": "code",
      "execution_count": null,
      "id": "37072bee",
      "metadata": {
        "id": "37072bee",
        "outputId": "42bc6eda-586c-485d-cf44-6a0b83c76352"
      },
      "outputs": [
        {
          "name": "stdout",
          "output_type": "stream",
          "text": [
            "challenge 2025 dataset =====\n",
            "ch2025_mACStatus.parquet\n",
            "ch2025_mActivity.parquet\n",
            "ch2025_mAmbience.parquet\n",
            "ch2025_mBle.parquet\n",
            "ch2025_mGps.parquet\n",
            "ch2025_mLight.parquet\n",
            "ch2025_mScreenStatus.parquet\n",
            "ch2025_mUsageStats.parquet\n",
            "ch2025_mWifi.parquet\n",
            "ch2025_wHr.parquet\n",
            "ch2025_wLight.parquet\n",
            "ch2025_wPedo.parquet\n"
          ]
        }
      ],
      "source": [
        "# To print the list of data items\n",
        "print(\"challenge 2025 dataset \" + \"=\"*5)\n",
        "for file_name in sorted(os.listdir(challenge2025_dataset_path)):\n",
        "    if file_name.endswith('.parquet'):\n",
        "        print(file_name)"
      ]
    },
    {
      "cell_type": "markdown",
      "id": "5f363cb9",
      "metadata": {
        "id": "5f363cb9"
      },
      "source": [
        "### (1) mACStatus\n",
        ": 현재 스마트폰 충전여부\n",
        "- 0,1 이진분류"
      ]
    },
    {
      "cell_type": "code",
      "execution_count": null,
      "id": "fb94af12",
      "metadata": {
        "id": "fb94af12",
        "outputId": "bc5f9387-b0c7-4b94-9a2f-13245d72de99"
      },
      "outputs": [
        {
          "name": "stdout",
          "output_type": "stream",
          "text": [
            "<class 'pandas.core.frame.DataFrame'>\n",
            "RangeIndex: 939896 entries, 0 to 939895\n",
            "Data columns (total 3 columns):\n",
            " #   Column      Non-Null Count   Dtype         \n",
            "---  ------      --------------   -----         \n",
            " 0   subject_id  939896 non-null  object        \n",
            " 1   timestamp   939896 non-null  datetime64[ns]\n",
            " 2   m_charging  939896 non-null  int64         \n",
            "dtypes: datetime64[ns](1), int64(1), object(1)\n",
            "memory usage: 21.5+ MB\n"
          ]
        },
        {
          "data": {
            "text/html": [
              "<div>\n",
              "<style scoped>\n",
              "    .dataframe tbody tr th:only-of-type {\n",
              "        vertical-align: middle;\n",
              "    }\n",
              "\n",
              "    .dataframe tbody tr th {\n",
              "        vertical-align: top;\n",
              "    }\n",
              "\n",
              "    .dataframe thead th {\n",
              "        text-align: right;\n",
              "    }\n",
              "</style>\n",
              "<table border=\"1\" class=\"dataframe\">\n",
              "  <thead>\n",
              "    <tr style=\"text-align: right;\">\n",
              "      <th></th>\n",
              "      <th>subject_id</th>\n",
              "      <th>timestamp</th>\n",
              "      <th>m_charging</th>\n",
              "    </tr>\n",
              "  </thead>\n",
              "  <tbody>\n",
              "    <tr>\n",
              "      <th>0</th>\n",
              "      <td>id01</td>\n",
              "      <td>2024-06-26 12:03:00</td>\n",
              "      <td>0</td>\n",
              "    </tr>\n",
              "    <tr>\n",
              "      <th>1</th>\n",
              "      <td>id01</td>\n",
              "      <td>2024-06-26 12:04:00</td>\n",
              "      <td>0</td>\n",
              "    </tr>\n",
              "    <tr>\n",
              "      <th>2</th>\n",
              "      <td>id01</td>\n",
              "      <td>2024-06-26 12:05:00</td>\n",
              "      <td>0</td>\n",
              "    </tr>\n",
              "    <tr>\n",
              "      <th>3</th>\n",
              "      <td>id01</td>\n",
              "      <td>2024-06-26 12:06:00</td>\n",
              "      <td>0</td>\n",
              "    </tr>\n",
              "    <tr>\n",
              "      <th>4</th>\n",
              "      <td>id01</td>\n",
              "      <td>2024-06-26 12:07:00</td>\n",
              "      <td>0</td>\n",
              "    </tr>\n",
              "  </tbody>\n",
              "</table>\n",
              "</div>"
            ],
            "text/plain": [
              "  subject_id           timestamp  m_charging\n",
              "0       id01 2024-06-26 12:03:00           0\n",
              "1       id01 2024-06-26 12:04:00           0\n",
              "2       id01 2024-06-26 12:05:00           0\n",
              "3       id01 2024-06-26 12:06:00           0\n",
              "4       id01 2024-06-26 12:07:00           0"
            ]
          },
          "execution_count": 10,
          "metadata": {},
          "output_type": "execute_result"
        }
      ],
      "source": [
        "data_item = \"mACStatus\"\n",
        "df_data = pd.read_parquet(os.path.join(challenge2025_dataset_path, f\"ch2025_{data_item}.parquet\"))\n",
        "df_data.info()\n",
        "df_data.head()"
      ]
    },
    {
      "cell_type": "markdown",
      "id": "73e6da3b",
      "metadata": {
        "id": "73e6da3b"
      },
      "source": [
        "### (2) mActivity\n",
        ": Google Activity Recognition API를 기반으로 계산된 사용자의 활동 상태\n",
        "\n",
        "- m_activity\n",
        "  - 0: IN_VEHICLE\n",
        "  - 1: ON_BICYCLE\n",
        "  - 2: ON_FOOT\n",
        "  - 3: STILL\n",
        "  - 4: UNKNOWN\n",
        "  - 5: TILTING\n",
        "  - 7: WALKING\n",
        "  - 8: RUNNING"
      ]
    },
    {
      "cell_type": "code",
      "execution_count": null,
      "id": "03186997",
      "metadata": {
        "id": "03186997",
        "outputId": "c09c373f-d2ff-4531-93b6-aa858c01a293"
      },
      "outputs": [
        {
          "name": "stdout",
          "output_type": "stream",
          "text": [
            "<class 'pandas.core.frame.DataFrame'>\n",
            "RangeIndex: 961062 entries, 0 to 961061\n",
            "Data columns (total 3 columns):\n",
            " #   Column      Non-Null Count   Dtype         \n",
            "---  ------      --------------   -----         \n",
            " 0   subject_id  961062 non-null  object        \n",
            " 1   timestamp   961062 non-null  datetime64[ns]\n",
            " 2   m_activity  961062 non-null  int64         \n",
            "dtypes: datetime64[ns](1), int64(1), object(1)\n",
            "memory usage: 22.0+ MB\n"
          ]
        },
        {
          "data": {
            "text/html": [
              "<div>\n",
              "<style scoped>\n",
              "    .dataframe tbody tr th:only-of-type {\n",
              "        vertical-align: middle;\n",
              "    }\n",
              "\n",
              "    .dataframe tbody tr th {\n",
              "        vertical-align: top;\n",
              "    }\n",
              "\n",
              "    .dataframe thead th {\n",
              "        text-align: right;\n",
              "    }\n",
              "</style>\n",
              "<table border=\"1\" class=\"dataframe\">\n",
              "  <thead>\n",
              "    <tr style=\"text-align: right;\">\n",
              "      <th></th>\n",
              "      <th>subject_id</th>\n",
              "      <th>timestamp</th>\n",
              "      <th>m_activity</th>\n",
              "    </tr>\n",
              "  </thead>\n",
              "  <tbody>\n",
              "    <tr>\n",
              "      <th>0</th>\n",
              "      <td>id01</td>\n",
              "      <td>2024-06-26 12:03:00</td>\n",
              "      <td>4</td>\n",
              "    </tr>\n",
              "    <tr>\n",
              "      <th>1</th>\n",
              "      <td>id01</td>\n",
              "      <td>2024-06-26 12:04:00</td>\n",
              "      <td>0</td>\n",
              "    </tr>\n",
              "    <tr>\n",
              "      <th>2</th>\n",
              "      <td>id01</td>\n",
              "      <td>2024-06-26 12:05:00</td>\n",
              "      <td>0</td>\n",
              "    </tr>\n",
              "    <tr>\n",
              "      <th>3</th>\n",
              "      <td>id01</td>\n",
              "      <td>2024-06-26 12:06:00</td>\n",
              "      <td>0</td>\n",
              "    </tr>\n",
              "    <tr>\n",
              "      <th>4</th>\n",
              "      <td>id01</td>\n",
              "      <td>2024-06-26 12:07:00</td>\n",
              "      <td>0</td>\n",
              "    </tr>\n",
              "  </tbody>\n",
              "</table>\n",
              "</div>"
            ],
            "text/plain": [
              "  subject_id           timestamp  m_activity\n",
              "0       id01 2024-06-26 12:03:00           4\n",
              "1       id01 2024-06-26 12:04:00           0\n",
              "2       id01 2024-06-26 12:05:00           0\n",
              "3       id01 2024-06-26 12:06:00           0\n",
              "4       id01 2024-06-26 12:07:00           0"
            ]
          },
          "execution_count": 11,
          "metadata": {},
          "output_type": "execute_result"
        }
      ],
      "source": [
        "data_item = \"mActivity\"\n",
        "df_data = pd.read_parquet(os.path.join(challenge2025_dataset_path, f\"ch2025_{data_item}.parquet\"))\n",
        "df_data.info()\n",
        "df_data.head()"
      ]
    },
    {
      "cell_type": "markdown",
      "id": "af3a7852",
      "metadata": {
        "id": "af3a7852"
      },
      "source": [
        "### (3) mAmbience\n",
        "\n",
        "스마트폰이 2분마다 자동으로 주변 소리를 인식하고,\n",
        "인식된 소리 환경 라벨 10개와 각각의 확률을 기록한 데이터\n",
        "\n",
        "- ambience_labels: 감지된 상위 10개의 소리 환경 라벨과 각 라벨에 대한 예측 확률 값 리스트"
      ]
    },
    {
      "cell_type": "code",
      "execution_count": null,
      "id": "ad3ab767",
      "metadata": {
        "id": "ad3ab767",
        "outputId": "11cbf566-977c-4b11-a122-44f603ef4d33"
      },
      "outputs": [
        {
          "name": "stdout",
          "output_type": "stream",
          "text": [
            "<class 'pandas.core.frame.DataFrame'>\n",
            "RangeIndex: 476577 entries, 0 to 476576\n",
            "Data columns (total 3 columns):\n",
            " #   Column      Non-Null Count   Dtype         \n",
            "---  ------      --------------   -----         \n",
            " 0   subject_id  476577 non-null  object        \n",
            " 1   timestamp   476577 non-null  datetime64[ns]\n",
            " 2   m_ambience  476577 non-null  object        \n",
            "dtypes: datetime64[ns](1), object(2)\n",
            "memory usage: 10.9+ MB\n"
          ]
        },
        {
          "data": {
            "text/html": [
              "<div>\n",
              "<style scoped>\n",
              "    .dataframe tbody tr th:only-of-type {\n",
              "        vertical-align: middle;\n",
              "    }\n",
              "\n",
              "    .dataframe tbody tr th {\n",
              "        vertical-align: top;\n",
              "    }\n",
              "\n",
              "    .dataframe thead th {\n",
              "        text-align: right;\n",
              "    }\n",
              "</style>\n",
              "<table border=\"1\" class=\"dataframe\">\n",
              "  <thead>\n",
              "    <tr style=\"text-align: right;\">\n",
              "      <th></th>\n",
              "      <th>subject_id</th>\n",
              "      <th>timestamp</th>\n",
              "      <th>m_ambience</th>\n",
              "    </tr>\n",
              "  </thead>\n",
              "  <tbody>\n",
              "    <tr>\n",
              "      <th>0</th>\n",
              "      <td>id01</td>\n",
              "      <td>2024-06-26 13:00:10</td>\n",
              "      <td>[[Music, 0.30902618], [Vehicle, 0.081680894], ...</td>\n",
              "    </tr>\n",
              "    <tr>\n",
              "      <th>1</th>\n",
              "      <td>id01</td>\n",
              "      <td>2024-06-26 13:02:10</td>\n",
              "      <td>[[Music, 0.62307084], [Vehicle, 0.021118319], ...</td>\n",
              "    </tr>\n",
              "    <tr>\n",
              "      <th>2</th>\n",
              "      <td>id01</td>\n",
              "      <td>2024-06-26 13:04:10</td>\n",
              "      <td>[[Horse, 0.25209898], [Animal, 0.24263993], [C...</td>\n",
              "    </tr>\n",
              "    <tr>\n",
              "      <th>3</th>\n",
              "      <td>id01</td>\n",
              "      <td>2024-06-26 13:06:10</td>\n",
              "      <td>[[Speech, 0.93433166], [Inside, large room or ...</td>\n",
              "    </tr>\n",
              "    <tr>\n",
              "      <th>4</th>\n",
              "      <td>id01</td>\n",
              "      <td>2024-06-26 13:08:10</td>\n",
              "      <td>[[Speech, 0.8935082], [Inside, small room, 0.0...</td>\n",
              "    </tr>\n",
              "  </tbody>\n",
              "</table>\n",
              "</div>"
            ],
            "text/plain": [
              "  subject_id           timestamp  \\\n",
              "0       id01 2024-06-26 13:00:10   \n",
              "1       id01 2024-06-26 13:02:10   \n",
              "2       id01 2024-06-26 13:04:10   \n",
              "3       id01 2024-06-26 13:06:10   \n",
              "4       id01 2024-06-26 13:08:10   \n",
              "\n",
              "                                          m_ambience  \n",
              "0  [[Music, 0.30902618], [Vehicle, 0.081680894], ...  \n",
              "1  [[Music, 0.62307084], [Vehicle, 0.021118319], ...  \n",
              "2  [[Horse, 0.25209898], [Animal, 0.24263993], [C...  \n",
              "3  [[Speech, 0.93433166], [Inside, large room or ...  \n",
              "4  [[Speech, 0.8935082], [Inside, small room, 0.0...  "
            ]
          },
          "execution_count": 12,
          "metadata": {},
          "output_type": "execute_result"
        }
      ],
      "source": [
        "data_item = \"mAmbience\"\n",
        "df_data = pd.read_parquet(os.path.join(challenge2025_dataset_path, f\"ch2025_{data_item}.parquet\"))\n",
        "df_data.info()\n",
        "df_data.head()"
      ]
    },
    {
      "cell_type": "markdown",
      "id": "f093a1bd",
      "metadata": {
        "id": "f093a1bd"
      },
      "source": [
        "### (4) mBle\n",
        ": 사용자의 주변에서 감지된 블루투스 기기 목록\n",
        "\n",
        "- ❗블루투스 기기 많으면\n",
        "\n",
        "-> 사람근접여부/활동 추정/실내,실외 예) 반복적인 블루투스 기기 패턴 = 특정 장소 유추"
      ]
    },
    {
      "cell_type": "code",
      "execution_count": null,
      "id": "3726377b",
      "metadata": {
        "id": "3726377b",
        "outputId": "e59fe1b5-b20d-4a53-e86a-cd1bb941a16c"
      },
      "outputs": [
        {
          "name": "stdout",
          "output_type": "stream",
          "text": [
            "<class 'pandas.core.frame.DataFrame'>\n",
            "RangeIndex: 21830 entries, 0 to 21829\n",
            "Data columns (total 3 columns):\n",
            " #   Column      Non-Null Count  Dtype         \n",
            "---  ------      --------------  -----         \n",
            " 0   subject_id  21830 non-null  object        \n",
            " 1   timestamp   21830 non-null  datetime64[ns]\n",
            " 2   m_ble       21830 non-null  object        \n",
            "dtypes: datetime64[ns](1), object(2)\n",
            "memory usage: 511.8+ KB\n"
          ]
        },
        {
          "data": {
            "text/html": [
              "<div>\n",
              "<style scoped>\n",
              "    .dataframe tbody tr th:only-of-type {\n",
              "        vertical-align: middle;\n",
              "    }\n",
              "\n",
              "    .dataframe tbody tr th {\n",
              "        vertical-align: top;\n",
              "    }\n",
              "\n",
              "    .dataframe thead th {\n",
              "        text-align: right;\n",
              "    }\n",
              "</style>\n",
              "<table border=\"1\" class=\"dataframe\">\n",
              "  <thead>\n",
              "    <tr style=\"text-align: right;\">\n",
              "      <th></th>\n",
              "      <th>subject_id</th>\n",
              "      <th>timestamp</th>\n",
              "      <th>m_ble</th>\n",
              "    </tr>\n",
              "  </thead>\n",
              "  <tbody>\n",
              "    <tr>\n",
              "      <th>0</th>\n",
              "      <td>id01</td>\n",
              "      <td>2024-06-26 12:13:00</td>\n",
              "      <td>[{'address': '00:15:7C:11:80:8D', 'device_clas...</td>\n",
              "    </tr>\n",
              "    <tr>\n",
              "      <th>1</th>\n",
              "      <td>id01</td>\n",
              "      <td>2024-06-26 12:23:00</td>\n",
              "      <td>[{'address': '0A:B1:26:4D:76:21', 'device_clas...</td>\n",
              "    </tr>\n",
              "    <tr>\n",
              "      <th>2</th>\n",
              "      <td>id01</td>\n",
              "      <td>2024-06-26 12:33:00</td>\n",
              "      <td>[{'address': '04:F5:AE:39:95:E0', 'device_clas...</td>\n",
              "    </tr>\n",
              "    <tr>\n",
              "      <th>3</th>\n",
              "      <td>id01</td>\n",
              "      <td>2024-06-26 13:23:00</td>\n",
              "      <td>[{'address': '06:C0:D2:6D:9F:69', 'device_clas...</td>\n",
              "    </tr>\n",
              "    <tr>\n",
              "      <th>4</th>\n",
              "      <td>id01</td>\n",
              "      <td>2024-06-26 14:23:00</td>\n",
              "      <td>[{'address': '10:2B:41:74:9F:B1', 'device_clas...</td>\n",
              "    </tr>\n",
              "  </tbody>\n",
              "</table>\n",
              "</div>"
            ],
            "text/plain": [
              "  subject_id           timestamp  \\\n",
              "0       id01 2024-06-26 12:13:00   \n",
              "1       id01 2024-06-26 12:23:00   \n",
              "2       id01 2024-06-26 12:33:00   \n",
              "3       id01 2024-06-26 13:23:00   \n",
              "4       id01 2024-06-26 14:23:00   \n",
              "\n",
              "                                               m_ble  \n",
              "0  [{'address': '00:15:7C:11:80:8D', 'device_clas...  \n",
              "1  [{'address': '0A:B1:26:4D:76:21', 'device_clas...  \n",
              "2  [{'address': '04:F5:AE:39:95:E0', 'device_clas...  \n",
              "3  [{'address': '06:C0:D2:6D:9F:69', 'device_clas...  \n",
              "4  [{'address': '10:2B:41:74:9F:B1', 'device_clas...  "
            ]
          },
          "execution_count": 13,
          "metadata": {},
          "output_type": "execute_result"
        }
      ],
      "source": [
        "data_item = \"mBle\"\n",
        "df_data = pd.read_parquet(os.path.join(challenge2025_dataset_path, f\"ch2025_{data_item}.parquet\"))\n",
        "df_data.info()\n",
        "df_data.head()"
      ]
    },
    {
      "cell_type": "markdown",
      "id": "1138295a",
      "metadata": {
        "id": "1138295a"
      },
      "source": [
        "### (5) mGps\n",
        ": 스마트폰에서 수집된 GPS 좌표 정보\n",
        "개인정보 보호를 위해 위도(latitude)와 경도(longitude)는 상대 좌표로 변환되어 저장\n",
        "\n",
        "\n",
        "- 측정 빈도: 최대 분당 12회까지 측정됩니다. (즉, 약 5초마다 한 번)\n",
        "\n",
        "\n",
        "- 위도와 경도가 모두 -1로 기록된 데이터는 제외\n",
        "\n",
        "  → GPS 오류 또는 수신 실패를 의미하는 값으로 간주\n",
        "\n",
        "- m_gps\n",
        "  - altitude: 고도\n",
        "  - latitude: 위도\n",
        "  - longitude: 경도\n",
        "  - speed: 속도"
      ]
    },
    {
      "cell_type": "code",
      "execution_count": null,
      "id": "7bc55bf0",
      "metadata": {
        "id": "7bc55bf0",
        "outputId": "466a70bb-27b3-4f68-a0db-636670d2536e"
      },
      "outputs": [
        {
          "name": "stdout",
          "output_type": "stream",
          "text": [
            "<class 'pandas.core.frame.DataFrame'>\n",
            "RangeIndex: 800611 entries, 0 to 800610\n",
            "Data columns (total 3 columns):\n",
            " #   Column      Non-Null Count   Dtype         \n",
            "---  ------      --------------   -----         \n",
            " 0   subject_id  800611 non-null  object        \n",
            " 1   timestamp   800611 non-null  datetime64[ns]\n",
            " 2   m_gps       800611 non-null  object        \n",
            "dtypes: datetime64[ns](1), object(2)\n",
            "memory usage: 18.3+ MB\n"
          ]
        },
        {
          "data": {
            "text/html": [
              "<div>\n",
              "<style scoped>\n",
              "    .dataframe tbody tr th:only-of-type {\n",
              "        vertical-align: middle;\n",
              "    }\n",
              "\n",
              "    .dataframe tbody tr th {\n",
              "        vertical-align: top;\n",
              "    }\n",
              "\n",
              "    .dataframe thead th {\n",
              "        text-align: right;\n",
              "    }\n",
              "</style>\n",
              "<table border=\"1\" class=\"dataframe\">\n",
              "  <thead>\n",
              "    <tr style=\"text-align: right;\">\n",
              "      <th></th>\n",
              "      <th>subject_id</th>\n",
              "      <th>timestamp</th>\n",
              "      <th>m_gps</th>\n",
              "    </tr>\n",
              "  </thead>\n",
              "  <tbody>\n",
              "    <tr>\n",
              "      <th>0</th>\n",
              "      <td>id01</td>\n",
              "      <td>2024-06-26 12:03:00</td>\n",
              "      <td>[{'altitude': 110.6, 'latitude': 0.2077385, 'l...</td>\n",
              "    </tr>\n",
              "    <tr>\n",
              "      <th>1</th>\n",
              "      <td>id01</td>\n",
              "      <td>2024-06-26 12:04:00</td>\n",
              "      <td>[{'altitude': 110.8, 'latitude': 0.2078068, 'l...</td>\n",
              "    </tr>\n",
              "    <tr>\n",
              "      <th>2</th>\n",
              "      <td>id01</td>\n",
              "      <td>2024-06-26 12:05:00</td>\n",
              "      <td>[{'altitude': 110.7, 'latitude': 0.2078214, 'l...</td>\n",
              "    </tr>\n",
              "    <tr>\n",
              "      <th>3</th>\n",
              "      <td>id01</td>\n",
              "      <td>2024-06-26 12:06:00</td>\n",
              "      <td>[{'altitude': 110.7, 'latitude': 0.2078395, 'l...</td>\n",
              "    </tr>\n",
              "    <tr>\n",
              "      <th>4</th>\n",
              "      <td>id01</td>\n",
              "      <td>2024-06-26 12:07:00</td>\n",
              "      <td>[{'altitude': 110.8, 'latitude': 0.2078478, 'l...</td>\n",
              "    </tr>\n",
              "  </tbody>\n",
              "</table>\n",
              "</div>"
            ],
            "text/plain": [
              "  subject_id           timestamp  \\\n",
              "0       id01 2024-06-26 12:03:00   \n",
              "1       id01 2024-06-26 12:04:00   \n",
              "2       id01 2024-06-26 12:05:00   \n",
              "3       id01 2024-06-26 12:06:00   \n",
              "4       id01 2024-06-26 12:07:00   \n",
              "\n",
              "                                               m_gps  \n",
              "0  [{'altitude': 110.6, 'latitude': 0.2077385, 'l...  \n",
              "1  [{'altitude': 110.8, 'latitude': 0.2078068, 'l...  \n",
              "2  [{'altitude': 110.7, 'latitude': 0.2078214, 'l...  \n",
              "3  [{'altitude': 110.7, 'latitude': 0.2078395, 'l...  \n",
              "4  [{'altitude': 110.8, 'latitude': 0.2078478, 'l...  "
            ]
          },
          "execution_count": 14,
          "metadata": {},
          "output_type": "execute_result"
        }
      ],
      "source": [
        "data_item = \"mGps\"\n",
        "df_data = pd.read_parquet(os.path.join(challenge2025_dataset_path, f\"ch2025_{data_item}.parquet\"))\n",
        "df_data.info()\n",
        "df_data.head()"
      ]
    },
    {
      "cell_type": "markdown",
      "id": "965d96c3",
      "metadata": {
        "id": "965d96c3"
      },
      "source": [
        "### (6) mLight\n",
        ": 스마트폰을 통해 측정된 주변의 밝기 수준\n",
        "10분 마다 측정\n",
        "- 조도의 단위 : lx(lux;럭스), 빛의 밝기를 수치로 나타냄\n",
        "- 밝기 단위 구간 기반으로 분류 필요"
      ]
    },
    {
      "cell_type": "code",
      "execution_count": null,
      "id": "218a0566",
      "metadata": {
        "id": "218a0566",
        "outputId": "d6ff405f-e3bb-4167-c263-2573e645a845"
      },
      "outputs": [
        {
          "name": "stdout",
          "output_type": "stream",
          "text": [
            "<class 'pandas.core.frame.DataFrame'>\n",
            "RangeIndex: 96258 entries, 0 to 96257\n",
            "Data columns (total 3 columns):\n",
            " #   Column      Non-Null Count  Dtype         \n",
            "---  ------      --------------  -----         \n",
            " 0   subject_id  96258 non-null  object        \n",
            " 1   timestamp   96258 non-null  datetime64[ns]\n",
            " 2   m_light     96258 non-null  float64       \n",
            "dtypes: datetime64[ns](1), float64(1), object(1)\n",
            "memory usage: 2.2+ MB\n"
          ]
        },
        {
          "data": {
            "text/html": [
              "<div>\n",
              "<style scoped>\n",
              "    .dataframe tbody tr th:only-of-type {\n",
              "        vertical-align: middle;\n",
              "    }\n",
              "\n",
              "    .dataframe tbody tr th {\n",
              "        vertical-align: top;\n",
              "    }\n",
              "\n",
              "    .dataframe thead th {\n",
              "        text-align: right;\n",
              "    }\n",
              "</style>\n",
              "<table border=\"1\" class=\"dataframe\">\n",
              "  <thead>\n",
              "    <tr style=\"text-align: right;\">\n",
              "      <th></th>\n",
              "      <th>subject_id</th>\n",
              "      <th>timestamp</th>\n",
              "      <th>m_light</th>\n",
              "    </tr>\n",
              "  </thead>\n",
              "  <tbody>\n",
              "    <tr>\n",
              "      <th>0</th>\n",
              "      <td>id01</td>\n",
              "      <td>2024-06-26 12:03:00</td>\n",
              "      <td>534.0</td>\n",
              "    </tr>\n",
              "    <tr>\n",
              "      <th>1</th>\n",
              "      <td>id01</td>\n",
              "      <td>2024-06-26 12:13:00</td>\n",
              "      <td>846.0</td>\n",
              "    </tr>\n",
              "    <tr>\n",
              "      <th>2</th>\n",
              "      <td>id01</td>\n",
              "      <td>2024-06-26 12:23:00</td>\n",
              "      <td>826.0</td>\n",
              "    </tr>\n",
              "    <tr>\n",
              "      <th>3</th>\n",
              "      <td>id01</td>\n",
              "      <td>2024-06-26 12:33:00</td>\n",
              "      <td>851.0</td>\n",
              "    </tr>\n",
              "    <tr>\n",
              "      <th>4</th>\n",
              "      <td>id01</td>\n",
              "      <td>2024-06-26 12:43:00</td>\n",
              "      <td>428.0</td>\n",
              "    </tr>\n",
              "  </tbody>\n",
              "</table>\n",
              "</div>"
            ],
            "text/plain": [
              "  subject_id           timestamp  m_light\n",
              "0       id01 2024-06-26 12:03:00    534.0\n",
              "1       id01 2024-06-26 12:13:00    846.0\n",
              "2       id01 2024-06-26 12:23:00    826.0\n",
              "3       id01 2024-06-26 12:33:00    851.0\n",
              "4       id01 2024-06-26 12:43:00    428.0"
            ]
          },
          "execution_count": 15,
          "metadata": {},
          "output_type": "execute_result"
        }
      ],
      "source": [
        "data_item = \"mLight\"\n",
        "df_data = pd.read_parquet(os.path.join(challenge2025_dataset_path, f\"ch2025_{data_item}.parquet\"))\n",
        "df_data.info()\n",
        "df_data.head()"
      ]
    },
    {
      "cell_type": "markdown",
      "id": "e2ef37c3",
      "metadata": {
        "id": "e2ef37c3"
      },
      "source": [
        "### (7) mScreenStatus\n",
        ": 스마트폰 화면이 켜져 있는지 여부를 나타냅니다.\n",
        "- 이진분류(0,1)\n"
      ]
    },
    {
      "cell_type": "code",
      "execution_count": null,
      "id": "891862fc",
      "metadata": {
        "id": "891862fc",
        "outputId": "9a7414dd-3ae4-4e83-cc5c-09a31a2006e2"
      },
      "outputs": [
        {
          "name": "stdout",
          "output_type": "stream",
          "text": [
            "<class 'pandas.core.frame.DataFrame'>\n",
            "RangeIndex: 939653 entries, 0 to 939652\n",
            "Data columns (total 3 columns):\n",
            " #   Column        Non-Null Count   Dtype         \n",
            "---  ------        --------------   -----         \n",
            " 0   subject_id    939653 non-null  object        \n",
            " 1   timestamp     939653 non-null  datetime64[ns]\n",
            " 2   m_screen_use  939653 non-null  int64         \n",
            "dtypes: datetime64[ns](1), int64(1), object(1)\n",
            "memory usage: 21.5+ MB\n"
          ]
        },
        {
          "data": {
            "text/html": [
              "<div>\n",
              "<style scoped>\n",
              "    .dataframe tbody tr th:only-of-type {\n",
              "        vertical-align: middle;\n",
              "    }\n",
              "\n",
              "    .dataframe tbody tr th {\n",
              "        vertical-align: top;\n",
              "    }\n",
              "\n",
              "    .dataframe thead th {\n",
              "        text-align: right;\n",
              "    }\n",
              "</style>\n",
              "<table border=\"1\" class=\"dataframe\">\n",
              "  <thead>\n",
              "    <tr style=\"text-align: right;\">\n",
              "      <th></th>\n",
              "      <th>subject_id</th>\n",
              "      <th>timestamp</th>\n",
              "      <th>m_screen_use</th>\n",
              "    </tr>\n",
              "  </thead>\n",
              "  <tbody>\n",
              "    <tr>\n",
              "      <th>0</th>\n",
              "      <td>id01</td>\n",
              "      <td>2024-06-26 12:03:00</td>\n",
              "      <td>0</td>\n",
              "    </tr>\n",
              "    <tr>\n",
              "      <th>1</th>\n",
              "      <td>id01</td>\n",
              "      <td>2024-06-26 12:04:00</td>\n",
              "      <td>0</td>\n",
              "    </tr>\n",
              "    <tr>\n",
              "      <th>2</th>\n",
              "      <td>id01</td>\n",
              "      <td>2024-06-26 12:05:00</td>\n",
              "      <td>0</td>\n",
              "    </tr>\n",
              "    <tr>\n",
              "      <th>3</th>\n",
              "      <td>id01</td>\n",
              "      <td>2024-06-26 12:06:00</td>\n",
              "      <td>0</td>\n",
              "    </tr>\n",
              "    <tr>\n",
              "      <th>4</th>\n",
              "      <td>id01</td>\n",
              "      <td>2024-06-26 12:07:00</td>\n",
              "      <td>0</td>\n",
              "    </tr>\n",
              "  </tbody>\n",
              "</table>\n",
              "</div>"
            ],
            "text/plain": [
              "  subject_id           timestamp  m_screen_use\n",
              "0       id01 2024-06-26 12:03:00             0\n",
              "1       id01 2024-06-26 12:04:00             0\n",
              "2       id01 2024-06-26 12:05:00             0\n",
              "3       id01 2024-06-26 12:06:00             0\n",
              "4       id01 2024-06-26 12:07:00             0"
            ]
          },
          "execution_count": 4,
          "metadata": {},
          "output_type": "execute_result"
        }
      ],
      "source": [
        "data_item = \"mScreenStatus\"\n",
        "df_data = pd.read_parquet(os.path.join(challenge2025_dataset_path, f\"ch2025_{data_item}.parquet\"))\n",
        "df_data.info()\n",
        "df_data.head()"
      ]
    },
    {
      "cell_type": "markdown",
      "id": "d2101c47",
      "metadata": {
        "id": "d2101c47"
      },
      "source": [
        "### (8) mUsageStats\n",
        ": 어떤 앱이 얼마 동안 사용되었는지를 나타내는 스마트폰 사용 통계\n",
        "- 10분마다 측정\n",
        "- m_usage_stats: 앱 이름과 사용 시간이 포함된 리스트 (앱 총 586개)"
      ]
    },
    {
      "cell_type": "code",
      "execution_count": null,
      "id": "afbfd7e5",
      "metadata": {
        "id": "afbfd7e5",
        "outputId": "100c4b46-8165-4134-d84f-9107f9e81bea"
      },
      "outputs": [
        {
          "name": "stdout",
          "output_type": "stream",
          "text": [
            "<class 'pandas.core.frame.DataFrame'>\n",
            "RangeIndex: 45197 entries, 0 to 45196\n",
            "Data columns (total 3 columns):\n",
            " #   Column         Non-Null Count  Dtype         \n",
            "---  ------         --------------  -----         \n",
            " 0   subject_id     45197 non-null  object        \n",
            " 1   timestamp      45197 non-null  datetime64[ns]\n",
            " 2   m_usage_stats  45197 non-null  object        \n",
            "dtypes: datetime64[ns](1), object(2)\n",
            "memory usage: 1.0+ MB\n",
            "\n",
            " 총 고유 앱 수: 586개\n",
            " 예시 앱 목록 (상위 10개): ['(구)티머니onda', '(캐시아워)', '11번가', '1945 Air Force', '8 seconds', 'ABC-MART', 'AI Retouch - 객체 제거', 'AIA생명', 'AR 이모지', 'AR 이모지 스티커']\n"
          ]
        }
      ],
      "source": [
        "data_item = \"mUsageStats\"\n",
        "df_data = pd.read_parquet(os.path.join(challenge2025_dataset_path, f\"ch2025_{data_item}.parquet\"))\n",
        "df_data.info()\n",
        "df_data.head()\n",
        "\n",
        "unique_apps = set()\n",
        "\n",
        "# m_usage_stats 열에서 앱 이름 추출\n",
        "for row in df_data['m_usage_stats'].dropna():\n",
        "    for app_dict in row:\n",
        "        if 'app_name' in app_dict:\n",
        "            app_name = app_dict['app_name'].strip()\n",
        "            unique_apps.add(app_name)\n",
        "\n",
        "# 결과 출력\n",
        "print(f\"\\n 총 고유 앱 수: {len(unique_apps)}개\")\n",
        "print(f\" 예시 앱 목록 (상위 10개): {sorted(list(unique_apps))[:10]}\")"
      ]
    },
    {
      "cell_type": "markdown",
      "id": "06083966",
      "metadata": {
        "id": "06083966"
      },
      "source": [
        "### (9) mWifi\n",
        "\n",
        ": 사용자의 주변에서 감지된 와이파이 기기 목록입니다.\n",
        "- m_wifi: 감지된 와이파이수가 많음 다다름\n",
        "- ❗와이파이 감지 기기가 많으면\n",
        "\n",
        "-> 사람많은곳/도시/실내/움직임적음 등등의 요소임"
      ]
    },
    {
      "cell_type": "code",
      "execution_count": null,
      "id": "a4224f67",
      "metadata": {
        "id": "a4224f67",
        "outputId": "c609ff92-8487-4b10-a261-9e22cb8b8c97"
      },
      "outputs": [
        {
          "name": "stdout",
          "output_type": "stream",
          "text": [
            "<class 'pandas.core.frame.DataFrame'>\n",
            "RangeIndex: 76336 entries, 0 to 76335\n",
            "Data columns (total 3 columns):\n",
            " #   Column      Non-Null Count  Dtype         \n",
            "---  ------      --------------  -----         \n",
            " 0   subject_id  76336 non-null  object        \n",
            " 1   timestamp   76336 non-null  datetime64[ns]\n",
            " 2   m_wifi      76336 non-null  object        \n",
            "dtypes: datetime64[ns](1), object(2)\n",
            "memory usage: 1.7+ MB\n",
            "  subject_id           timestamp  \\\n",
            "0       id01 2024-06-26 12:03:00   \n",
            "1       id01 2024-06-26 12:13:00   \n",
            "2       id01 2024-06-26 12:23:00   \n",
            "3       id01 2024-06-26 12:33:00   \n",
            "4       id01 2024-06-26 12:43:00   \n",
            "5       id01 2024-06-26 12:53:00   \n",
            "6       id01 2024-06-26 13:03:00   \n",
            "7       id01 2024-06-26 13:13:00   \n",
            "8       id01 2024-06-26 13:23:00   \n",
            "9       id01 2024-06-26 13:33:00   \n",
            "\n",
            "                                              m_wifi  \n",
            "0  [{'bssid': 'a0:0f:37:9a:5d:8b', 'rssi': -78}, ...  \n",
            "1  [{'bssid': 'a0:0f:37:9a:5d:8b', 'rssi': -79}, ...  \n",
            "2  [{'bssid': '10:e3:c7:0a:74:d1', 'rssi': -78}, ...  \n",
            "3  [{'bssid': '10:e3:c7:09:7f:bc', 'rssi': -80}, ...  \n",
            "4  [{'bssid': '56:46:ae:59:b1:13', 'rssi': -44}, ...  \n",
            "5  [{'bssid': '5a:86:94:4e:08:38', 'rssi': -49}, ...  \n",
            "6  [{'bssid': '08:5d:dd:85:4b:3f', 'rssi': -79}, ...  \n",
            "7  [{'bssid': '88:36:6c:99:d3:e8', 'rssi': -84}, ...  \n",
            "8  [{'bssid': '08:5d:dd:cb:b7:d9', 'rssi': -77}, ...  \n",
            "9  [{'bssid': '00:07:89:b6:0e:d8', 'rssi': -80}, ...  \n",
            "43\n"
          ]
        }
      ],
      "source": [
        "data_item = \"mWifi\"\n",
        "df_data = pd.read_parquet(os.path.join(challenge2025_dataset_path, f\"ch2025_{data_item}.parquet\"))\n",
        "df_data.info()\n",
        "print(df_data.head(10))\n",
        "print(len(df_data.m_wifi[0])) #43"
      ]
    },
    {
      "cell_type": "markdown",
      "id": "6d0f71f2",
      "metadata": {
        "id": "6d0f71f2"
      },
      "source": [
        "----------------------\n",
        "### w~ 항목(10,11,12)은 건강 및 지속적인 운동량 체크로 생각"
      ]
    },
    {
      "cell_type": "markdown",
      "id": "604fd01f",
      "metadata": {
        "id": "604fd01f"
      },
      "source": [
        "### (10) wHr\n",
        ": 스마트워치로 기록된 심박수 데이터(갤럭시 워치)\n",
        "- 최대 분당 60회까지 기록 = 1초에 한번\n",
        "- heat_rate: 측정된 심박수 값의 리스트"
      ]
    },
    {
      "cell_type": "code",
      "execution_count": null,
      "id": "0f3b5adf",
      "metadata": {
        "id": "0f3b5adf",
        "outputId": "41250744-439d-4570-a605-09e2a72c80c7"
      },
      "outputs": [
        {
          "name": "stdout",
          "output_type": "stream",
          "text": [
            "<class 'pandas.core.frame.DataFrame'>\n",
            "RangeIndex: 382918 entries, 0 to 382917\n",
            "Data columns (total 3 columns):\n",
            " #   Column      Non-Null Count   Dtype         \n",
            "---  ------      --------------   -----         \n",
            " 0   subject_id  382918 non-null  object        \n",
            " 1   timestamp   382918 non-null  datetime64[ns]\n",
            " 2   heart_rate  382918 non-null  object        \n",
            "dtypes: datetime64[ns](1), object(2)\n",
            "memory usage: 8.8+ MB\n"
          ]
        },
        {
          "data": {
            "text/html": [
              "<div>\n",
              "<style scoped>\n",
              "    .dataframe tbody tr th:only-of-type {\n",
              "        vertical-align: middle;\n",
              "    }\n",
              "\n",
              "    .dataframe tbody tr th {\n",
              "        vertical-align: top;\n",
              "    }\n",
              "\n",
              "    .dataframe thead th {\n",
              "        text-align: right;\n",
              "    }\n",
              "</style>\n",
              "<table border=\"1\" class=\"dataframe\">\n",
              "  <thead>\n",
              "    <tr style=\"text-align: right;\">\n",
              "      <th></th>\n",
              "      <th>subject_id</th>\n",
              "      <th>timestamp</th>\n",
              "      <th>heart_rate</th>\n",
              "    </tr>\n",
              "  </thead>\n",
              "  <tbody>\n",
              "    <tr>\n",
              "      <th>0</th>\n",
              "      <td>id01</td>\n",
              "      <td>2024-06-26 12:23:00</td>\n",
              "      <td>[134, 134, 135, 133, 134, 135, 134, 135, 134, ...</td>\n",
              "    </tr>\n",
              "    <tr>\n",
              "      <th>1</th>\n",
              "      <td>id01</td>\n",
              "      <td>2024-06-26 12:24:00</td>\n",
              "      <td>[123, 122, 121, 120, 121, 121, 120, 118, 119, ...</td>\n",
              "    </tr>\n",
              "    <tr>\n",
              "      <th>2</th>\n",
              "      <td>id01</td>\n",
              "      <td>2024-06-26 12:25:00</td>\n",
              "      <td>[120, 119, 117, 116, 119, 121, 123, 123, 121, ...</td>\n",
              "    </tr>\n",
              "    <tr>\n",
              "      <th>3</th>\n",
              "      <td>id01</td>\n",
              "      <td>2024-06-26 12:26:00</td>\n",
              "      <td>[125, 124, 124, 124, 125, 124, 124, 123, 123, ...</td>\n",
              "    </tr>\n",
              "    <tr>\n",
              "      <th>4</th>\n",
              "      <td>id01</td>\n",
              "      <td>2024-06-26 12:27:00</td>\n",
              "      <td>[116, 116, 117, 118, 116, 116, 116, 117, 115, ...</td>\n",
              "    </tr>\n",
              "  </tbody>\n",
              "</table>\n",
              "</div>"
            ],
            "text/plain": [
              "  subject_id           timestamp  \\\n",
              "0       id01 2024-06-26 12:23:00   \n",
              "1       id01 2024-06-26 12:24:00   \n",
              "2       id01 2024-06-26 12:25:00   \n",
              "3       id01 2024-06-26 12:26:00   \n",
              "4       id01 2024-06-26 12:27:00   \n",
              "\n",
              "                                          heart_rate  \n",
              "0  [134, 134, 135, 133, 134, 135, 134, 135, 134, ...  \n",
              "1  [123, 122, 121, 120, 121, 121, 120, 118, 119, ...  \n",
              "2  [120, 119, 117, 116, 119, 121, 123, 123, 121, ...  \n",
              "3  [125, 124, 124, 124, 125, 124, 124, 123, 123, ...  \n",
              "4  [116, 116, 117, 118, 116, 116, 116, 117, 115, ...  "
            ]
          },
          "execution_count": 26,
          "metadata": {},
          "output_type": "execute_result"
        }
      ],
      "source": [
        "data_item = \"wHr\"\n",
        "df_data = pd.read_parquet(os.path.join(challenge2025_dataset_path, f\"ch2025_{data_item}.parquet\"))\n",
        "df_data.info()\n",
        "df_data.head()"
      ]
    },
    {
      "cell_type": "markdown",
      "id": "61a2fa3a",
      "metadata": {
        "id": "61a2fa3a"
      },
      "source": [
        "### (11) wLight\n",
        "\n",
        ": 스마트워치로 측정된 주변 밝기 수준\n",
        "- 10분 마다 측정\n",
        "- 조도의 단위 : lx(lux;럭스), 빛의 밝기를 수치로 나타냄\n",
        "- 밝기 단위 구간 기반으로 분류 필요\n",
        "\n",
        "❗ m_Light랑 차이 확인 요망 (측정기술 차이, 시계열, 어떤기기가 더 밝기 측정이 잘될것인가?)"
      ]
    },
    {
      "cell_type": "code",
      "execution_count": null,
      "id": "4e45a1a0",
      "metadata": {
        "id": "4e45a1a0",
        "outputId": "abebb87b-9330-4766-a4dc-19b74201a86b"
      },
      "outputs": [
        {
          "name": "stdout",
          "output_type": "stream",
          "text": [
            "<class 'pandas.core.frame.DataFrame'>\n",
            "RangeIndex: 633741 entries, 0 to 633740\n",
            "Data columns (total 3 columns):\n",
            " #   Column      Non-Null Count   Dtype         \n",
            "---  ------      --------------   -----         \n",
            " 0   subject_id  633741 non-null  object        \n",
            " 1   timestamp   633741 non-null  datetime64[ns]\n",
            " 2   w_light     633741 non-null  float64       \n",
            "dtypes: datetime64[ns](1), float64(1), object(1)\n",
            "memory usage: 14.5+ MB\n"
          ]
        },
        {
          "data": {
            "text/html": [
              "<div>\n",
              "<style scoped>\n",
              "    .dataframe tbody tr th:only-of-type {\n",
              "        vertical-align: middle;\n",
              "    }\n",
              "\n",
              "    .dataframe tbody tr th {\n",
              "        vertical-align: top;\n",
              "    }\n",
              "\n",
              "    .dataframe thead th {\n",
              "        text-align: right;\n",
              "    }\n",
              "</style>\n",
              "<table border=\"1\" class=\"dataframe\">\n",
              "  <thead>\n",
              "    <tr style=\"text-align: right;\">\n",
              "      <th></th>\n",
              "      <th>subject_id</th>\n",
              "      <th>timestamp</th>\n",
              "      <th>w_light</th>\n",
              "    </tr>\n",
              "  </thead>\n",
              "  <tbody>\n",
              "    <tr>\n",
              "      <th>0</th>\n",
              "      <td>id01</td>\n",
              "      <td>2024-06-26 12:17:00</td>\n",
              "      <td>633.0</td>\n",
              "    </tr>\n",
              "    <tr>\n",
              "      <th>1</th>\n",
              "      <td>id01</td>\n",
              "      <td>2024-06-26 12:18:00</td>\n",
              "      <td>483.0</td>\n",
              "    </tr>\n",
              "    <tr>\n",
              "      <th>2</th>\n",
              "      <td>id01</td>\n",
              "      <td>2024-06-26 12:19:00</td>\n",
              "      <td>541.0</td>\n",
              "    </tr>\n",
              "    <tr>\n",
              "      <th>3</th>\n",
              "      <td>id01</td>\n",
              "      <td>2024-06-26 12:20:00</td>\n",
              "      <td>547.0</td>\n",
              "    </tr>\n",
              "    <tr>\n",
              "      <th>4</th>\n",
              "      <td>id01</td>\n",
              "      <td>2024-06-26 12:21:00</td>\n",
              "      <td>547.0</td>\n",
              "    </tr>\n",
              "  </tbody>\n",
              "</table>\n",
              "</div>"
            ],
            "text/plain": [
              "  subject_id           timestamp  w_light\n",
              "0       id01 2024-06-26 12:17:00    633.0\n",
              "1       id01 2024-06-26 12:18:00    483.0\n",
              "2       id01 2024-06-26 12:19:00    541.0\n",
              "3       id01 2024-06-26 12:20:00    547.0\n",
              "4       id01 2024-06-26 12:21:00    547.0"
            ]
          },
          "execution_count": 29,
          "metadata": {},
          "output_type": "execute_result"
        }
      ],
      "source": [
        "data_item = \"wLight\"\n",
        "df_data = pd.read_parquet(os.path.join(challenge2025_dataset_path, f\"ch2025_{data_item}.parquet\"))\n",
        "df_data.info()\n",
        "df_data.head()"
      ]
    },
    {
      "cell_type": "markdown",
      "id": "06a01ccb",
      "metadata": {
        "id": "06a01ccb"
      },
      "source": [
        "### (12) wPedo\n",
        "\n",
        ": 스마트워치로 기록된 걸음 수 데이터\n",
        "\n",
        "- 건강지표(걸음수보단 운동을 하는지 안하는지 정도로 생각)\n",
        "\n",
        "- ❗mActivity의 (7)walking 이랑 데이터 정확한지 확인\n",
        "- ❗mGPS: 걸음수-GPS상의 위치 확인\n",
        "\n",
        "- step_frequency (단위시간당 보행 수)\n",
        "- distance\n",
        "- speed\n",
        "- step\n",
        "  - ❌running_step / walking_step : 전부 0 둘다 열제거\n",
        "- burned_calories (칼로리 소비량)"
      ]
    },
    {
      "cell_type": "code",
      "execution_count": null,
      "id": "024200be",
      "metadata": {
        "id": "024200be",
        "outputId": "23794f95-9f58-4042-b89e-bb750eaa85cf"
      },
      "outputs": [
        {
          "name": "stdout",
          "output_type": "stream",
          "text": [
            "<class 'pandas.core.frame.DataFrame'>\n",
            "RangeIndex: 748100 entries, 0 to 748099\n",
            "Data columns (total 9 columns):\n",
            " #   Column           Non-Null Count   Dtype         \n",
            "---  ------           --------------   -----         \n",
            " 0   subject_id       748100 non-null  object        \n",
            " 1   timestamp        748100 non-null  datetime64[ns]\n",
            " 2   step             748100 non-null  int64         \n",
            " 3   step_frequency   748100 non-null  float64       \n",
            " 4   running_step     748100 non-null  int64         \n",
            " 5   walking_step     748100 non-null  int64         \n",
            " 6   distance         748100 non-null  float64       \n",
            " 7   speed            748100 non-null  float64       \n",
            " 8   burned_calories  748100 non-null  float64       \n",
            "dtypes: datetime64[ns](1), float64(4), int64(3), object(1)\n",
            "memory usage: 51.4+ MB\n"
          ]
        },
        {
          "data": {
            "text/html": [
              "<div>\n",
              "<style scoped>\n",
              "    .dataframe tbody tr th:only-of-type {\n",
              "        vertical-align: middle;\n",
              "    }\n",
              "\n",
              "    .dataframe tbody tr th {\n",
              "        vertical-align: top;\n",
              "    }\n",
              "\n",
              "    .dataframe thead th {\n",
              "        text-align: right;\n",
              "    }\n",
              "</style>\n",
              "<table border=\"1\" class=\"dataframe\">\n",
              "  <thead>\n",
              "    <tr style=\"text-align: right;\">\n",
              "      <th></th>\n",
              "      <th>subject_id</th>\n",
              "      <th>timestamp</th>\n",
              "      <th>step</th>\n",
              "      <th>step_frequency</th>\n",
              "      <th>running_step</th>\n",
              "      <th>walking_step</th>\n",
              "      <th>distance</th>\n",
              "      <th>speed</th>\n",
              "      <th>burned_calories</th>\n",
              "    </tr>\n",
              "  </thead>\n",
              "  <tbody>\n",
              "    <tr>\n",
              "      <th>0</th>\n",
              "      <td>id01</td>\n",
              "      <td>2024-06-26 12:09:00</td>\n",
              "      <td>10</td>\n",
              "      <td>0.166667</td>\n",
              "      <td>0</td>\n",
              "      <td>0</td>\n",
              "      <td>8.33</td>\n",
              "      <td>0.138833</td>\n",
              "      <td>0.0</td>\n",
              "    </tr>\n",
              "    <tr>\n",
              "      <th>1</th>\n",
              "      <td>id01</td>\n",
              "      <td>2024-06-26 12:10:00</td>\n",
              "      <td>0</td>\n",
              "      <td>0.000000</td>\n",
              "      <td>0</td>\n",
              "      <td>0</td>\n",
              "      <td>0.00</td>\n",
              "      <td>0.000000</td>\n",
              "      <td>0.0</td>\n",
              "    </tr>\n",
              "    <tr>\n",
              "      <th>2</th>\n",
              "      <td>id01</td>\n",
              "      <td>2024-06-26 12:11:00</td>\n",
              "      <td>0</td>\n",
              "      <td>0.000000</td>\n",
              "      <td>0</td>\n",
              "      <td>0</td>\n",
              "      <td>0.00</td>\n",
              "      <td>0.000000</td>\n",
              "      <td>0.0</td>\n",
              "    </tr>\n",
              "    <tr>\n",
              "      <th>3</th>\n",
              "      <td>id01</td>\n",
              "      <td>2024-06-26 12:12:00</td>\n",
              "      <td>0</td>\n",
              "      <td>0.000000</td>\n",
              "      <td>0</td>\n",
              "      <td>0</td>\n",
              "      <td>0.00</td>\n",
              "      <td>0.000000</td>\n",
              "      <td>0.0</td>\n",
              "    </tr>\n",
              "    <tr>\n",
              "      <th>4</th>\n",
              "      <td>id01</td>\n",
              "      <td>2024-06-26 12:13:00</td>\n",
              "      <td>0</td>\n",
              "      <td>0.000000</td>\n",
              "      <td>0</td>\n",
              "      <td>0</td>\n",
              "      <td>0.00</td>\n",
              "      <td>0.000000</td>\n",
              "      <td>0.0</td>\n",
              "    </tr>\n",
              "  </tbody>\n",
              "</table>\n",
              "</div>"
            ],
            "text/plain": [
              "  subject_id           timestamp  step  step_frequency  running_step  \\\n",
              "0       id01 2024-06-26 12:09:00    10        0.166667             0   \n",
              "1       id01 2024-06-26 12:10:00     0        0.000000             0   \n",
              "2       id01 2024-06-26 12:11:00     0        0.000000             0   \n",
              "3       id01 2024-06-26 12:12:00     0        0.000000             0   \n",
              "4       id01 2024-06-26 12:13:00     0        0.000000             0   \n",
              "\n",
              "   walking_step  distance     speed  burned_calories  \n",
              "0             0      8.33  0.138833              0.0  \n",
              "1             0      0.00  0.000000              0.0  \n",
              "2             0      0.00  0.000000              0.0  \n",
              "3             0      0.00  0.000000              0.0  \n",
              "4             0      0.00  0.000000              0.0  "
            ]
          },
          "execution_count": 30,
          "metadata": {},
          "output_type": "execute_result"
        }
      ],
      "source": [
        "data_item = \"wPedo\"\n",
        "df_data = pd.read_parquet(os.path.join(challenge2025_dataset_path, f\"ch2025_{data_item}.parquet\"))\n",
        "df_data.info()\n",
        "df_data.head()"
      ]
    },
    {
      "cell_type": "code",
      "execution_count": null,
      "id": "ea3780e3",
      "metadata": {
        "id": "ea3780e3",
        "outputId": "59ee180c-8306-47ce-9580-d170df34d285"
      },
      "outputs": [
        {
          "data": {
            "text/html": [
              "<div>\n",
              "<style scoped>\n",
              "    .dataframe tbody tr th:only-of-type {\n",
              "        vertical-align: middle;\n",
              "    }\n",
              "\n",
              "    .dataframe tbody tr th {\n",
              "        vertical-align: top;\n",
              "    }\n",
              "\n",
              "    .dataframe thead th {\n",
              "        text-align: right;\n",
              "    }\n",
              "</style>\n",
              "<table border=\"1\" class=\"dataframe\">\n",
              "  <thead>\n",
              "    <tr style=\"text-align: right;\">\n",
              "      <th></th>\n",
              "      <th>subject_id</th>\n",
              "      <th>timestamp</th>\n",
              "      <th>step</th>\n",
              "      <th>step_frequency</th>\n",
              "      <th>running_step</th>\n",
              "      <th>walking_step</th>\n",
              "      <th>distance</th>\n",
              "      <th>speed</th>\n",
              "      <th>burned_calories</th>\n",
              "    </tr>\n",
              "  </thead>\n",
              "  <tbody>\n",
              "  </tbody>\n",
              "</table>\n",
              "</div>"
            ],
            "text/plain": [
              "Empty DataFrame\n",
              "Columns: [subject_id, timestamp, step, step_frequency, running_step, walking_step, distance, speed, burned_calories]\n",
              "Index: []"
            ]
          },
          "execution_count": 42,
          "metadata": {},
          "output_type": "execute_result"
        }
      ],
      "source": [
        "#STEP이 0이 아니면서 running walking도 0이 아닌 경우가 없다 뭐지\n",
        "a = df_data[(df_data[\"step\"] != 0) & ((df_data[\"running_step\"] != 0) | (df_data[\"walking_step\"] != 0))]\n",
        "a"
      ]
    },
    {
      "cell_type": "code",
      "execution_count": null,
      "id": "708ead2c",
      "metadata": {
        "id": "708ead2c",
        "outputId": "af3068b1-429a-4bd2-baf9-b5107f43f17a"
      },
      "outputs": [
        {
          "name": "stdout",
          "output_type": "stream",
          "text": [
            "[0]\n",
            "[0]\n",
            "[ 10   0  12  17 109  89  97  80  26  32 110  22  23  54  47  39  33  13\n",
            "  18  34  38  31  20  60  69  14  11  59  90  86 101  53 104  68  45  36\n",
            " 119  35  16  37  65  70  67  57  56  30  27   6  98  79  21  61  42  52\n",
            "   3   9  46  48  78   2  40  19  85  63  43   1  29  81  96  44  62  50\n",
            "  25  51  15  92  94  41  58 112 115 117 116  72 113 106  73  87  49  91\n",
            "  88 131  64   5 108  66   7  24  75  55   8  74 105  95 120 118   4  28\n",
            "  83 111 151 124 172  76 126 122 121 107 102 138 103  99 100 114  82 198\n",
            " 129  93  77 130 227 222  84 201 128  71 191 132 171 197 127 165 146 145\n",
            " 134 123 133 154 136 135 160 166 215 185 179 174 167 228 205 125 181 177\n",
            " 281 258 169 238 196 142 150 143 139 199 195 173 168 178 202 211 158 188\n",
            " 157 140 182 184 175 152 156 203 194 163 162 144 141 137 159 176 147 149\n",
            " 155 186 170 153 180 148 183 192 207 204 200 190 221 187 212 235 234 224\n",
            " 208 317 237 217 164 161 260 232 216]\n"
          ]
        }
      ],
      "source": [
        "#결론: 제거하는 열임\n",
        "print(df_data[\"running_step\"].unique())\n",
        "print(df_data[\"walking_step\"].unique())\n",
        "print(df_data[\"step\"].unique())"
      ]
    }
  ],
  "metadata": {
    "kernelspec": {
      "display_name": "base",
      "language": "python",
      "name": "python3"
    },
    "language_info": {
      "codemirror_mode": {
        "name": "ipython",
        "version": 3
      },
      "file_extension": ".py",
      "mimetype": "text/x-python",
      "name": "python",
      "nbconvert_exporter": "python",
      "pygments_lexer": "ipython3",
      "version": "3.12.7"
    },
    "colab": {
      "provenance": [],
      "include_colab_link": true
    }
  },
  "nbformat": 4,
  "nbformat_minor": 5
}