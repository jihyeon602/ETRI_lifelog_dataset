{
  "cells": [
    {
      "cell_type": "markdown",
      "metadata": {
        "id": "view-in-github",
        "colab_type": "text"
      },
      "source": [
        "<a href=\"https://colab.research.google.com/github/jihyeon602/ETRI_lifelog_dataset/blob/main/ETRI_(timegan)_(1).ipynb\" target=\"_parent\"><img src=\"https://colab.research.google.com/assets/colab-badge.svg\" alt=\"Open In Colab\"/></a>"
      ]
    },
    {
      "cell_type": "markdown",
      "id": "7af526ed",
      "metadata": {
        "id": "7af526ed"
      },
      "source": [
        "# 기본 경로지정, parquet 파일 확인"
      ]
    },
    {
      "cell_type": "code",
      "source": [
        "from google.colab import drive\n",
        "drive.mount('/content/drive')"
      ],
      "metadata": {
        "colab": {
          "base_uri": "https://localhost:8080/"
        },
        "id": "3AM_ui_TghN_",
        "outputId": "92de32e6-48de-4342-d612-dfb9efb7fbb8"
      },
      "id": "3AM_ui_TghN_",
      "execution_count": 1,
      "outputs": [
        {
          "output_type": "stream",
          "name": "stdout",
          "text": [
            "Mounted at /content/drive\n"
          ]
        }
      ]
    },
    {
      "cell_type": "code",
      "execution_count": 2,
      "id": "9bfa6207-0c78-4422-a502-f34d2438582a",
      "metadata": {
        "colab": {
          "base_uri": "https://localhost:8080/"
        },
        "id": "9bfa6207-0c78-4422-a502-f34d2438582a",
        "outputId": "c760c94d-69da-4649-eeeb-9772647bfefe"
      },
      "outputs": [
        {
          "output_type": "stream",
          "name": "stdout",
          "text": [
            "challenge 2025 dataset ===== \n",
            "\n",
            "ch2025_mACStatus.parquet\n",
            "ch2025_mActivity.parquet\n",
            "ch2025_mAmbience.parquet\n",
            "ch2025_mBle.parquet\n",
            "ch2025_mGps.parquet\n",
            "ch2025_mLight.parquet\n",
            "ch2025_mScreenStatus.parquet\n",
            "ch2025_mUsageStats.parquet\n",
            "ch2025_mWifi.parquet\n",
            "ch2025_wHr.parquet\n",
            "ch2025_wLight.parquet\n",
            "ch2025_wPedo.parquet\n"
          ]
        }
      ],
      "source": [
        "# 1. 실험 재현을 위한 Seed 고정 (가장 맨 위에 둬야 함)\n",
        "import os\n",
        "import random\n",
        "import numpy as np\n",
        "import tensorflow as tf\n",
        "\n",
        "os.environ['PYTHONHASHSEED'] = '42'\n",
        "np.random.seed(42)\n",
        "random.seed(42)\n",
        "tf.random.set_seed(42)\n",
        "tf.config.experimental.enable_op_determinism()  # TensorFlow 2.9 이상에서만\n",
        "\n",
        "import pandas as pd\n",
        "import matplotlib.pyplot as plt\n",
        "import seaborn as sns\n",
        "import torch\n",
        "import torch.nn as nn\n",
        "import random\n",
        "\n",
        "from tensorflow.keras.callbacks import EarlyStopping\n",
        "from tensorflow.keras.optimizers import Adam\n",
        "from tensorflow.keras import layers, models, Input\n",
        "from tensorflow.keras.models import Model\n",
        "from tensorflow.keras.layers import Input, Conv1D, BatchNormalization, ReLU, GlobalAveragePooling1D, Dense, Dropout\n",
        "\n",
        "from sklearn.model_selection import train_test_split\n",
        "from sklearn.metrics import f1_score\n",
        "from sklearn.preprocessing import StandardScaler, MinMaxScaler\n",
        "from sklearn.decomposition import PCA\n",
        "\n",
        "from scipy.stats import mode\n",
        "from scipy import stats\n",
        "from datetime import timedelta\n",
        "from tqdm import tqdm\n",
        "\n",
        "# Note: Set the file path associated with the dataset.\n",
        "challenge2025_dataset_path = '/content/drive/MyDrive/Sleep/ch2025_data_items'\n",
        "\n",
        "# To print the list of data items\n",
        "print(\"challenge 2025 dataset \" + \"=\"*5,'\\n')\n",
        "for file_name in sorted(os.listdir(challenge2025_dataset_path)):\n",
        "    if file_name.endswith('.parquet'):\n",
        "        print(file_name)"
      ]
    },
    {
      "cell_type": "markdown",
      "id": "bff590e9",
      "metadata": {
        "id": "bff590e9"
      },
      "source": [
        "# 데이터 전처리"
      ]
    },
    {
      "cell_type": "markdown",
      "id": "de4405a4",
      "metadata": {
        "id": "de4405a4"
      },
      "source": [
        "### 1. mACStatus, 1분당 1회"
      ]
    },
    {
      "cell_type": "code",
      "execution_count": 3,
      "id": "05b73540-4b26-4507-afe6-8b3d105896a9",
      "metadata": {
        "id": "05b73540-4b26-4507-afe6-8b3d105896a9"
      },
      "outputs": [],
      "source": [
        "data_item = \"mACStatus\"  # 스마트폰 충전 여부\n",
        "input1 = pd.read_parquet(os.path.join(challenge2025_dataset_path, f\"ch2025_{data_item}.parquet\"))\n",
        "acstatus_ohe = pd.get_dummies(input1['m_charging'], prefix='charging').astype(int)\n",
        "\n",
        "# 기존 데이터와 결합 (subject_id, timestamp 유지)\n",
        "input1 = pd.concat([input1[['subject_id', 'timestamp']], acstatus_ohe], axis=1)"
      ]
    },
    {
      "cell_type": "markdown",
      "id": "37d2104d",
      "metadata": {
        "id": "37d2104d"
      },
      "source": [
        "### 2. mActivity,  1분당 1회"
      ]
    },
    {
      "cell_type": "code",
      "execution_count": 4,
      "id": "34436d4c",
      "metadata": {
        "id": "34436d4c"
      },
      "outputs": [],
      "source": [
        "data_item = \"mActivity\" # 사용자 활동 상태\n",
        "input2 = pd.read_parquet(os.path.join(challenge2025_dataset_path, f\"ch2025_{data_item}.parquet\"))\n",
        "\n",
        "# 원-핫 인코딩 수행\n",
        "activity_ohe = pd.get_dummies(input2['m_activity'], prefix='activity').astype(int)\n",
        "\n",
        "# 기존 데이터와 결합 (subject_id, timestamp 유지)\n",
        "input2 = pd.concat([input2[['subject_id', 'timestamp']], activity_ohe], axis=1)"
      ]
    },
    {
      "cell_type": "markdown",
      "id": "ee5e6dfc",
      "metadata": {
        "id": "ee5e6dfc"
      },
      "source": [
        "### 3. mAmbience, 2분당 1회"
      ]
    },
    {
      "cell_type": "code",
      "execution_count": 5,
      "id": "adfcda47",
      "metadata": {
        "id": "adfcda47"
      },
      "outputs": [],
      "source": [
        "data_item = \"mAmbience\"  # 주변 소음 데이터\n",
        "input3 = pd.read_parquet(os.path.join(challenge2025_dataset_path, f\"ch2025_{data_item}.parquet\"))\n",
        "\n",
        "# timestamp 초단위 제거 (초를 0초로)\n",
        "input3['timestamp'] = input3['timestamp'].dt.floor('min')\n",
        "\n",
        "# 전체 key 수집\n",
        "all_keys = set()\n",
        "for row in input3['m_ambience']:\n",
        "    for item in row:\n",
        "        all_keys.add(item[0])\n",
        "\n",
        "key_list = sorted(all_keys)\n",
        "key_to_index = {key: idx for idx, key in enumerate(key_list)}\n",
        "vector_length = len(key_list)\n",
        "\n",
        "# key-value → 확률 벡터 변환 함수\n",
        "def ambience_to_vector(row):\n",
        "    vec = np.zeros(vector_length, dtype=np.float32)\n",
        "    for item in row:\n",
        "        key, value = item\n",
        "        if key in key_to_index:\n",
        "            vec[key_to_index[key]] = float(value)\n",
        "    return vec\n",
        "\n",
        "# 변환 적용\n",
        "ambience_vectors = np.stack(input3['m_ambience'].apply(ambience_to_vector))\n",
        "ambience_df = pd.DataFrame(ambience_vectors, columns=[f\"amb_{k}\" for k in key_list], index=input3.index)\n",
        "\n",
        "# PCA 적용\n",
        "amb_data = ambience_df.values\n",
        "pca = PCA(n_components=10, random_state=42)\n",
        "amb_pca = pca.fit_transform(amb_data)\n",
        "pca_cols = [f'amb_pca_{i}' for i in range(1, 11)]\n",
        "amb_pca_df = pd.DataFrame(amb_pca, columns=pca_cols, index=input3.index)\n",
        "\n",
        "# subject_id, timestamp와 결합\n",
        "input3 = pd.concat([input3[['subject_id', 'timestamp']], amb_pca_df], axis=1)"
      ]
    },
    {
      "cell_type": "markdown",
      "id": "f4922c1e",
      "metadata": {
        "id": "f4922c1e"
      },
      "source": [
        "### 4. mBLE, 10분당 1회"
      ]
    },
    {
      "cell_type": "code",
      "execution_count": 6,
      "id": "5aa922ed-ae92-440d-bc2e-7b07f9611ec6",
      "metadata": {
        "id": "5aa922ed-ae92-440d-bc2e-7b07f9611ec6"
      },
      "outputs": [],
      "source": [
        "# Step 0: Load parquet\n",
        "data_item = \"mBle\"\n",
        "input4 = pd.read_parquet(os.path.join(challenge2025_dataset_path, f\"ch2025_{data_item}.parquet\"))\n",
        "\n",
        "# Step 1: m_ble explode + 정리\n",
        "exploded = input4.explode('m_ble').reset_index(drop=True)\n",
        "ble_df = pd.json_normalize(exploded['m_ble'])\n",
        "\n",
        "# Step 2: subject_id, timestamp 복원\n",
        "ble_df['subject_id'] = exploded['subject_id']\n",
        "ble_df['timestamp'] = exploded['timestamp']\n",
        "\n",
        "# Step 3: RSSI 수치 정제 및 통계 요약\n",
        "ble_df['rssi'] = ble_df['rssi'].astype(float)\n",
        "ble_stats = ble_df.groupby(['subject_id', 'timestamp'])['rssi'].agg(\n",
        "    ble_rssi_mean='mean',\n",
        "    ble_rssi_std='std',\n",
        "    ble_rssi_min='min',\n",
        "    ble_rssi_max='max',\n",
        "    ble_rssi_count='count'\n",
        ").reset_index()\n",
        "\n",
        "# Step 4: device_class One-hot 인코딩 + 평균 집계\n",
        "device_ohe = pd.get_dummies(ble_df['device_class'], prefix='ble_device_class').astype(int)\n",
        "ble_df = pd.concat([ble_df, device_ohe], axis=1)\n",
        "device_class_agg = ble_df.groupby(['subject_id', 'timestamp'])[device_ohe.columns].mean().reset_index()\n",
        "\n",
        "# Step 5: address 고유 개수 count\n",
        "address_count = ble_df.groupby(['subject_id', 'timestamp'])['address'].nunique().reset_index()\n",
        "address_count = address_count.rename(columns={'address': 'ble_device_unique_count'})\n",
        "\n",
        "# Step 6: 병합\n",
        "input4_cnn = ble_stats.merge(device_class_agg, on=['subject_id', 'timestamp'], how='outer')\n",
        "input4_cnn = input4_cnn.merge(address_count, on=['subject_id', 'timestamp'], how='outer')\n",
        "input4_cnn = input4_cnn.fillna(0)\n",
        "\n",
        "# Step 7: RSSI 통계 정규화 (z-score)\n",
        "rssi_cols = ['ble_rssi_mean', 'ble_rssi_std', 'ble_rssi_min', 'ble_rssi_max', 'ble_rssi_count']\n",
        "scaler = StandardScaler()\n",
        "input4_cnn[rssi_cols] = scaler.fit_transform(input4_cnn[rssi_cols])\n",
        "\n",
        "# Step 8: device_class OHE → PCA(5차원 축소)\n",
        "device_ohe_cols = [col for col in input4_cnn.columns if col.startswith('ble_device_class_')]\n",
        "device_ohe_data = input4_cnn[device_ohe_cols]\n",
        "\n",
        "pca = PCA(n_components=5, random_state=42)\n",
        "device_pca = pca.fit_transform(device_ohe_data)\n",
        "pca_cols = [f'ble_device_pca_{i+1}' for i in range(5)]\n",
        "device_pca_df = pd.DataFrame(device_pca, columns=pca_cols, index=input4_cnn.index)\n",
        "\n",
        "# Step 9: PCA 결과 붙이기 + 기존 OHE 제거\n",
        "input4_cnn = pd.concat([input4_cnn.drop(columns=device_ohe_cols), device_pca_df], axis=1)\n",
        "\n",
        "# Step 10: ble_device_unique_count 정규화 (0~1 스케일)\n",
        "scaler = StandardScaler()\n",
        "input4_cnn['ble_device_unique_count'] = scaler.fit_transform(input4_cnn[['ble_device_unique_count']])\n",
        "input4 = input4_cnn"
      ]
    },
    {
      "cell_type": "markdown",
      "id": "a653c838",
      "metadata": {
        "id": "a653c838"
      },
      "source": [
        "### 5. mGps"
      ]
    },
    {
      "cell_type": "code",
      "execution_count": 7,
      "id": "a47c37bc",
      "metadata": {
        "id": "a47c37bc"
      },
      "outputs": [],
      "source": [
        "data_item = \"mGps\"  # 스마트폰으로 측정된 GPS 데이터, 위치 데이터\n",
        "input5 = pd.read_parquet(os.path.join(challenge2025_dataset_path, f\"ch2025_{data_item}.parquet\"))\n",
        "\n",
        "# Step 1: m_gps 속도 평균 계산\n",
        "def compute_speed_mean(mgps_list):\n",
        "    if not isinstance(mgps_list, (list, np.ndarray)) or len(mgps_list) == 0:\n",
        "        return np.nan\n",
        "    speeds = [point.get('speed', 0) for point in mgps_list if isinstance(point, dict) and 'speed' in point]\n",
        "    if not speeds:\n",
        "        return np.nan\n",
        "    return np.mean(speeds)\n",
        "\n",
        "input5['speed_mean'] = input5['m_gps'].apply(compute_speed_mean)\n",
        "\n",
        "# Step 2: m_gps 열 삭제 + NaN 제거\n",
        "input5 = input5[['subject_id', 'timestamp', 'speed_mean']]\n",
        "input5 = input5.dropna(subset=['speed_mean'])\n",
        "\n",
        "# Step 3: speed_mean 클리핑 (10m/s 초과 값 10으로 고정)\n",
        "input5['speed_mean'] = input5['speed_mean'].clip(upper=10)\n",
        "\n",
        "# Step 4: speed_mean에 Z-Score 정규화 적용\n",
        "scaler = StandardScaler()\n",
        "input5['speed_zscore'] = scaler.fit_transform(input5[['speed_mean']])"
      ]
    },
    {
      "cell_type": "markdown",
      "id": "2282e65a",
      "metadata": {
        "id": "2282e65a"
      },
      "source": [
        "### 6. mLight, 10분당 1회"
      ]
    },
    {
      "cell_type": "code",
      "execution_count": 8,
      "id": "b8fd243b-5bbb-45af-8d26-bccb1cd511d6",
      "metadata": {
        "id": "b8fd243b-5bbb-45af-8d26-bccb1cd511d6"
      },
      "outputs": [],
      "source": [
        "data_item = \"mLight\"  # 주변 밝기 수준 (Lux)\n",
        "input6 = pd.read_parquet(os.path.join(challenge2025_dataset_path, f\"ch2025_{data_item}.parquet\"))\n",
        "\n",
        "# Step 1: 로그 변환\n",
        "input6['m_light_log'] = np.log1p(input6['m_light'])\n",
        "\n",
        "# Step 2: Z-Score 정규화\n",
        "scaler = StandardScaler()\n",
        "input6['m_light_zscore'] = scaler.fit_transform(input6[['m_light_log']])\n",
        "\n",
        "# Step 3: 최종 CNN 입력용 컬럼 정리\n",
        "input6 = input6[['subject_id', 'timestamp', 'm_light_zscore']]"
      ]
    },
    {
      "cell_type": "markdown",
      "id": "9b4e4f4b",
      "metadata": {
        "id": "9b4e4f4b"
      },
      "source": [
        "### 7. mScreenStatus, 1분당 1회"
      ]
    },
    {
      "cell_type": "code",
      "execution_count": 9,
      "id": "e557ec06-4dd4-48b3-a95c-f9ddac6fde65",
      "metadata": {
        "id": "e557ec06-4dd4-48b3-a95c-f9ddac6fde65"
      },
      "outputs": [],
      "source": [
        "data_item = \"mScreenStatus\"  # 스마트폰 화면 켜짐 여부\n",
        "input7 = pd.read_parquet(os.path.join(challenge2025_dataset_path, f\"ch2025_{data_item}.parquet\"))\n",
        "\n",
        "# One-Hot Encoding\n",
        "screen_ohe = pd.get_dummies(input7['m_screen_use'], prefix='screen').astype(int)\n",
        "\n",
        "# 최종 정제: m_screen_use도 남기고 OHE도 추가\n",
        "input7 = pd.concat([input7[['subject_id', 'timestamp']], screen_ohe], axis=1)"
      ]
    },
    {
      "cell_type": "markdown",
      "id": "fb40f996",
      "metadata": {
        "id": "fb40f996"
      },
      "source": [
        "### 8. mUsageStats, 10분당 1회"
      ]
    },
    {
      "cell_type": "code",
      "execution_count": 10,
      "id": "d357a576-46cc-4ac3-811d-65628aa638b8",
      "metadata": {
        "id": "d357a576-46cc-4ac3-811d-65628aa638b8"
      },
      "outputs": [],
      "source": [
        "data_item = \"mUsageStats\" # 10분간 어플 사용정보\n",
        "input8 = pd.read_parquet(os.path.join(challenge2025_dataset_path, f\"ch2025_{data_item}.parquet\"))\n",
        "\n",
        "# 어플사용시간 비율/10분\n",
        "def calc_usage_ratio(app_list):\n",
        "    if not isinstance(app_list, (list, np.ndarray)) or len(app_list) == 0:\n",
        "        return np.nan\n",
        "    total_time = sum(item.get('total_time', 0) for item in app_list)\n",
        "    return (total_time/600000) / len(app_list)\n",
        "input8['usage_ratio'] = input8['m_usage_stats'].apply(calc_usage_ratio)\n",
        "\n",
        "# 편향되어있어서 Min-Max 정규화\n",
        "# Min-Max 정규화\n",
        "min_val = input8['usage_ratio'].min()\n",
        "max_val = input8['usage_ratio'].max()\n",
        "input8['usage_ratio_norm'] = (input8['usage_ratio'] - min_val) / (max_val - min_val)\n",
        "input8 = input8.drop(columns=['m_usage_stats','usage_ratio'])"
      ]
    },
    {
      "cell_type": "markdown",
      "id": "dc917260",
      "metadata": {
        "id": "dc917260"
      },
      "source": [
        "### 9. mWifi, 10분당 1회"
      ]
    },
    {
      "cell_type": "code",
      "execution_count": 11,
      "id": "da257aa2",
      "metadata": {
        "id": "da257aa2"
      },
      "outputs": [],
      "source": [
        "data_item = \"mWifi\"\n",
        "input9 = pd.read_parquet(os.path.join(challenge2025_dataset_path, f\"ch2025_{data_item}.parquet\"))\n",
        "\n",
        "# Step 1: m_wifi explode + 정리\n",
        "exploded = input9.explode('m_wifi').reset_index(drop=True)\n",
        "wifi_df = pd.json_normalize(exploded['m_wifi'])\n",
        "\n",
        "# Step 2: subject_id, timestamp 복원\n",
        "wifi_df['subject_id'] = exploded['subject_id']\n",
        "wifi_df['timestamp'] = exploded['timestamp']\n",
        "\n",
        "# Step 3: RSSI 수치 정제 및 통계 요약\n",
        "wifi_df['rssi'] = wifi_df['rssi'].astype(float)\n",
        "wifi_stats = wifi_df.groupby(['subject_id', 'timestamp'])['rssi'].agg(\n",
        "    wifi_rssi_mean='mean',\n",
        "    wifi_rssi_std='std',\n",
        "    wifi_rssi_min='min',\n",
        "    wifi_rssi_max='max',\n",
        "    wifi_rssi_count='count'\n",
        ").reset_index()\n",
        "\n",
        "# Step 4: 상위 100개 BSSID만 One-hot 인코딩 + 평균 집계\n",
        "top_bssid = wifi_df['bssid'].value_counts().sort_index().head(100).index\n",
        "wifi_df['bssid_top'] = wifi_df['bssid'].where(wifi_df['bssid'].isin(top_bssid), 'OTHER')\n",
        "\n",
        "bssid_ohe = pd.get_dummies(wifi_df['bssid_top'], prefix='bssid').astype(int)\n",
        "wifi_df = pd.concat([wifi_df, bssid_ohe], axis=1)\n",
        "bssid_agg = wifi_df.groupby(['subject_id', 'timestamp'])[bssid_ohe.columns].mean().reset_index()\n",
        "\n",
        "# Step 5: 고유 BSSID 개수 count\n",
        "bssid_count = wifi_df.groupby(['subject_id', 'timestamp'])['bssid'].nunique().reset_index()\n",
        "bssid_count = bssid_count.rename(columns={'bssid': 'bssid_count'})\n",
        "\n",
        "# Step 6: 병합\n",
        "input9_cnn = wifi_stats.merge(bssid_agg, on=['subject_id', 'timestamp'], how='outer')\n",
        "input9_cnn = input9_cnn.merge(bssid_count, on=['subject_id', 'timestamp'], how='outer')\n",
        "input9_cnn = input9_cnn.fillna(0)\n",
        "\n",
        "# Step 7: RSSI 관련 통계 정규화 (z-score)\n",
        "rssi_cols = ['wifi_rssi_mean', 'wifi_rssi_std', 'wifi_rssi_min', 'wifi_rssi_max', 'wifi_rssi_count']\n",
        "scaler = StandardScaler()\n",
        "input9_cnn[rssi_cols] = scaler.fit_transform(input9_cnn[rssi_cols])\n",
        "\n",
        "# Step 8: bssid 컬럼 이름 정리 → bssid_1 ~ bssid_100, bssid_OTHER\n",
        "bssid_cols = [col for col in input9_cnn.columns if col.startswith('bssid_')]\n",
        "other_col = [col for col in bssid_cols if col.endswith('OTHER')]\n",
        "top_cols = sorted(set(bssid_cols) - set(other_col))\n",
        "\n",
        "rename_map = {col: f\"bssid_{i+1}\" for i, col in enumerate(top_cols)}\n",
        "if other_col:\n",
        "    rename_map[other_col[0]] = 'bssid_OTHER'\n",
        "\n",
        "input9_cnn = input9_cnn.rename(columns=rename_map)\n",
        "\n",
        "# Step 9: PCA 적용 대상 컬럼 찾기\n",
        "pca_input_cols = [col for col in input9_cnn.columns if col.startswith('bssid_')]\n",
        "\n",
        "# Step 10: PCA 적용 (예: 10차원으로 축소)\n",
        "pca = PCA(n_components=10, random_state=42)\n",
        "bssid_pca = pca.fit_transform(input9_cnn[pca_input_cols])\n",
        "pca_cols = [f'bssid_pca_{i+1}' for i in range(10)]\n",
        "bssid_pca_df = pd.DataFrame(bssid_pca, columns=pca_cols, index=input9_cnn.index)\n",
        "\n",
        "# Step 11: PCA 결과 붙이기 + 기존 OHE 제거\n",
        "input9 = pd.concat([input9_cnn.drop(columns=pca_input_cols), bssid_pca_df], axis=1)"
      ]
    },
    {
      "cell_type": "markdown",
      "id": "45d8f7b8",
      "metadata": {
        "id": "45d8f7b8"
      },
      "source": [
        "### 10. wHr"
      ]
    },
    {
      "cell_type": "code",
      "execution_count": 12,
      "id": "58980e44",
      "metadata": {
        "id": "58980e44"
      },
      "outputs": [],
      "source": [
        "# Step 1: 심박수 데이터 로드\n",
        "data_item = \"wHr\"  # 심박수\n",
        "input10 = pd.read_parquet(os.path.join(challenge2025_dataset_path, f\"ch2025_{data_item}.parquet\"))\n",
        "\n",
        "# Step 2: 심박수 통계 계산 함수 (이상치 필터링 포함)\n",
        "def calc_hr_stats_filtered(hr_list):\n",
        "    if not isinstance(hr_list, (list, np.ndarray)) or len(hr_list) == 0:\n",
        "        return pd.Series([np.nan] * 5)\n",
        "    valid = [x for x in hr_list if 40 <= x <= 200]\n",
        "    if len(valid) == 0:\n",
        "        return pd.Series([np.nan] * 5)\n",
        "    min_hr = np.min(valid)\n",
        "    mean_hr = np.mean(valid)\n",
        "    median_hr = np.median(valid)\n",
        "    mode_result = stats.mode(valid, keepdims=True)\n",
        "    mode_hr = mode_result.mode[0] if mode_result.count[0] > 0 else np.nan\n",
        "    max_hr = np.max(valid)\n",
        "    return pd.Series([min_hr, mean_hr, median_hr, mode_hr, max_hr])\n",
        "\n",
        "# Step 3: 통계 컬럼 생성\n",
        "input10[['min_hr', 'mean_hr', 'median_hr', 'mode_hr', 'max_hr']] = input10['heart_rate'].apply(calc_hr_stats_filtered)\n",
        "\n",
        "# Step 4: NaN 제거\n",
        "input10 = input10.dropna(subset=['mean_hr'])\n",
        "\n",
        "# Step 5: heart_rate 컬럼 제거\n",
        "input10 = input10.drop(columns='heart_rate')\n",
        "\n",
        "# Step 6: Z-Score 정규화\n",
        "hr_cols = ['min_hr', 'mean_hr', 'median_hr', 'mode_hr', 'max_hr']\n",
        "scaler = StandardScaler()\n",
        "input10_zscore = scaler.fit_transform(input10[hr_cols])\n",
        "\n",
        "# Step 7: 정규화된 결과를 DataFrame에 넣기\n",
        "input10_zscore = pd.DataFrame(input10_zscore, columns=[f'{col}_zscore' for col in hr_cols], index=input10.index)\n",
        "\n",
        "# Step 8: 원본 min/mean/median/mode/max 컬럼 삭제 후 zscore 컬럼 붙이기\n",
        "input10 = pd.concat([input10[['subject_id', 'timestamp']], input10_zscore], axis=1)"
      ]
    },
    {
      "cell_type": "markdown",
      "id": "238dd866",
      "metadata": {
        "id": "238dd866"
      },
      "source": [
        "### 11. wLight, 1분당 1회"
      ]
    },
    {
      "cell_type": "code",
      "execution_count": 13,
      "id": "d95847eb-a9e8-49d5-a3ae-6b52c23f3335",
      "metadata": {
        "id": "d95847eb-a9e8-49d5-a3ae-6b52c23f3335"
      },
      "outputs": [],
      "source": [
        "data_item = \"wLight\"\n",
        "input11 = pd.read_parquet(os.path.join(challenge2025_dataset_path, f\"ch2025_{data_item}.parquet\"))\n",
        "\n",
        "# Step 1: 로그 변환\n",
        "input11['w_light_log'] = np.log1p(input11['w_light'])\n",
        "\n",
        "# Step 2: Z-Score 정규화\n",
        "scaler = StandardScaler()\n",
        "input11['w_light_zscore'] = scaler.fit_transform(input11[['w_light_log']])\n",
        "\n",
        "# Step 3: 최종 CNN 입력용 컬럼만 유지\n",
        "input11_cnn = input11[['subject_id', 'timestamp', 'w_light_zscore']]\n",
        "input11 = input11_cnn"
      ]
    },
    {
      "cell_type": "markdown",
      "id": "1336ce39",
      "metadata": {
        "id": "1336ce39"
      },
      "source": [
        "### 12. wPedo, 1분당 1회"
      ]
    },
    {
      "cell_type": "code",
      "execution_count": 14,
      "id": "e2d9b063-bfe2-4c86-81a6-e3434d9222c3",
      "metadata": {
        "id": "e2d9b063-bfe2-4c86-81a6-e3434d9222c3"
      },
      "outputs": [],
      "source": [
        "data_item = \"wPedo\"\n",
        "input12 = pd.read_parquet(os.path.join(challenge2025_dataset_path, f\"ch2025_{data_item}.parquet\"))\n",
        "\n",
        "# 빈 열, 이상치 제거\n",
        "input12 = input12.drop(columns=['running_step', 'walking_step'])\n",
        "input12 = input12[input12['burned_calories'] <= 15]\n",
        "\n",
        "# 정규화\n",
        "features_to_norm = ['step', 'step_frequency', 'distance', 'speed', 'burned_calories']\n",
        "# log1p 적용\n",
        "for col in features_to_norm:\n",
        "    input12[f'{col}_log'] = np.log1p(input12[col])\n",
        "# Min-Max 정규화\n",
        "for col in features_to_norm:\n",
        "    log_col = f'{col}_log'\n",
        "    min_val = input12[log_col].min()\n",
        "    max_val = input12[log_col].max()\n",
        "    input12[f'{col}_norm'] = (input12[log_col] - min_val) / (max_val - min_val)\n",
        "\n",
        "input12_cnn = input12[['subject_id', 'timestamp'] + [f'{col}_norm' for col in features_to_norm]]\n",
        "input12 = input12_cnn"
      ]
    },
    {
      "cell_type": "markdown",
      "id": "770e3517",
      "metadata": {
        "id": "770e3517"
      },
      "source": [
        "# Train.csv, Input Data 구조 설정"
      ]
    },
    {
      "cell_type": "code",
      "execution_count": 15,
      "id": "85ceaf8b",
      "metadata": {
        "id": "85ceaf8b"
      },
      "outputs": [],
      "source": [
        "# 레이블 로딩\n",
        "df_label = pd.read_csv(\"/content/drive/MyDrive/Sleep/ch2025_metrics_train.csv\")\n",
        "df_label['lifelog_date'] = pd.to_datetime(df_label['lifelog_date'])\n",
        "df_label['sleep_date'] = pd.to_datetime(df_label['sleep_date'])\n",
        "\n",
        "# feature 구조 정의 (21개 피처)\n",
        "feature_structure = {\n",
        "    'input1': ['charging_0', 'charging_1'],\n",
        "    'input2': ['activity_0','activity_1','activity_3','activity_4','activity_7','activity_8'],\n",
        "    'input3': ['amb_pca_1','amb_pca_2','amb_pca_3','amb_pca_4','amb_pca_5','amb_pca_6','amb_pca_7','amb_pca_8','amb_pca_9','amb_pca_10'],\n",
        "\n",
        "    'input4': ['ble_rssi_mean','ble_rssi_std','ble_rssi_min','ble_rssi_max','ble_rssi_count','ble_device_unique_count',\n",
        "               'ble_device_pca_1','ble_device_pca_2','ble_device_pca_3','ble_device_pca_4','ble_device_pca_5'],\n",
        "    'input5': ['speed_mean','speed_zscore'],\n",
        "    'input6': ['m_light_zscore'],\n",
        "\n",
        "    'input7': ['screen_0','screen_1'],\n",
        "    'input8': ['usage_ratio_norm'],\n",
        "    'input9': ['wifi_rssi_mean','wifi_rssi_std','wifi_rssi_min','wifi_rssi_max','wifi_rssi_count',\n",
        "               'bssid_pca_1','bssid_pca_2','bssid_pca_3','bssid_pca_4','bssid_pca_5',\n",
        "               'bssid_pca_6','bssid_pca_7','bssid_pca_8','bssid_pca_9','bssid_pca_10'],\n",
        "\n",
        "    'input10': ['min_hr_zscore','mean_hr_zscore','median_hr_zscore','mode_hr_zscore','max_hr_zscore'],\n",
        "    'input11': ['w_light_zscore'],\n",
        "    'input12': ['step_norm','step_frequency_norm','distance_norm','speed_norm','burned_calories_norm']\n",
        "}\n",
        "\n",
        "# 병합 함수 정의\n",
        "def merge_input_timeseries(subject_id, lifelog_date, sleep_date, input_dict):\n",
        "    start = pd.to_datetime(lifelog_date) + timedelta(hours=12)\n",
        "    end = pd.to_datetime(sleep_date) + timedelta(hours=12)\n",
        "    base_time = pd.date_range(start=start, end=end, freq='1min')[:-1]\n",
        "\n",
        "    df_base = pd.DataFrame({'timestamp': base_time})\n",
        "    merged = df_base.copy()\n",
        "\n",
        "    for input_name, columns in feature_structure.items():\n",
        "        df = input_dict[input_name]\n",
        "        df = df[df['subject_id'] == subject_id].copy()\n",
        "        df = df.sort_values('timestamp').set_index('timestamp')\n",
        "        df = df[~df.index.duplicated(keep='last')]\n",
        "        df = df.reindex(base_time)\n",
        "        df = df.ffill().bfill().reset_index()  # 앞뒤 모두 보간\n",
        "\n",
        "        for col in columns:\n",
        "            merged[col] = df[col]\n",
        "\n",
        "    merged.drop(columns=['timestamp'], inplace=True)\n",
        "    return merged.fillna(0)\n",
        "\n",
        "# dict 구조로 안전하게 전달\n",
        "input_dict = {\n",
        "    'input1': input1, 'input2': input2, 'input3': input3,\n",
        "    'input4': input4, 'input5': input5, 'input6': input6,\n",
        "    'input7': input7, 'input8': input8, 'input9': input9,\n",
        "    'input10': input10, 'input11': input11, 'input12': input12\n",
        "}"
      ]
    },
    {
      "cell_type": "markdown",
      "source": [
        "### 결측 0으로 채우기"
      ],
      "metadata": {
        "id": "KxxZizxkkOoz"
      },
      "id": "KxxZizxkkOoz"
    },
    {
      "cell_type": "code",
      "source": [
        "# 레이블 로딩\n",
        "df_label = pd.read_csv(\"/content/drive/MyDrive/Sleep/ch2025_metrics_train.csv\")\n",
        "df_label['lifelog_date'] = pd.to_datetime(df_label['lifelog_date'])\n",
        "df_label['sleep_date'] = pd.to_datetime(df_label['sleep_date'])\n",
        "\n",
        "# feature 구조 정의 (21개 피처)\n",
        "feature_structure = {\n",
        "    'input1': ['charging_0', 'charging_1'],\n",
        "    'input2': ['activity_0','activity_1','activity_3','activity_4','activity_7','activity_8'],\n",
        "    'input3': ['amb_pca_1','amb_pca_2','amb_pca_3','amb_pca_4','amb_pca_5','amb_pca_6','amb_pca_7','amb_pca_8','amb_pca_9','amb_pca_10'],\n",
        "\n",
        "    'input4': ['ble_rssi_mean','ble_rssi_std','ble_rssi_min','ble_rssi_max','ble_rssi_count','ble_device_unique_count',\n",
        "               'ble_device_pca_1','ble_device_pca_2','ble_device_pca_3','ble_device_pca_4','ble_device_pca_5'],\n",
        "    'input5': ['speed_mean','speed_zscore'],\n",
        "    'input6': ['m_light_zscore'],\n",
        "\n",
        "    'input7': ['screen_0','screen_1'],\n",
        "    'input8': ['usage_ratio_norm'],\n",
        "    'input9': ['wifi_rssi_mean','wifi_rssi_std','wifi_rssi_min','wifi_rssi_max','wifi_rssi_count',\n",
        "               'bssid_pca_1','bssid_pca_2','bssid_pca_3','bssid_pca_4','bssid_pca_5',\n",
        "               'bssid_pca_6','bssid_pca_7','bssid_pca_8','bssid_pca_9','bssid_pca_10'],\n",
        "\n",
        "    'input10': ['min_hr_zscore','mean_hr_zscore','median_hr_zscore','mode_hr_zscore','max_hr_zscore'],\n",
        "    'input11': ['w_light_zscore'],\n",
        "    'input12': ['step_norm','step_frequency_norm','distance_norm','speed_norm','burned_calories_norm']\n",
        "}\n",
        "\n",
        "# 병합 함수 정의\n",
        "def merge_input_timeseries(subject_id, lifelog_date, sleep_date, input_dict):\n",
        "    start = pd.to_datetime(lifelog_date) + timedelta(hours=12)\n",
        "    end = pd.to_datetime(sleep_date) + timedelta(hours=12)\n",
        "    base_time = pd.date_range(start=start, end=end, freq='1min')[:-1]\n",
        "\n",
        "    df_base = pd.DataFrame({'timestamp': base_time})\n",
        "    merged = df_base.copy()\n",
        "\n",
        "    for input_name, columns in feature_structure.items():\n",
        "        df = input_dict[input_name]\n",
        "        df = df[df['subject_id'] == subject_id].copy()\n",
        "        df = df.sort_values('timestamp').set_index('timestamp')\n",
        "        df = df[~df.index.duplicated(keep='last')]\n",
        "        df = df.reindex(base_time)\n",
        "        df = df.fillna(0).reset_index()  # 결측 0으로 채우기\n",
        "\n",
        "        for col in columns:\n",
        "            merged[col] = df[col]\n",
        "\n",
        "    merged.drop(columns=['timestamp'], inplace=True)\n",
        "    return merged.fillna(0)\n",
        "\n",
        "# dict 구조로 안전하게 전달\n",
        "input_dict = {\n",
        "    'input1': input1, 'input2': input2, 'input3': input3,\n",
        "    'input4': input4, 'input5': input5, 'input6': input6,\n",
        "    'input7': input7, 'input8': input8, 'input9': input9,\n",
        "    'input10': input10, 'input11': input11, 'input12': input12\n",
        "}"
      ],
      "metadata": {
        "id": "8PFPrUm-kOGM"
      },
      "id": "8PFPrUm-kOGM",
      "execution_count": null,
      "outputs": []
    },
    {
      "cell_type": "markdown",
      "id": "134ef86a",
      "metadata": {
        "id": "134ef86a"
      },
      "source": [
        "# Input 데이터 생성"
      ]
    },
    {
      "cell_type": "code",
      "execution_count": 16,
      "id": "5143b02b",
      "metadata": {
        "id": "5143b02b",
        "colab": {
          "base_uri": "https://localhost:8080/"
        },
        "outputId": "858c72e8-196f-420c-d56d-c4595a411151"
      },
      "outputs": [
        {
          "output_type": "stream",
          "name": "stderr",
          "text": [
            "  8%|▊         | 34/450 [00:26<06:51,  1.01it/s]<ipython-input-15-37b0e0c48b46>:43: FutureWarning: Downcasting object dtype arrays on .fillna, .ffill, .bfill is deprecated and will change in a future version. Call result.infer_objects(copy=False) instead. To opt-in to the future behavior, set `pd.set_option('future.no_silent_downcasting', True)`\n",
            "  df = df.ffill().bfill().reset_index()  # 앞뒤 모두 보간\n",
            " 17%|█▋        | 77/450 [01:01<04:15,  1.46it/s]<ipython-input-15-37b0e0c48b46>:43: FutureWarning: Downcasting object dtype arrays on .fillna, .ffill, .bfill is deprecated and will change in a future version. Call result.infer_objects(copy=False) instead. To opt-in to the future behavior, set `pd.set_option('future.no_silent_downcasting', True)`\n",
            "  df = df.ffill().bfill().reset_index()  # 앞뒤 모두 보간\n",
            " 17%|█▋        | 78/450 [01:02<04:14,  1.46it/s]<ipython-input-15-37b0e0c48b46>:43: FutureWarning: Downcasting object dtype arrays on .fillna, .ffill, .bfill is deprecated and will change in a future version. Call result.infer_objects(copy=False) instead. To opt-in to the future behavior, set `pd.set_option('future.no_silent_downcasting', True)`\n",
            "  df = df.ffill().bfill().reset_index()  # 앞뒤 모두 보간\n",
            " 35%|███▍      | 157/450 [02:05<05:03,  1.04s/it]<ipython-input-15-37b0e0c48b46>:43: FutureWarning: Downcasting object dtype arrays on .fillna, .ffill, .bfill is deprecated and will change in a future version. Call result.infer_objects(copy=False) instead. To opt-in to the future behavior, set `pd.set_option('future.no_silent_downcasting', True)`\n",
            "  df = df.ffill().bfill().reset_index()  # 앞뒤 모두 보간\n",
            "<ipython-input-15-37b0e0c48b46>:43: FutureWarning: Downcasting object dtype arrays on .fillna, .ffill, .bfill is deprecated and will change in a future version. Call result.infer_objects(copy=False) instead. To opt-in to the future behavior, set `pd.set_option('future.no_silent_downcasting', True)`\n",
            "  df = df.ffill().bfill().reset_index()  # 앞뒤 모두 보간\n",
            "<ipython-input-15-37b0e0c48b46>:43: FutureWarning: Downcasting object dtype arrays on .fillna, .ffill, .bfill is deprecated and will change in a future version. Call result.infer_objects(copy=False) instead. To opt-in to the future behavior, set `pd.set_option('future.no_silent_downcasting', True)`\n",
            "  df = df.ffill().bfill().reset_index()  # 앞뒤 모두 보간\n",
            " 42%|████▏     | 189/450 [02:28<02:48,  1.55it/s]<ipython-input-15-37b0e0c48b46>:43: FutureWarning: Downcasting object dtype arrays on .fillna, .ffill, .bfill is deprecated and will change in a future version. Call result.infer_objects(copy=False) instead. To opt-in to the future behavior, set `pd.set_option('future.no_silent_downcasting', True)`\n",
            "  df = df.ffill().bfill().reset_index()  # 앞뒤 모두 보간\n",
            "<ipython-input-15-37b0e0c48b46>:43: FutureWarning: Downcasting object dtype arrays on .fillna, .ffill, .bfill is deprecated and will change in a future version. Call result.infer_objects(copy=False) instead. To opt-in to the future behavior, set `pd.set_option('future.no_silent_downcasting', True)`\n",
            "  df = df.ffill().bfill().reset_index()  # 앞뒤 모두 보간\n",
            "<ipython-input-15-37b0e0c48b46>:43: FutureWarning: Downcasting object dtype arrays on .fillna, .ffill, .bfill is deprecated and will change in a future version. Call result.infer_objects(copy=False) instead. To opt-in to the future behavior, set `pd.set_option('future.no_silent_downcasting', True)`\n",
            "  df = df.ffill().bfill().reset_index()  # 앞뒤 모두 보간\n",
            " 44%|████▍     | 199/450 [02:37<03:01,  1.38it/s]<ipython-input-15-37b0e0c48b46>:43: FutureWarning: Downcasting object dtype arrays on .fillna, .ffill, .bfill is deprecated and will change in a future version. Call result.infer_objects(copy=False) instead. To opt-in to the future behavior, set `pd.set_option('future.no_silent_downcasting', True)`\n",
            "  df = df.ffill().bfill().reset_index()  # 앞뒤 모두 보간\n",
            " 48%|████▊     | 215/450 [02:49<03:22,  1.16it/s]<ipython-input-15-37b0e0c48b46>:43: FutureWarning: Downcasting object dtype arrays on .fillna, .ffill, .bfill is deprecated and will change in a future version. Call result.infer_objects(copy=False) instead. To opt-in to the future behavior, set `pd.set_option('future.no_silent_downcasting', True)`\n",
            "  df = df.ffill().bfill().reset_index()  # 앞뒤 모두 보간\n",
            "<ipython-input-15-37b0e0c48b46>:43: FutureWarning: Downcasting object dtype arrays on .fillna, .ffill, .bfill is deprecated and will change in a future version. Call result.infer_objects(copy=False) instead. To opt-in to the future behavior, set `pd.set_option('future.no_silent_downcasting', True)`\n",
            "  df = df.ffill().bfill().reset_index()  # 앞뒤 모두 보간\n",
            "<ipython-input-15-37b0e0c48b46>:43: FutureWarning: Downcasting object dtype arrays on .fillna, .ffill, .bfill is deprecated and will change in a future version. Call result.infer_objects(copy=False) instead. To opt-in to the future behavior, set `pd.set_option('future.no_silent_downcasting', True)`\n",
            "  df = df.ffill().bfill().reset_index()  # 앞뒤 모두 보간\n",
            "<ipython-input-15-37b0e0c48b46>:43: FutureWarning: Downcasting object dtype arrays on .fillna, .ffill, .bfill is deprecated and will change in a future version. Call result.infer_objects(copy=False) instead. To opt-in to the future behavior, set `pd.set_option('future.no_silent_downcasting', True)`\n",
            "  df = df.ffill().bfill().reset_index()  # 앞뒤 모두 보간\n",
            "<ipython-input-15-37b0e0c48b46>:43: FutureWarning: Downcasting object dtype arrays on .fillna, .ffill, .bfill is deprecated and will change in a future version. Call result.infer_objects(copy=False) instead. To opt-in to the future behavior, set `pd.set_option('future.no_silent_downcasting', True)`\n",
            "  df = df.ffill().bfill().reset_index()  # 앞뒤 모두 보간\n",
            "<ipython-input-15-37b0e0c48b46>:43: FutureWarning: Downcasting object dtype arrays on .fillna, .ffill, .bfill is deprecated and will change in a future version. Call result.infer_objects(copy=False) instead. To opt-in to the future behavior, set `pd.set_option('future.no_silent_downcasting', True)`\n",
            "  df = df.ffill().bfill().reset_index()  # 앞뒤 모두 보간\n",
            "<ipython-input-15-37b0e0c48b46>:43: FutureWarning: Downcasting object dtype arrays on .fillna, .ffill, .bfill is deprecated and will change in a future version. Call result.infer_objects(copy=False) instead. To opt-in to the future behavior, set `pd.set_option('future.no_silent_downcasting', True)`\n",
            "  df = df.ffill().bfill().reset_index()  # 앞뒤 모두 보간\n",
            "<ipython-input-15-37b0e0c48b46>:43: FutureWarning: Downcasting object dtype arrays on .fillna, .ffill, .bfill is deprecated and will change in a future version. Call result.infer_objects(copy=False) instead. To opt-in to the future behavior, set `pd.set_option('future.no_silent_downcasting', True)`\n",
            "  df = df.ffill().bfill().reset_index()  # 앞뒤 모두 보간\n",
            "<ipython-input-15-37b0e0c48b46>:43: FutureWarning: Downcasting object dtype arrays on .fillna, .ffill, .bfill is deprecated and will change in a future version. Call result.infer_objects(copy=False) instead. To opt-in to the future behavior, set `pd.set_option('future.no_silent_downcasting', True)`\n",
            "  df = df.ffill().bfill().reset_index()  # 앞뒤 모두 보간\n",
            " 49%|████▊     | 219/450 [02:51<02:44,  1.41it/s]<ipython-input-15-37b0e0c48b46>:43: FutureWarning: Downcasting object dtype arrays on .fillna, .ffill, .bfill is deprecated and will change in a future version. Call result.infer_objects(copy=False) instead. To opt-in to the future behavior, set `pd.set_option('future.no_silent_downcasting', True)`\n",
            "  df = df.ffill().bfill().reset_index()  # 앞뒤 모두 보간\n",
            "<ipython-input-15-37b0e0c48b46>:43: FutureWarning: Downcasting object dtype arrays on .fillna, .ffill, .bfill is deprecated and will change in a future version. Call result.infer_objects(copy=False) instead. To opt-in to the future behavior, set `pd.set_option('future.no_silent_downcasting', True)`\n",
            "  df = df.ffill().bfill().reset_index()  # 앞뒤 모두 보간\n",
            "<ipython-input-15-37b0e0c48b46>:43: FutureWarning: Downcasting object dtype arrays on .fillna, .ffill, .bfill is deprecated and will change in a future version. Call result.infer_objects(copy=False) instead. To opt-in to the future behavior, set `pd.set_option('future.no_silent_downcasting', True)`\n",
            "  df = df.ffill().bfill().reset_index()  # 앞뒤 모두 보간\n",
            " 49%|████▉     | 220/450 [02:53<03:23,  1.13it/s]<ipython-input-15-37b0e0c48b46>:43: FutureWarning: Downcasting object dtype arrays on .fillna, .ffill, .bfill is deprecated and will change in a future version. Call result.infer_objects(copy=False) instead. To opt-in to the future behavior, set `pd.set_option('future.no_silent_downcasting', True)`\n",
            "  df = df.ffill().bfill().reset_index()  # 앞뒤 모두 보간\n",
            "<ipython-input-15-37b0e0c48b46>:43: FutureWarning: Downcasting object dtype arrays on .fillna, .ffill, .bfill is deprecated and will change in a future version. Call result.infer_objects(copy=False) instead. To opt-in to the future behavior, set `pd.set_option('future.no_silent_downcasting', True)`\n",
            "  df = df.ffill().bfill().reset_index()  # 앞뒤 모두 보간\n",
            "<ipython-input-15-37b0e0c48b46>:43: FutureWarning: Downcasting object dtype arrays on .fillna, .ffill, .bfill is deprecated and will change in a future version. Call result.infer_objects(copy=False) instead. To opt-in to the future behavior, set `pd.set_option('future.no_silent_downcasting', True)`\n",
            "  df = df.ffill().bfill().reset_index()  # 앞뒤 모두 보간\n",
            " 49%|████▉     | 221/450 [02:54<04:00,  1.05s/it]<ipython-input-15-37b0e0c48b46>:43: FutureWarning: Downcasting object dtype arrays on .fillna, .ffill, .bfill is deprecated and will change in a future version. Call result.infer_objects(copy=False) instead. To opt-in to the future behavior, set `pd.set_option('future.no_silent_downcasting', True)`\n",
            "  df = df.ffill().bfill().reset_index()  # 앞뒤 모두 보간\n",
            "<ipython-input-15-37b0e0c48b46>:43: FutureWarning: Downcasting object dtype arrays on .fillna, .ffill, .bfill is deprecated and will change in a future version. Call result.infer_objects(copy=False) instead. To opt-in to the future behavior, set `pd.set_option('future.no_silent_downcasting', True)`\n",
            "  df = df.ffill().bfill().reset_index()  # 앞뒤 모두 보간\n",
            "<ipython-input-15-37b0e0c48b46>:43: FutureWarning: Downcasting object dtype arrays on .fillna, .ffill, .bfill is deprecated and will change in a future version. Call result.infer_objects(copy=False) instead. To opt-in to the future behavior, set `pd.set_option('future.no_silent_downcasting', True)`\n",
            "  df = df.ffill().bfill().reset_index()  # 앞뒤 모두 보간\n",
            " 50%|████▉     | 223/450 [02:56<04:04,  1.08s/it]<ipython-input-15-37b0e0c48b46>:43: FutureWarning: Downcasting object dtype arrays on .fillna, .ffill, .bfill is deprecated and will change in a future version. Call result.infer_objects(copy=False) instead. To opt-in to the future behavior, set `pd.set_option('future.no_silent_downcasting', True)`\n",
            "  df = df.ffill().bfill().reset_index()  # 앞뒤 모두 보간\n",
            " 50%|████▉     | 224/450 [02:57<03:36,  1.04it/s]<ipython-input-15-37b0e0c48b46>:43: FutureWarning: Downcasting object dtype arrays on .fillna, .ffill, .bfill is deprecated and will change in a future version. Call result.infer_objects(copy=False) instead. To opt-in to the future behavior, set `pd.set_option('future.no_silent_downcasting', True)`\n",
            "  df = df.ffill().bfill().reset_index()  # 앞뒤 모두 보간\n",
            " 50%|█████     | 225/450 [02:58<03:25,  1.10it/s]<ipython-input-15-37b0e0c48b46>:43: FutureWarning: Downcasting object dtype arrays on .fillna, .ffill, .bfill is deprecated and will change in a future version. Call result.infer_objects(copy=False) instead. To opt-in to the future behavior, set `pd.set_option('future.no_silent_downcasting', True)`\n",
            "  df = df.ffill().bfill().reset_index()  # 앞뒤 모두 보간\n",
            " 50%|█████     | 226/450 [02:59<03:44,  1.00s/it]<ipython-input-15-37b0e0c48b46>:43: FutureWarning: Downcasting object dtype arrays on .fillna, .ffill, .bfill is deprecated and will change in a future version. Call result.infer_objects(copy=False) instead. To opt-in to the future behavior, set `pd.set_option('future.no_silent_downcasting', True)`\n",
            "  df = df.ffill().bfill().reset_index()  # 앞뒤 모두 보간\n",
            " 50%|█████     | 227/450 [03:00<03:57,  1.06s/it]<ipython-input-15-37b0e0c48b46>:43: FutureWarning: Downcasting object dtype arrays on .fillna, .ffill, .bfill is deprecated and will change in a future version. Call result.infer_objects(copy=False) instead. To opt-in to the future behavior, set `pd.set_option('future.no_silent_downcasting', True)`\n",
            "  df = df.ffill().bfill().reset_index()  # 앞뒤 모두 보간\n",
            " 51%|█████     | 228/450 [03:02<04:03,  1.10s/it]<ipython-input-15-37b0e0c48b46>:43: FutureWarning: Downcasting object dtype arrays on .fillna, .ffill, .bfill is deprecated and will change in a future version. Call result.infer_objects(copy=False) instead. To opt-in to the future behavior, set `pd.set_option('future.no_silent_downcasting', True)`\n",
            "  df = df.ffill().bfill().reset_index()  # 앞뒤 모두 보간\n",
            " 51%|█████     | 229/450 [03:02<03:34,  1.03it/s]<ipython-input-15-37b0e0c48b46>:43: FutureWarning: Downcasting object dtype arrays on .fillna, .ffill, .bfill is deprecated and will change in a future version. Call result.infer_objects(copy=False) instead. To opt-in to the future behavior, set `pd.set_option('future.no_silent_downcasting', True)`\n",
            "  df = df.ffill().bfill().reset_index()  # 앞뒤 모두 보간\n",
            " 51%|█████     | 230/450 [03:03<03:13,  1.13it/s]<ipython-input-15-37b0e0c48b46>:43: FutureWarning: Downcasting object dtype arrays on .fillna, .ffill, .bfill is deprecated and will change in a future version. Call result.infer_objects(copy=False) instead. To opt-in to the future behavior, set `pd.set_option('future.no_silent_downcasting', True)`\n",
            "  df = df.ffill().bfill().reset_index()  # 앞뒤 모두 보간\n",
            " 51%|█████▏    | 231/450 [03:04<03:01,  1.21it/s]<ipython-input-15-37b0e0c48b46>:43: FutureWarning: Downcasting object dtype arrays on .fillna, .ffill, .bfill is deprecated and will change in a future version. Call result.infer_objects(copy=False) instead. To opt-in to the future behavior, set `pd.set_option('future.no_silent_downcasting', True)`\n",
            "  df = df.ffill().bfill().reset_index()  # 앞뒤 모두 보간\n",
            " 52%|█████▏    | 235/450 [03:06<02:31,  1.42it/s]<ipython-input-15-37b0e0c48b46>:43: FutureWarning: Downcasting object dtype arrays on .fillna, .ffill, .bfill is deprecated and will change in a future version. Call result.infer_objects(copy=False) instead. To opt-in to the future behavior, set `pd.set_option('future.no_silent_downcasting', True)`\n",
            "  df = df.ffill().bfill().reset_index()  # 앞뒤 모두 보간\n",
            "<ipython-input-15-37b0e0c48b46>:43: FutureWarning: Downcasting object dtype arrays on .fillna, .ffill, .bfill is deprecated and will change in a future version. Call result.infer_objects(copy=False) instead. To opt-in to the future behavior, set `pd.set_option('future.no_silent_downcasting', True)`\n",
            "  df = df.ffill().bfill().reset_index()  # 앞뒤 모두 보간\n",
            "<ipython-input-15-37b0e0c48b46>:43: FutureWarning: Downcasting object dtype arrays on .fillna, .ffill, .bfill is deprecated and will change in a future version. Call result.infer_objects(copy=False) instead. To opt-in to the future behavior, set `pd.set_option('future.no_silent_downcasting', True)`\n",
            "  df = df.ffill().bfill().reset_index()  # 앞뒤 모두 보간\n",
            " 56%|█████▋    | 254/450 [03:21<02:14,  1.45it/s]<ipython-input-15-37b0e0c48b46>:43: FutureWarning: Downcasting object dtype arrays on .fillna, .ffill, .bfill is deprecated and will change in a future version. Call result.infer_objects(copy=False) instead. To opt-in to the future behavior, set `pd.set_option('future.no_silent_downcasting', True)`\n",
            "  df = df.ffill().bfill().reset_index()  # 앞뒤 모두 보간\n",
            " 57%|█████▋    | 258/450 [03:23<02:09,  1.48it/s]<ipython-input-15-37b0e0c48b46>:43: FutureWarning: Downcasting object dtype arrays on .fillna, .ffill, .bfill is deprecated and will change in a future version. Call result.infer_objects(copy=False) instead. To opt-in to the future behavior, set `pd.set_option('future.no_silent_downcasting', True)`\n",
            "  df = df.ffill().bfill().reset_index()  # 앞뒤 모두 보간\n",
            " 60%|█████▉    | 268/450 [03:32<02:20,  1.30it/s]<ipython-input-15-37b0e0c48b46>:43: FutureWarning: Downcasting object dtype arrays on .fillna, .ffill, .bfill is deprecated and will change in a future version. Call result.infer_objects(copy=False) instead. To opt-in to the future behavior, set `pd.set_option('future.no_silent_downcasting', True)`\n",
            "  df = df.ffill().bfill().reset_index()  # 앞뒤 모두 보간\n",
            " 60%|█████▉    | 269/450 [03:32<02:14,  1.35it/s]<ipython-input-15-37b0e0c48b46>:43: FutureWarning: Downcasting object dtype arrays on .fillna, .ffill, .bfill is deprecated and will change in a future version. Call result.infer_objects(copy=False) instead. To opt-in to the future behavior, set `pd.set_option('future.no_silent_downcasting', True)`\n",
            "  df = df.ffill().bfill().reset_index()  # 앞뒤 모두 보간\n",
            " 75%|███████▍  | 337/450 [04:45<01:22,  1.37it/s]<ipython-input-15-37b0e0c48b46>:43: FutureWarning: Downcasting object dtype arrays on .fillna, .ffill, .bfill is deprecated and will change in a future version. Call result.infer_objects(copy=False) instead. To opt-in to the future behavior, set `pd.set_option('future.no_silent_downcasting', True)`\n",
            "  df = df.ffill().bfill().reset_index()  # 앞뒤 모두 보간\n",
            "<ipython-input-15-37b0e0c48b46>:43: FutureWarning: Downcasting object dtype arrays on .fillna, .ffill, .bfill is deprecated and will change in a future version. Call result.infer_objects(copy=False) instead. To opt-in to the future behavior, set `pd.set_option('future.no_silent_downcasting', True)`\n",
            "  df = df.ffill().bfill().reset_index()  # 앞뒤 모두 보간\n",
            " 76%|███████▋  | 344/450 [04:50<01:08,  1.55it/s]<ipython-input-15-37b0e0c48b46>:43: FutureWarning: Downcasting object dtype arrays on .fillna, .ffill, .bfill is deprecated and will change in a future version. Call result.infer_objects(copy=False) instead. To opt-in to the future behavior, set `pd.set_option('future.no_silent_downcasting', True)`\n",
            "  df = df.ffill().bfill().reset_index()  # 앞뒤 모두 보간\n",
            "<ipython-input-15-37b0e0c48b46>:43: FutureWarning: Downcasting object dtype arrays on .fillna, .ffill, .bfill is deprecated and will change in a future version. Call result.infer_objects(copy=False) instead. To opt-in to the future behavior, set `pd.set_option('future.no_silent_downcasting', True)`\n",
            "  df = df.ffill().bfill().reset_index()  # 앞뒤 모두 보간\n",
            " 77%|███████▋  | 345/450 [04:50<01:07,  1.55it/s]<ipython-input-15-37b0e0c48b46>:43: FutureWarning: Downcasting object dtype arrays on .fillna, .ffill, .bfill is deprecated and will change in a future version. Call result.infer_objects(copy=False) instead. To opt-in to the future behavior, set `pd.set_option('future.no_silent_downcasting', True)`\n",
            "  df = df.ffill().bfill().reset_index()  # 앞뒤 모두 보간\n",
            "<ipython-input-15-37b0e0c48b46>:43: FutureWarning: Downcasting object dtype arrays on .fillna, .ffill, .bfill is deprecated and will change in a future version. Call result.infer_objects(copy=False) instead. To opt-in to the future behavior, set `pd.set_option('future.no_silent_downcasting', True)`\n",
            "  df = df.ffill().bfill().reset_index()  # 앞뒤 모두 보간\n",
            " 77%|███████▋  | 346/450 [04:51<01:06,  1.56it/s]<ipython-input-15-37b0e0c48b46>:43: FutureWarning: Downcasting object dtype arrays on .fillna, .ffill, .bfill is deprecated and will change in a future version. Call result.infer_objects(copy=False) instead. To opt-in to the future behavior, set `pd.set_option('future.no_silent_downcasting', True)`\n",
            "  df = df.ffill().bfill().reset_index()  # 앞뒤 모두 보간\n",
            "<ipython-input-15-37b0e0c48b46>:43: FutureWarning: Downcasting object dtype arrays on .fillna, .ffill, .bfill is deprecated and will change in a future version. Call result.infer_objects(copy=False) instead. To opt-in to the future behavior, set `pd.set_option('future.no_silent_downcasting', True)`\n",
            "  df = df.ffill().bfill().reset_index()  # 앞뒤 모두 보간\n",
            " 77%|███████▋  | 347/450 [04:52<01:14,  1.38it/s]<ipython-input-15-37b0e0c48b46>:43: FutureWarning: Downcasting object dtype arrays on .fillna, .ffill, .bfill is deprecated and will change in a future version. Call result.infer_objects(copy=False) instead. To opt-in to the future behavior, set `pd.set_option('future.no_silent_downcasting', True)`\n",
            "  df = df.ffill().bfill().reset_index()  # 앞뒤 모두 보간\n",
            "<ipython-input-15-37b0e0c48b46>:43: FutureWarning: Downcasting object dtype arrays on .fillna, .ffill, .bfill is deprecated and will change in a future version. Call result.infer_objects(copy=False) instead. To opt-in to the future behavior, set `pd.set_option('future.no_silent_downcasting', True)`\n",
            "  df = df.ffill().bfill().reset_index()  # 앞뒤 모두 보간\n",
            " 77%|███████▋  | 348/450 [04:53<01:27,  1.16it/s]<ipython-input-15-37b0e0c48b46>:43: FutureWarning: Downcasting object dtype arrays on .fillna, .ffill, .bfill is deprecated and will change in a future version. Call result.infer_objects(copy=False) instead. To opt-in to the future behavior, set `pd.set_option('future.no_silent_downcasting', True)`\n",
            "  df = df.ffill().bfill().reset_index()  # 앞뒤 모두 보간\n",
            "<ipython-input-15-37b0e0c48b46>:43: FutureWarning: Downcasting object dtype arrays on .fillna, .ffill, .bfill is deprecated and will change in a future version. Call result.infer_objects(copy=False) instead. To opt-in to the future behavior, set `pd.set_option('future.no_silent_downcasting', True)`\n",
            "  df = df.ffill().bfill().reset_index()  # 앞뒤 모두 보간\n",
            " 78%|███████▊  | 349/450 [04:54<01:36,  1.05it/s]<ipython-input-15-37b0e0c48b46>:43: FutureWarning: Downcasting object dtype arrays on .fillna, .ffill, .bfill is deprecated and will change in a future version. Call result.infer_objects(copy=False) instead. To opt-in to the future behavior, set `pd.set_option('future.no_silent_downcasting', True)`\n",
            "  df = df.ffill().bfill().reset_index()  # 앞뒤 모두 보간\n",
            "<ipython-input-15-37b0e0c48b46>:43: FutureWarning: Downcasting object dtype arrays on .fillna, .ffill, .bfill is deprecated and will change in a future version. Call result.infer_objects(copy=False) instead. To opt-in to the future behavior, set `pd.set_option('future.no_silent_downcasting', True)`\n",
            "  df = df.ffill().bfill().reset_index()  # 앞뒤 모두 보간\n",
            " 78%|███████▊  | 350/450 [04:55<01:41,  1.02s/it]<ipython-input-15-37b0e0c48b46>:43: FutureWarning: Downcasting object dtype arrays on .fillna, .ffill, .bfill is deprecated and will change in a future version. Call result.infer_objects(copy=False) instead. To opt-in to the future behavior, set `pd.set_option('future.no_silent_downcasting', True)`\n",
            "  df = df.ffill().bfill().reset_index()  # 앞뒤 모두 보간\n",
            "<ipython-input-15-37b0e0c48b46>:43: FutureWarning: Downcasting object dtype arrays on .fillna, .ffill, .bfill is deprecated and will change in a future version. Call result.infer_objects(copy=False) instead. To opt-in to the future behavior, set `pd.set_option('future.no_silent_downcasting', True)`\n",
            "  df = df.ffill().bfill().reset_index()  # 앞뒤 모두 보간\n",
            " 78%|███████▊  | 351/450 [04:56<01:29,  1.11it/s]<ipython-input-15-37b0e0c48b46>:43: FutureWarning: Downcasting object dtype arrays on .fillna, .ffill, .bfill is deprecated and will change in a future version. Call result.infer_objects(copy=False) instead. To opt-in to the future behavior, set `pd.set_option('future.no_silent_downcasting', True)`\n",
            "  df = df.ffill().bfill().reset_index()  # 앞뒤 모두 보간\n",
            "<ipython-input-15-37b0e0c48b46>:43: FutureWarning: Downcasting object dtype arrays on .fillna, .ffill, .bfill is deprecated and will change in a future version. Call result.infer_objects(copy=False) instead. To opt-in to the future behavior, set `pd.set_option('future.no_silent_downcasting', True)`\n",
            "  df = df.ffill().bfill().reset_index()  # 앞뒤 모두 보간\n",
            "<ipython-input-15-37b0e0c48b46>:43: FutureWarning: Downcasting object dtype arrays on .fillna, .ffill, .bfill is deprecated and will change in a future version. Call result.infer_objects(copy=False) instead. To opt-in to the future behavior, set `pd.set_option('future.no_silent_downcasting', True)`\n",
            "  df = df.ffill().bfill().reset_index()  # 앞뒤 모두 보간\n",
            " 78%|███████▊  | 352/450 [04:57<01:21,  1.20it/s]<ipython-input-15-37b0e0c48b46>:43: FutureWarning: Downcasting object dtype arrays on .fillna, .ffill, .bfill is deprecated and will change in a future version. Call result.infer_objects(copy=False) instead. To opt-in to the future behavior, set `pd.set_option('future.no_silent_downcasting', True)`\n",
            "  df = df.ffill().bfill().reset_index()  # 앞뒤 모두 보간\n",
            "<ipython-input-15-37b0e0c48b46>:43: FutureWarning: Downcasting object dtype arrays on .fillna, .ffill, .bfill is deprecated and will change in a future version. Call result.infer_objects(copy=False) instead. To opt-in to the future behavior, set `pd.set_option('future.no_silent_downcasting', True)`\n",
            "  df = df.ffill().bfill().reset_index()  # 앞뒤 모두 보간\n",
            "<ipython-input-15-37b0e0c48b46>:43: FutureWarning: Downcasting object dtype arrays on .fillna, .ffill, .bfill is deprecated and will change in a future version. Call result.infer_objects(copy=False) instead. To opt-in to the future behavior, set `pd.set_option('future.no_silent_downcasting', True)`\n",
            "  df = df.ffill().bfill().reset_index()  # 앞뒤 모두 보간\n",
            "<ipython-input-15-37b0e0c48b46>:43: FutureWarning: Downcasting object dtype arrays on .fillna, .ffill, .bfill is deprecated and will change in a future version. Call result.infer_objects(copy=False) instead. To opt-in to the future behavior, set `pd.set_option('future.no_silent_downcasting', True)`\n",
            "  df = df.ffill().bfill().reset_index()  # 앞뒤 모두 보간\n",
            "<ipython-input-15-37b0e0c48b46>:43: FutureWarning: Downcasting object dtype arrays on .fillna, .ffill, .bfill is deprecated and will change in a future version. Call result.infer_objects(copy=False) instead. To opt-in to the future behavior, set `pd.set_option('future.no_silent_downcasting', True)`\n",
            "  df = df.ffill().bfill().reset_index()  # 앞뒤 모두 보간\n",
            " 78%|███████▊  | 353/450 [04:57<01:14,  1.29it/s]<ipython-input-15-37b0e0c48b46>:43: FutureWarning: Downcasting object dtype arrays on .fillna, .ffill, .bfill is deprecated and will change in a future version. Call result.infer_objects(copy=False) instead. To opt-in to the future behavior, set `pd.set_option('future.no_silent_downcasting', True)`\n",
            "  df = df.ffill().bfill().reset_index()  # 앞뒤 모두 보간\n",
            "<ipython-input-15-37b0e0c48b46>:43: FutureWarning: Downcasting object dtype arrays on .fillna, .ffill, .bfill is deprecated and will change in a future version. Call result.infer_objects(copy=False) instead. To opt-in to the future behavior, set `pd.set_option('future.no_silent_downcasting', True)`\n",
            "  df = df.ffill().bfill().reset_index()  # 앞뒤 모두 보간\n",
            " 79%|███████▊  | 354/450 [04:58<01:10,  1.36it/s]<ipython-input-15-37b0e0c48b46>:43: FutureWarning: Downcasting object dtype arrays on .fillna, .ffill, .bfill is deprecated and will change in a future version. Call result.infer_objects(copy=False) instead. To opt-in to the future behavior, set `pd.set_option('future.no_silent_downcasting', True)`\n",
            "  df = df.ffill().bfill().reset_index()  # 앞뒤 모두 보간\n",
            "<ipython-input-15-37b0e0c48b46>:43: FutureWarning: Downcasting object dtype arrays on .fillna, .ffill, .bfill is deprecated and will change in a future version. Call result.infer_objects(copy=False) instead. To opt-in to the future behavior, set `pd.set_option('future.no_silent_downcasting', True)`\n",
            "  df = df.ffill().bfill().reset_index()  # 앞뒤 모두 보간\n",
            " 79%|███████▉  | 355/450 [04:59<01:07,  1.41it/s]<ipython-input-15-37b0e0c48b46>:43: FutureWarning: Downcasting object dtype arrays on .fillna, .ffill, .bfill is deprecated and will change in a future version. Call result.infer_objects(copy=False) instead. To opt-in to the future behavior, set `pd.set_option('future.no_silent_downcasting', True)`\n",
            "  df = df.ffill().bfill().reset_index()  # 앞뒤 모두 보간\n",
            "<ipython-input-15-37b0e0c48b46>:43: FutureWarning: Downcasting object dtype arrays on .fillna, .ffill, .bfill is deprecated and will change in a future version. Call result.infer_objects(copy=False) instead. To opt-in to the future behavior, set `pd.set_option('future.no_silent_downcasting', True)`\n",
            "  df = df.ffill().bfill().reset_index()  # 앞뒤 모두 보간\n",
            "<ipython-input-15-37b0e0c48b46>:43: FutureWarning: Downcasting object dtype arrays on .fillna, .ffill, .bfill is deprecated and will change in a future version. Call result.infer_objects(copy=False) instead. To opt-in to the future behavior, set `pd.set_option('future.no_silent_downcasting', True)`\n",
            "  df = df.ffill().bfill().reset_index()  # 앞뒤 모두 보간\n",
            " 79%|███████▉  | 356/450 [04:59<01:04,  1.46it/s]<ipython-input-15-37b0e0c48b46>:43: FutureWarning: Downcasting object dtype arrays on .fillna, .ffill, .bfill is deprecated and will change in a future version. Call result.infer_objects(copy=False) instead. To opt-in to the future behavior, set `pd.set_option('future.no_silent_downcasting', True)`\n",
            "  df = df.ffill().bfill().reset_index()  # 앞뒤 모두 보간\n",
            "<ipython-input-15-37b0e0c48b46>:43: FutureWarning: Downcasting object dtype arrays on .fillna, .ffill, .bfill is deprecated and will change in a future version. Call result.infer_objects(copy=False) instead. To opt-in to the future behavior, set `pd.set_option('future.no_silent_downcasting', True)`\n",
            "  df = df.ffill().bfill().reset_index()  # 앞뒤 모두 보간\n",
            "<ipython-input-15-37b0e0c48b46>:43: FutureWarning: Downcasting object dtype arrays on .fillna, .ffill, .bfill is deprecated and will change in a future version. Call result.infer_objects(copy=False) instead. To opt-in to the future behavior, set `pd.set_option('future.no_silent_downcasting', True)`\n",
            "  df = df.ffill().bfill().reset_index()  # 앞뒤 모두 보간\n",
            "<ipython-input-15-37b0e0c48b46>:43: FutureWarning: Downcasting object dtype arrays on .fillna, .ffill, .bfill is deprecated and will change in a future version. Call result.infer_objects(copy=False) instead. To opt-in to the future behavior, set `pd.set_option('future.no_silent_downcasting', True)`\n",
            "  df = df.ffill().bfill().reset_index()  # 앞뒤 모두 보간\n",
            "<ipython-input-15-37b0e0c48b46>:43: FutureWarning: Downcasting object dtype arrays on .fillna, .ffill, .bfill is deprecated and will change in a future version. Call result.infer_objects(copy=False) instead. To opt-in to the future behavior, set `pd.set_option('future.no_silent_downcasting', True)`\n",
            "  df = df.ffill().bfill().reset_index()  # 앞뒤 모두 보간\n",
            " 79%|███████▉  | 357/450 [05:00<01:02,  1.49it/s]<ipython-input-15-37b0e0c48b46>:43: FutureWarning: Downcasting object dtype arrays on .fillna, .ffill, .bfill is deprecated and will change in a future version. Call result.infer_objects(copy=False) instead. To opt-in to the future behavior, set `pd.set_option('future.no_silent_downcasting', True)`\n",
            "  df = df.ffill().bfill().reset_index()  # 앞뒤 모두 보간\n",
            "<ipython-input-15-37b0e0c48b46>:43: FutureWarning: Downcasting object dtype arrays on .fillna, .ffill, .bfill is deprecated and will change in a future version. Call result.infer_objects(copy=False) instead. To opt-in to the future behavior, set `pd.set_option('future.no_silent_downcasting', True)`\n",
            "  df = df.ffill().bfill().reset_index()  # 앞뒤 모두 보간\n",
            "<ipython-input-15-37b0e0c48b46>:43: FutureWarning: Downcasting object dtype arrays on .fillna, .ffill, .bfill is deprecated and will change in a future version. Call result.infer_objects(copy=False) instead. To opt-in to the future behavior, set `pd.set_option('future.no_silent_downcasting', True)`\n",
            "  df = df.ffill().bfill().reset_index()  # 앞뒤 모두 보간\n",
            "<ipython-input-15-37b0e0c48b46>:43: FutureWarning: Downcasting object dtype arrays on .fillna, .ffill, .bfill is deprecated and will change in a future version. Call result.infer_objects(copy=False) instead. To opt-in to the future behavior, set `pd.set_option('future.no_silent_downcasting', True)`\n",
            "  df = df.ffill().bfill().reset_index()  # 앞뒤 모두 보간\n",
            "<ipython-input-15-37b0e0c48b46>:43: FutureWarning: Downcasting object dtype arrays on .fillna, .ffill, .bfill is deprecated and will change in a future version. Call result.infer_objects(copy=False) instead. To opt-in to the future behavior, set `pd.set_option('future.no_silent_downcasting', True)`\n",
            "  df = df.ffill().bfill().reset_index()  # 앞뒤 모두 보간\n",
            "<ipython-input-15-37b0e0c48b46>:43: FutureWarning: Downcasting object dtype arrays on .fillna, .ffill, .bfill is deprecated and will change in a future version. Call result.infer_objects(copy=False) instead. To opt-in to the future behavior, set `pd.set_option('future.no_silent_downcasting', True)`\n",
            "  df = df.ffill().bfill().reset_index()  # 앞뒤 모두 보간\n",
            " 80%|███████▉  | 358/450 [05:01<01:01,  1.51it/s]<ipython-input-15-37b0e0c48b46>:43: FutureWarning: Downcasting object dtype arrays on .fillna, .ffill, .bfill is deprecated and will change in a future version. Call result.infer_objects(copy=False) instead. To opt-in to the future behavior, set `pd.set_option('future.no_silent_downcasting', True)`\n",
            "  df = df.ffill().bfill().reset_index()  # 앞뒤 모두 보간\n",
            "<ipython-input-15-37b0e0c48b46>:43: FutureWarning: Downcasting object dtype arrays on .fillna, .ffill, .bfill is deprecated and will change in a future version. Call result.infer_objects(copy=False) instead. To opt-in to the future behavior, set `pd.set_option('future.no_silent_downcasting', True)`\n",
            "  df = df.ffill().bfill().reset_index()  # 앞뒤 모두 보간\n",
            " 80%|████████  | 360/450 [05:02<00:59,  1.52it/s]<ipython-input-15-37b0e0c48b46>:43: FutureWarning: Downcasting object dtype arrays on .fillna, .ffill, .bfill is deprecated and will change in a future version. Call result.infer_objects(copy=False) instead. To opt-in to the future behavior, set `pd.set_option('future.no_silent_downcasting', True)`\n",
            "  df = df.ffill().bfill().reset_index()  # 앞뒤 모두 보간\n",
            "<ipython-input-15-37b0e0c48b46>:43: FutureWarning: Downcasting object dtype arrays on .fillna, .ffill, .bfill is deprecated and will change in a future version. Call result.infer_objects(copy=False) instead. To opt-in to the future behavior, set `pd.set_option('future.no_silent_downcasting', True)`\n",
            "  df = df.ffill().bfill().reset_index()  # 앞뒤 모두 보간\n",
            "<ipython-input-15-37b0e0c48b46>:43: FutureWarning: Downcasting object dtype arrays on .fillna, .ffill, .bfill is deprecated and will change in a future version. Call result.infer_objects(copy=False) instead. To opt-in to the future behavior, set `pd.set_option('future.no_silent_downcasting', True)`\n",
            "  df = df.ffill().bfill().reset_index()  # 앞뒤 모두 보간\n",
            " 80%|████████  | 361/450 [05:02<00:58,  1.53it/s]<ipython-input-15-37b0e0c48b46>:43: FutureWarning: Downcasting object dtype arrays on .fillna, .ffill, .bfill is deprecated and will change in a future version. Call result.infer_objects(copy=False) instead. To opt-in to the future behavior, set `pd.set_option('future.no_silent_downcasting', True)`\n",
            "  df = df.ffill().bfill().reset_index()  # 앞뒤 모두 보간\n",
            " 80%|████████  | 362/450 [05:03<00:57,  1.54it/s]<ipython-input-15-37b0e0c48b46>:43: FutureWarning: Downcasting object dtype arrays on .fillna, .ffill, .bfill is deprecated and will change in a future version. Call result.infer_objects(copy=False) instead. To opt-in to the future behavior, set `pd.set_option('future.no_silent_downcasting', True)`\n",
            "  df = df.ffill().bfill().reset_index()  # 앞뒤 모두 보간\n",
            "<ipython-input-15-37b0e0c48b46>:43: FutureWarning: Downcasting object dtype arrays on .fillna, .ffill, .bfill is deprecated and will change in a future version. Call result.infer_objects(copy=False) instead. To opt-in to the future behavior, set `pd.set_option('future.no_silent_downcasting', True)`\n",
            "  df = df.ffill().bfill().reset_index()  # 앞뒤 모두 보간\n",
            " 81%|████████  | 363/450 [05:04<00:56,  1.54it/s]<ipython-input-15-37b0e0c48b46>:43: FutureWarning: Downcasting object dtype arrays on .fillna, .ffill, .bfill is deprecated and will change in a future version. Call result.infer_objects(copy=False) instead. To opt-in to the future behavior, set `pd.set_option('future.no_silent_downcasting', True)`\n",
            "  df = df.ffill().bfill().reset_index()  # 앞뒤 모두 보간\n",
            "<ipython-input-15-37b0e0c48b46>:43: FutureWarning: Downcasting object dtype arrays on .fillna, .ffill, .bfill is deprecated and will change in a future version. Call result.infer_objects(copy=False) instead. To opt-in to the future behavior, set `pd.set_option('future.no_silent_downcasting', True)`\n",
            "  df = df.ffill().bfill().reset_index()  # 앞뒤 모두 보간\n",
            "<ipython-input-15-37b0e0c48b46>:43: FutureWarning: Downcasting object dtype arrays on .fillna, .ffill, .bfill is deprecated and will change in a future version. Call result.infer_objects(copy=False) instead. To opt-in to the future behavior, set `pd.set_option('future.no_silent_downcasting', True)`\n",
            "  df = df.ffill().bfill().reset_index()  # 앞뒤 모두 보간\n",
            "<ipython-input-15-37b0e0c48b46>:43: FutureWarning: Downcasting object dtype arrays on .fillna, .ffill, .bfill is deprecated and will change in a future version. Call result.infer_objects(copy=False) instead. To opt-in to the future behavior, set `pd.set_option('future.no_silent_downcasting', True)`\n",
            "  df = df.ffill().bfill().reset_index()  # 앞뒤 모두 보간\n",
            "<ipython-input-15-37b0e0c48b46>:43: FutureWarning: Downcasting object dtype arrays on .fillna, .ffill, .bfill is deprecated and will change in a future version. Call result.infer_objects(copy=False) instead. To opt-in to the future behavior, set `pd.set_option('future.no_silent_downcasting', True)`\n",
            "  df = df.ffill().bfill().reset_index()  # 앞뒤 모두 보간\n",
            "<ipython-input-15-37b0e0c48b46>:43: FutureWarning: Downcasting object dtype arrays on .fillna, .ffill, .bfill is deprecated and will change in a future version. Call result.infer_objects(copy=False) instead. To opt-in to the future behavior, set `pd.set_option('future.no_silent_downcasting', True)`\n",
            "  df = df.ffill().bfill().reset_index()  # 앞뒤 모두 보간\n",
            " 81%|████████  | 364/450 [05:04<00:56,  1.52it/s]<ipython-input-15-37b0e0c48b46>:43: FutureWarning: Downcasting object dtype arrays on .fillna, .ffill, .bfill is deprecated and will change in a future version. Call result.infer_objects(copy=False) instead. To opt-in to the future behavior, set `pd.set_option('future.no_silent_downcasting', True)`\n",
            "  df = df.ffill().bfill().reset_index()  # 앞뒤 모두 보간\n",
            "<ipython-input-15-37b0e0c48b46>:43: FutureWarning: Downcasting object dtype arrays on .fillna, .ffill, .bfill is deprecated and will change in a future version. Call result.infer_objects(copy=False) instead. To opt-in to the future behavior, set `pd.set_option('future.no_silent_downcasting', True)`\n",
            "  df = df.ffill().bfill().reset_index()  # 앞뒤 모두 보간\n",
            "<ipython-input-15-37b0e0c48b46>:43: FutureWarning: Downcasting object dtype arrays on .fillna, .ffill, .bfill is deprecated and will change in a future version. Call result.infer_objects(copy=False) instead. To opt-in to the future behavior, set `pd.set_option('future.no_silent_downcasting', True)`\n",
            "  df = df.ffill().bfill().reset_index()  # 앞뒤 모두 보간\n",
            "<ipython-input-15-37b0e0c48b46>:43: FutureWarning: Downcasting object dtype arrays on .fillna, .ffill, .bfill is deprecated and will change in a future version. Call result.infer_objects(copy=False) instead. To opt-in to the future behavior, set `pd.set_option('future.no_silent_downcasting', True)`\n",
            "  df = df.ffill().bfill().reset_index()  # 앞뒤 모두 보간\n",
            "<ipython-input-15-37b0e0c48b46>:43: FutureWarning: Downcasting object dtype arrays on .fillna, .ffill, .bfill is deprecated and will change in a future version. Call result.infer_objects(copy=False) instead. To opt-in to the future behavior, set `pd.set_option('future.no_silent_downcasting', True)`\n",
            "  df = df.ffill().bfill().reset_index()  # 앞뒤 모두 보간\n",
            "<ipython-input-15-37b0e0c48b46>:43: FutureWarning: Downcasting object dtype arrays on .fillna, .ffill, .bfill is deprecated and will change in a future version. Call result.infer_objects(copy=False) instead. To opt-in to the future behavior, set `pd.set_option('future.no_silent_downcasting', True)`\n",
            "  df = df.ffill().bfill().reset_index()  # 앞뒤 모두 보간\n",
            " 81%|████████▏ | 366/450 [05:06<01:03,  1.32it/s]<ipython-input-15-37b0e0c48b46>:43: FutureWarning: Downcasting object dtype arrays on .fillna, .ffill, .bfill is deprecated and will change in a future version. Call result.infer_objects(copy=False) instead. To opt-in to the future behavior, set `pd.set_option('future.no_silent_downcasting', True)`\n",
            "  df = df.ffill().bfill().reset_index()  # 앞뒤 모두 보간\n",
            "<ipython-input-15-37b0e0c48b46>:43: FutureWarning: Downcasting object dtype arrays on .fillna, .ffill, .bfill is deprecated and will change in a future version. Call result.infer_objects(copy=False) instead. To opt-in to the future behavior, set `pd.set_option('future.no_silent_downcasting', True)`\n",
            "  df = df.ffill().bfill().reset_index()  # 앞뒤 모두 보간\n",
            "<ipython-input-15-37b0e0c48b46>:43: FutureWarning: Downcasting object dtype arrays on .fillna, .ffill, .bfill is deprecated and will change in a future version. Call result.infer_objects(copy=False) instead. To opt-in to the future behavior, set `pd.set_option('future.no_silent_downcasting', True)`\n",
            "  df = df.ffill().bfill().reset_index()  # 앞뒤 모두 보간\n",
            " 82%|████████▏ | 367/450 [05:07<01:15,  1.09it/s]<ipython-input-15-37b0e0c48b46>:43: FutureWarning: Downcasting object dtype arrays on .fillna, .ffill, .bfill is deprecated and will change in a future version. Call result.infer_objects(copy=False) instead. To opt-in to the future behavior, set `pd.set_option('future.no_silent_downcasting', True)`\n",
            "  df = df.ffill().bfill().reset_index()  # 앞뒤 모두 보간\n",
            "<ipython-input-15-37b0e0c48b46>:43: FutureWarning: Downcasting object dtype arrays on .fillna, .ffill, .bfill is deprecated and will change in a future version. Call result.infer_objects(copy=False) instead. To opt-in to the future behavior, set `pd.set_option('future.no_silent_downcasting', True)`\n",
            "  df = df.ffill().bfill().reset_index()  # 앞뒤 모두 보간\n",
            "<ipython-input-15-37b0e0c48b46>:43: FutureWarning: Downcasting object dtype arrays on .fillna, .ffill, .bfill is deprecated and will change in a future version. Call result.infer_objects(copy=False) instead. To opt-in to the future behavior, set `pd.set_option('future.no_silent_downcasting', True)`\n",
            "  df = df.ffill().bfill().reset_index()  # 앞뒤 모두 보간\n",
            "<ipython-input-15-37b0e0c48b46>:43: FutureWarning: Downcasting object dtype arrays on .fillna, .ffill, .bfill is deprecated and will change in a future version. Call result.infer_objects(copy=False) instead. To opt-in to the future behavior, set `pd.set_option('future.no_silent_downcasting', True)`\n",
            "  df = df.ffill().bfill().reset_index()  # 앞뒤 모두 보간\n",
            "<ipython-input-15-37b0e0c48b46>:43: FutureWarning: Downcasting object dtype arrays on .fillna, .ffill, .bfill is deprecated and will change in a future version. Call result.infer_objects(copy=False) instead. To opt-in to the future behavior, set `pd.set_option('future.no_silent_downcasting', True)`\n",
            "  df = df.ffill().bfill().reset_index()  # 앞뒤 모두 보간\n",
            "<ipython-input-15-37b0e0c48b46>:43: FutureWarning: Downcasting object dtype arrays on .fillna, .ffill, .bfill is deprecated and will change in a future version. Call result.infer_objects(copy=False) instead. To opt-in to the future behavior, set `pd.set_option('future.no_silent_downcasting', True)`\n",
            "  df = df.ffill().bfill().reset_index()  # 앞뒤 모두 보간\n",
            " 82%|████████▏ | 368/450 [05:09<01:21,  1.01it/s]<ipython-input-15-37b0e0c48b46>:43: FutureWarning: Downcasting object dtype arrays on .fillna, .ffill, .bfill is deprecated and will change in a future version. Call result.infer_objects(copy=False) instead. To opt-in to the future behavior, set `pd.set_option('future.no_silent_downcasting', True)`\n",
            "  df = df.ffill().bfill().reset_index()  # 앞뒤 모두 보간\n",
            "<ipython-input-15-37b0e0c48b46>:43: FutureWarning: Downcasting object dtype arrays on .fillna, .ffill, .bfill is deprecated and will change in a future version. Call result.infer_objects(copy=False) instead. To opt-in to the future behavior, set `pd.set_option('future.no_silent_downcasting', True)`\n",
            "  df = df.ffill().bfill().reset_index()  # 앞뒤 모두 보간\n",
            "<ipython-input-15-37b0e0c48b46>:43: FutureWarning: Downcasting object dtype arrays on .fillna, .ffill, .bfill is deprecated and will change in a future version. Call result.infer_objects(copy=False) instead. To opt-in to the future behavior, set `pd.set_option('future.no_silent_downcasting', True)`\n",
            "  df = df.ffill().bfill().reset_index()  # 앞뒤 모두 보간\n",
            "<ipython-input-15-37b0e0c48b46>:43: FutureWarning: Downcasting object dtype arrays on .fillna, .ffill, .bfill is deprecated and will change in a future version. Call result.infer_objects(copy=False) instead. To opt-in to the future behavior, set `pd.set_option('future.no_silent_downcasting', True)`\n",
            "  df = df.ffill().bfill().reset_index()  # 앞뒤 모두 보간\n",
            "<ipython-input-15-37b0e0c48b46>:43: FutureWarning: Downcasting object dtype arrays on .fillna, .ffill, .bfill is deprecated and will change in a future version. Call result.infer_objects(copy=False) instead. To opt-in to the future behavior, set `pd.set_option('future.no_silent_downcasting', True)`\n",
            "  df = df.ffill().bfill().reset_index()  # 앞뒤 모두 보간\n",
            " 82%|████████▏ | 369/450 [05:10<01:22,  1.01s/it]<ipython-input-15-37b0e0c48b46>:43: FutureWarning: Downcasting object dtype arrays on .fillna, .ffill, .bfill is deprecated and will change in a future version. Call result.infer_objects(copy=False) instead. To opt-in to the future behavior, set `pd.set_option('future.no_silent_downcasting', True)`\n",
            "  df = df.ffill().bfill().reset_index()  # 앞뒤 모두 보간\n",
            "<ipython-input-15-37b0e0c48b46>:43: FutureWarning: Downcasting object dtype arrays on .fillna, .ffill, .bfill is deprecated and will change in a future version. Call result.infer_objects(copy=False) instead. To opt-in to the future behavior, set `pd.set_option('future.no_silent_downcasting', True)`\n",
            "  df = df.ffill().bfill().reset_index()  # 앞뒤 모두 보간\n",
            "<ipython-input-15-37b0e0c48b46>:43: FutureWarning: Downcasting object dtype arrays on .fillna, .ffill, .bfill is deprecated and will change in a future version. Call result.infer_objects(copy=False) instead. To opt-in to the future behavior, set `pd.set_option('future.no_silent_downcasting', True)`\n",
            "  df = df.ffill().bfill().reset_index()  # 앞뒤 모두 보간\n",
            "<ipython-input-15-37b0e0c48b46>:43: FutureWarning: Downcasting object dtype arrays on .fillna, .ffill, .bfill is deprecated and will change in a future version. Call result.infer_objects(copy=False) instead. To opt-in to the future behavior, set `pd.set_option('future.no_silent_downcasting', True)`\n",
            "  df = df.ffill().bfill().reset_index()  # 앞뒤 모두 보간\n",
            "<ipython-input-15-37b0e0c48b46>:43: FutureWarning: Downcasting object dtype arrays on .fillna, .ffill, .bfill is deprecated and will change in a future version. Call result.infer_objects(copy=False) instead. To opt-in to the future behavior, set `pd.set_option('future.no_silent_downcasting', True)`\n",
            "  df = df.ffill().bfill().reset_index()  # 앞뒤 모두 보간\n",
            "<ipython-input-15-37b0e0c48b46>:43: FutureWarning: Downcasting object dtype arrays on .fillna, .ffill, .bfill is deprecated and will change in a future version. Call result.infer_objects(copy=False) instead. To opt-in to the future behavior, set `pd.set_option('future.no_silent_downcasting', True)`\n",
            "  df = df.ffill().bfill().reset_index()  # 앞뒤 모두 보간\n",
            " 82%|████████▏ | 370/450 [05:10<01:12,  1.10it/s]<ipython-input-15-37b0e0c48b46>:43: FutureWarning: Downcasting object dtype arrays on .fillna, .ffill, .bfill is deprecated and will change in a future version. Call result.infer_objects(copy=False) instead. To opt-in to the future behavior, set `pd.set_option('future.no_silent_downcasting', True)`\n",
            "  df = df.ffill().bfill().reset_index()  # 앞뒤 모두 보간\n",
            "<ipython-input-15-37b0e0c48b46>:43: FutureWarning: Downcasting object dtype arrays on .fillna, .ffill, .bfill is deprecated and will change in a future version. Call result.infer_objects(copy=False) instead. To opt-in to the future behavior, set `pd.set_option('future.no_silent_downcasting', True)`\n",
            "  df = df.ffill().bfill().reset_index()  # 앞뒤 모두 보간\n",
            "<ipython-input-15-37b0e0c48b46>:43: FutureWarning: Downcasting object dtype arrays on .fillna, .ffill, .bfill is deprecated and will change in a future version. Call result.infer_objects(copy=False) instead. To opt-in to the future behavior, set `pd.set_option('future.no_silent_downcasting', True)`\n",
            "  df = df.ffill().bfill().reset_index()  # 앞뒤 모두 보간\n",
            "<ipython-input-15-37b0e0c48b46>:43: FutureWarning: Downcasting object dtype arrays on .fillna, .ffill, .bfill is deprecated and will change in a future version. Call result.infer_objects(copy=False) instead. To opt-in to the future behavior, set `pd.set_option('future.no_silent_downcasting', True)`\n",
            "  df = df.ffill().bfill().reset_index()  # 앞뒤 모두 보간\n",
            "<ipython-input-15-37b0e0c48b46>:43: FutureWarning: Downcasting object dtype arrays on .fillna, .ffill, .bfill is deprecated and will change in a future version. Call result.infer_objects(copy=False) instead. To opt-in to the future behavior, set `pd.set_option('future.no_silent_downcasting', True)`\n",
            "  df = df.ffill().bfill().reset_index()  # 앞뒤 모두 보간\n",
            "<ipython-input-15-37b0e0c48b46>:43: FutureWarning: Downcasting object dtype arrays on .fillna, .ffill, .bfill is deprecated and will change in a future version. Call result.infer_objects(copy=False) instead. To opt-in to the future behavior, set `pd.set_option('future.no_silent_downcasting', True)`\n",
            "  df = df.ffill().bfill().reset_index()  # 앞뒤 모두 보간\n",
            " 83%|████████▎ | 372/450 [05:12<01:00,  1.28it/s]<ipython-input-15-37b0e0c48b46>:43: FutureWarning: Downcasting object dtype arrays on .fillna, .ffill, .bfill is deprecated and will change in a future version. Call result.infer_objects(copy=False) instead. To opt-in to the future behavior, set `pd.set_option('future.no_silent_downcasting', True)`\n",
            "  df = df.ffill().bfill().reset_index()  # 앞뒤 모두 보간\n",
            " 83%|████████▎ | 373/450 [05:12<00:57,  1.34it/s]<ipython-input-15-37b0e0c48b46>:43: FutureWarning: Downcasting object dtype arrays on .fillna, .ffill, .bfill is deprecated and will change in a future version. Call result.infer_objects(copy=False) instead. To opt-in to the future behavior, set `pd.set_option('future.no_silent_downcasting', True)`\n",
            "  df = df.ffill().bfill().reset_index()  # 앞뒤 모두 보간\n",
            "<ipython-input-15-37b0e0c48b46>:43: FutureWarning: Downcasting object dtype arrays on .fillna, .ffill, .bfill is deprecated and will change in a future version. Call result.infer_objects(copy=False) instead. To opt-in to the future behavior, set `pd.set_option('future.no_silent_downcasting', True)`\n",
            "  df = df.ffill().bfill().reset_index()  # 앞뒤 모두 보간\n",
            "<ipython-input-15-37b0e0c48b46>:43: FutureWarning: Downcasting object dtype arrays on .fillna, .ffill, .bfill is deprecated and will change in a future version. Call result.infer_objects(copy=False) instead. To opt-in to the future behavior, set `pd.set_option('future.no_silent_downcasting', True)`\n",
            "  df = df.ffill().bfill().reset_index()  # 앞뒤 모두 보간\n",
            " 83%|████████▎ | 374/450 [05:13<00:53,  1.41it/s]<ipython-input-15-37b0e0c48b46>:43: FutureWarning: Downcasting object dtype arrays on .fillna, .ffill, .bfill is deprecated and will change in a future version. Call result.infer_objects(copy=False) instead. To opt-in to the future behavior, set `pd.set_option('future.no_silent_downcasting', True)`\n",
            "  df = df.ffill().bfill().reset_index()  # 앞뒤 모두 보간\n",
            "<ipython-input-15-37b0e0c48b46>:43: FutureWarning: Downcasting object dtype arrays on .fillna, .ffill, .bfill is deprecated and will change in a future version. Call result.infer_objects(copy=False) instead. To opt-in to the future behavior, set `pd.set_option('future.no_silent_downcasting', True)`\n",
            "  df = df.ffill().bfill().reset_index()  # 앞뒤 모두 보간\n",
            "<ipython-input-15-37b0e0c48b46>:43: FutureWarning: Downcasting object dtype arrays on .fillna, .ffill, .bfill is deprecated and will change in a future version. Call result.infer_objects(copy=False) instead. To opt-in to the future behavior, set `pd.set_option('future.no_silent_downcasting', True)`\n",
            "  df = df.ffill().bfill().reset_index()  # 앞뒤 모두 보간\n",
            "<ipython-input-15-37b0e0c48b46>:43: FutureWarning: Downcasting object dtype arrays on .fillna, .ffill, .bfill is deprecated and will change in a future version. Call result.infer_objects(copy=False) instead. To opt-in to the future behavior, set `pd.set_option('future.no_silent_downcasting', True)`\n",
            "  df = df.ffill().bfill().reset_index()  # 앞뒤 모두 보간\n",
            " 83%|████████▎ | 375/450 [05:14<00:52,  1.44it/s]<ipython-input-15-37b0e0c48b46>:43: FutureWarning: Downcasting object dtype arrays on .fillna, .ffill, .bfill is deprecated and will change in a future version. Call result.infer_objects(copy=False) instead. To opt-in to the future behavior, set `pd.set_option('future.no_silent_downcasting', True)`\n",
            "  df = df.ffill().bfill().reset_index()  # 앞뒤 모두 보간\n",
            "<ipython-input-15-37b0e0c48b46>:43: FutureWarning: Downcasting object dtype arrays on .fillna, .ffill, .bfill is deprecated and will change in a future version. Call result.infer_objects(copy=False) instead. To opt-in to the future behavior, set `pd.set_option('future.no_silent_downcasting', True)`\n",
            "  df = df.ffill().bfill().reset_index()  # 앞뒤 모두 보간\n",
            "<ipython-input-15-37b0e0c48b46>:43: FutureWarning: Downcasting object dtype arrays on .fillna, .ffill, .bfill is deprecated and will change in a future version. Call result.infer_objects(copy=False) instead. To opt-in to the future behavior, set `pd.set_option('future.no_silent_downcasting', True)`\n",
            "  df = df.ffill().bfill().reset_index()  # 앞뒤 모두 보간\n",
            "<ipython-input-15-37b0e0c48b46>:43: FutureWarning: Downcasting object dtype arrays on .fillna, .ffill, .bfill is deprecated and will change in a future version. Call result.infer_objects(copy=False) instead. To opt-in to the future behavior, set `pd.set_option('future.no_silent_downcasting', True)`\n",
            "  df = df.ffill().bfill().reset_index()  # 앞뒤 모두 보간\n",
            "<ipython-input-15-37b0e0c48b46>:43: FutureWarning: Downcasting object dtype arrays on .fillna, .ffill, .bfill is deprecated and will change in a future version. Call result.infer_objects(copy=False) instead. To opt-in to the future behavior, set `pd.set_option('future.no_silent_downcasting', True)`\n",
            "  df = df.ffill().bfill().reset_index()  # 앞뒤 모두 보간\n",
            " 86%|████████▌ | 385/450 [05:21<00:58,  1.12it/s]<ipython-input-15-37b0e0c48b46>:43: FutureWarning: Downcasting object dtype arrays on .fillna, .ffill, .bfill is deprecated and will change in a future version. Call result.infer_objects(copy=False) instead. To opt-in to the future behavior, set `pd.set_option('future.no_silent_downcasting', True)`\n",
            "  df = df.ffill().bfill().reset_index()  # 앞뒤 모두 보간\n",
            " 86%|████████▌ | 386/450 [05:23<01:03,  1.02it/s]<ipython-input-15-37b0e0c48b46>:43: FutureWarning: Downcasting object dtype arrays on .fillna, .ffill, .bfill is deprecated and will change in a future version. Call result.infer_objects(copy=False) instead. To opt-in to the future behavior, set `pd.set_option('future.no_silent_downcasting', True)`\n",
            "  df = df.ffill().bfill().reset_index()  # 앞뒤 모두 보간\n",
            " 86%|████████▌ | 387/450 [05:24<01:04,  1.03s/it]<ipython-input-15-37b0e0c48b46>:43: FutureWarning: Downcasting object dtype arrays on .fillna, .ffill, .bfill is deprecated and will change in a future version. Call result.infer_objects(copy=False) instead. To opt-in to the future behavior, set `pd.set_option('future.no_silent_downcasting', True)`\n",
            "  df = df.ffill().bfill().reset_index()  # 앞뒤 모두 보간\n",
            " 86%|████████▌ | 388/450 [05:24<00:57,  1.09it/s]<ipython-input-15-37b0e0c48b46>:43: FutureWarning: Downcasting object dtype arrays on .fillna, .ffill, .bfill is deprecated and will change in a future version. Call result.infer_objects(copy=False) instead. To opt-in to the future behavior, set `pd.set_option('future.no_silent_downcasting', True)`\n",
            "  df = df.ffill().bfill().reset_index()  # 앞뒤 모두 보간\n",
            "100%|██████████| 450/450 [06:12<00:00,  1.21it/s]\n"
          ]
        }
      ],
      "source": [
        "# 시계열 생성\n",
        "X_seq = []\n",
        "for _, row in tqdm(df_label.iterrows(), total=len(df_label)):\n",
        "    x = merge_input_timeseries(row['subject_id'], row['lifelog_date'], row['sleep_date'], input_dict)\n",
        "    X_seq.append(x.values)\n",
        "\n",
        "X_seq = np.stack(X_seq)\n",
        "y_target = df_label[['Q1', 'Q2', 'Q3', 'S1', 'S2', 'S3']].values"
      ]
    },
    {
      "cell_type": "code",
      "source": [
        "X_seq.shape"
      ],
      "metadata": {
        "colab": {
          "base_uri": "https://localhost:8080/"
        },
        "id": "sbS8NLlx4Xu8",
        "outputId": "ada1f472-c0cc-42af-ce6f-44486ddf598b"
      },
      "id": "sbS8NLlx4Xu8",
      "execution_count": 17,
      "outputs": [
        {
          "output_type": "execute_result",
          "data": {
            "text/plain": [
              "(450, 1440, 61)"
            ]
          },
          "metadata": {},
          "execution_count": 17
        }
      ]
    },
    {
      "cell_type": "code",
      "execution_count": null,
      "id": "OVxZ6n3Wq_Ru",
      "metadata": {
        "colab": {
          "base_uri": "https://localhost:8080/"
        },
        "id": "OVxZ6n3Wq_Ru",
        "outputId": "f25993e5-0d09-4105-ec18-5641117f2d56"
      },
      "outputs": [
        {
          "output_type": "stream",
          "name": "stdout",
          "text": [
            "훈련 데이터 형태: (360, 1440, 61)\n",
            "검증 데이터 형태: (90, 1440, 61)\n",
            "Epoch 1/100 - Loss: 0.027264859527349472\n"
          ]
        }
      ],
      "source": [
        "import numpy as np\n",
        "import tensorflow as tf\n",
        "from tensorflow.keras import layers, models\n",
        "from sklearn.model_selection import train_test_split\n",
        "from sklearn.preprocessing import MinMaxScaler\n",
        "from sklearn.cluster import KMeans\n",
        "from tensorflow.keras.utils import to_categorical\n",
        "\n",
        "# TimeGAN 모델 클래스\n",
        "class TimeGAN(tf.keras.Model):\n",
        "    def __init__(self, seq_length, n_features, hidden_dim=64):\n",
        "        super(TimeGAN, self).__init__()\n",
        "        self.seq_length = seq_length\n",
        "        self.n_features = n_features\n",
        "        self.hidden_dim = hidden_dim\n",
        "\n",
        "        # 임베딩 네트워크\n",
        "        self.embed = layers.LSTM(hidden_dim, return_sequences=True)\n",
        "\n",
        "        # 생성자\n",
        "        self.generator_lstm = layers.LSTM(hidden_dim, return_sequences=True)\n",
        "        self.generator_output = layers.Dense(n_features)  # n_features로 수정\n",
        "\n",
        "        # 구별자\n",
        "        self.discriminator_lstm = layers.LSTM(hidden_dim, return_sequences=True)\n",
        "        self.discriminator_output = layers.Dense(1, activation='sigmoid')\n",
        "\n",
        "        # 지도 학습 네트워크\n",
        "        self.supervised_lstm = layers.LSTM(hidden_dim, return_sequences=True)\n",
        "        self.supervised_output = layers.Dense(1, activation='sigmoid')\n",
        "\n",
        "    def call(self, inputs, training=False):\n",
        "        x = self.embed(inputs)\n",
        "\n",
        "        # 생성자\n",
        "        generated = self.generator_lstm(x)\n",
        "        generated = self.generator_output(generated)\n",
        "\n",
        "        # 구별자\n",
        "        real_or_fake = self.discriminator_lstm(generated)\n",
        "        real_or_fake = self.discriminator_output(real_or_fake)\n",
        "\n",
        "        # 감독 네트워크\n",
        "        supervised_output = self.supervised_lstm(x)\n",
        "        supervised_output = self.supervised_output(supervised_output)\n",
        "\n",
        "        return generated, real_or_fake, supervised_output\n",
        "\n",
        "# 데이터 생성 및 전처리\n",
        "def preprocess_data(X_seq):\n",
        "    scaler = MinMaxScaler()\n",
        "    X_scaled = scaler.fit_transform(X_seq.reshape(-1, X_seq.shape[2]))  # (450 * 1440, 60) 형태로 변환\n",
        "    X_scaled = X_scaled.reshape(X_seq.shape)  # 다시 (450, 1440, 60) 형태로 복원\n",
        "    return X_scaled\n",
        "\n",
        "# 6개 라벨 구조에 맞춰 KMeans 클러스터링 적용\n",
        "def generate_structured_labels_with_kmeans(generated_data, label_types):\n",
        "    n_tasks = len(label_types)\n",
        "    n_samples = generated_data.shape[0]\n",
        "    labels_matrix = np.zeros((n_samples, n_tasks), dtype=int)\n",
        "\n",
        "    # Flatten for clustering\n",
        "    data_flat = generated_data.reshape(n_samples, -1)\n",
        "\n",
        "    for i, label_type in enumerate(label_types):\n",
        "        if label_type == 'binary':\n",
        "            n_clusters = 2\n",
        "        elif label_type == 'multi3':\n",
        "            n_clusters = 3\n",
        "        else:\n",
        "            raise ValueError(f\"Unknown label type: {label_type}\")\n",
        "\n",
        "        km = KMeans(n_clusters=n_clusters, random_state=42)\n",
        "        cluster_labels = km.fit_predict(data_flat)\n",
        "        labels_matrix[:, i] = cluster_labels\n",
        "\n",
        "    return labels_matrix\n",
        "\n",
        "# TimeGAN 학습 및 데이터 생성\n",
        "def train_timegan(X_train, seq_length=1440, n_features=61, epochs=100, batch_size=32):\n",
        "    # TimeGAN 모델 초기화\n",
        "    model = TimeGAN(seq_length, n_features)\n",
        "    model.compile(optimizer='adam', loss='binary_crossentropy')\n",
        "\n",
        "    # 데이터 배치 나누기\n",
        "    dataset = tf.data.Dataset.from_tensor_slices(X_train).batch(batch_size)\n",
        "\n",
        "    # 학습 루프\n",
        "    for epoch in range(epochs):\n",
        "        for batch in dataset:\n",
        "            with tf.GradientTape() as tape:\n",
        "                generated, real_or_fake, supervised_output = model(batch)\n",
        "\n",
        "                # 손실 계산 (구별자와 생성자)\n",
        "                discriminator_loss = tf.reduce_mean(tf.keras.losses.binary_crossentropy(tf.ones_like(real_or_fake), real_or_fake))\n",
        "                generator_loss = tf.reduce_mean(tf.keras.losses.binary_crossentropy(tf.ones_like(real_or_fake), real_or_fake))\n",
        "\n",
        "                # 임베딩 및 지도 학습 네트워크 손실\n",
        "                supervised_loss = tf.reduce_mean(tf.keras.losses.binary_crossentropy(tf.ones_like(supervised_output), supervised_output))\n",
        "\n",
        "                total_loss = discriminator_loss + generator_loss + supervised_loss\n",
        "\n",
        "            # 모델 업데이트\n",
        "            grads = tape.gradient(total_loss, model.trainable_variables)\n",
        "            model.optimizer.apply_gradients(zip(grads, model.trainable_variables))\n",
        "\n",
        "        print(f'Epoch {epoch+1}/{epochs} - Loss: {total_loss.numpy()}')\n",
        "\n",
        "    return model\n",
        "\n",
        "# 데이터 준비 (X_seq는 시계열 데이터)\n",
        "# 예시로 직접 생성하거나 로드한 데이터 사용\n",
        "# X_seq = np.load(\"your_data.npy\")  # (450, 1440, 60) 형태\n",
        "\n",
        "# X_seq를 MinMaxScaler로 정규화\n",
        "X_scaled = preprocess_data(X_seq)\n",
        "\n",
        "# 학습 데이터 분할\n",
        "X_train, X_val = train_test_split(X_scaled, test_size=0.2, shuffle=True)\n",
        "print(f\"훈련 데이터 형태: {X_train.shape}\")\n",
        "print(f\"검증 데이터 형태: {X_val.shape}\")\n",
        "\n",
        "# TimeGAN 모델 학습\n",
        "model = train_timegan(X_train, n_features=61, epochs=100)\n",
        "\n",
        "# 데이터 생성\n",
        "n_samples_to_generate = 250\n",
        "generated_data = model.generator_lstm(X_train[:n_samples_to_generate])\n",
        "generated_data = model.generator_output(generated_data)\n",
        "\n",
        "# 생성된 데이터 출력\n",
        "print(\"생성된 데이터 형태:\", generated_data.shape)\n",
        "\n",
        "# 6개 라벨 구조 정의\n",
        "label_types = ['binary', 'binary', 'binary', 'multi3', 'binary', 'binary']  # Q1~Q3, S1, S2~S3\n",
        "\n",
        "# 새로운 구조화된 라벨 생성\n",
        "generated_label_matrix = generate_structured_labels_with_kmeans(generated_data.numpy(), label_types)\n",
        "\n",
        "# 데이터 결합\n",
        "X_combined = np.concatenate([X_seq, generated_data.numpy()], axis=0)\n",
        "y_combined = np.concatenate([y_target, generated_label_matrix], axis=0)\n",
        "\n",
        "print(f\"최종 데이터 형태 (원본 + 생성된): {X_combined.shape}\")\n",
        "print(f\"최종 라벨 형태 (원본 + 생성된): {y_combined.shape}\")\n"
      ]
    },
    {
      "cell_type": "code",
      "source": [
        "print(y_target.shape)\n",
        "print(generated_labels.shape)\n"
      ],
      "metadata": {
        "colab": {
          "base_uri": "https://localhost:8080/"
        },
        "id": "u2OW4cohvAA7",
        "outputId": "0723a80d-f2cc-4070-dbad-d2093e5de69c"
      },
      "id": "u2OW4cohvAA7",
      "execution_count": null,
      "outputs": [
        {
          "output_type": "stream",
          "name": "stdout",
          "text": [
            "(250, 6)\n",
            "(250,)\n"
          ]
        }
      ]
    },
    {
      "cell_type": "markdown",
      "id": "2b66b7ba",
      "metadata": {
        "id": "2b66b7ba"
      },
      "source": [
        "# Model Compile 모델 구성"
      ]
    },
    {
      "cell_type": "code",
      "execution_count": null,
      "id": "bc3773bc",
      "metadata": {
        "id": "bc3773bc"
      },
      "outputs": [],
      "source": [
        "def build_improved_cnn_model(X_seq):\n",
        "    input_shape = (X_seq.shape[1], X_seq.shape[2])  # 1440, feature 수 자동 추출\n",
        "    inp = Input(shape=input_shape)\n",
        "\n",
        "    # Conv Block 1\n",
        "    x = layers.Conv1D(64, kernel_size=5, strides=2, padding='same')(inp)\n",
        "    x = layers.BatchNormalization()(x)\n",
        "    x = layers.Activation('relu')(x)\n",
        "\n",
        "    # Conv Block 2\n",
        "    x = layers.Conv1D(128, kernel_size=5, strides=2, padding='same')(x)\n",
        "    x = layers.BatchNormalization()(x)\n",
        "    x = layers.Activation('relu')(x)\n",
        "\n",
        "    # Conv Block 3\n",
        "    x = layers.Conv1D(256, kernel_size=3, strides=2, padding='same')(x)\n",
        "    x = layers.BatchNormalization()(x)\n",
        "    x = layers.Activation('relu')(x)\n",
        "\n",
        "    # Conv Block 4\n",
        "    x = layers.Conv1D(512, kernel_size=3, strides=2, padding='same')(x)\n",
        "    x = layers.BatchNormalization()(x)\n",
        "    x = layers.Activation('relu')(x)\n",
        "\n",
        "    x = layers.GlobalAveragePooling1D()(x)\n",
        "\n",
        "    # Dense block\n",
        "    x = layers.Dense(256, activation='relu')(x)\n",
        "    x = layers.Dropout(0.3)(x)\n",
        "    x = layers.Dense(128, activation='relu')(x)\n",
        "    x = layers.Dropout(0.2)(x)\n",
        "\n",
        "    # Outputs\n",
        "    out_q1 = layers.Dense(1, activation='sigmoid', name='Q1')(x)\n",
        "    out_q2 = layers.Dense(1, activation='sigmoid', name='Q2')(x)\n",
        "    out_q3 = layers.Dense(1, activation='sigmoid', name='Q3')(x)\n",
        "    out_s1 = layers.Dense(3, activation='softmax', name='S1')(x)\n",
        "    out_s2 = layers.Dense(1, activation='sigmoid', name='S2')(x)\n",
        "    out_s3 = layers.Dense(1, activation='sigmoid', name='S3')(x)\n",
        "\n",
        "    model = models.Model(inputs=inp, outputs=[out_q1, out_q2, out_q3, out_s1, out_s2, out_s3])\n",
        "    return model\n",
        "\n",
        "model = build_improved_cnn_model(X_seq)\n",
        "\n",
        "early_stop = EarlyStopping(\n",
        "    monitor='val_loss',\n",
        "    patience=7,\n",
        "    restore_best_weights=True\n",
        ")\n",
        "\n",
        "model.compile(\n",
        "    optimizer=Adam(learning_rate=0.0005),  # learning rate ↓\n",
        "    loss={\n",
        "        'Q1': 'binary_crossentropy',\n",
        "        'Q2': 'binary_crossentropy',\n",
        "        'Q3': 'binary_crossentropy',\n",
        "        'S1': 'sparse_categorical_crossentropy',\n",
        "        'S2': 'binary_crossentropy',\n",
        "        'S3': 'binary_crossentropy',\n",
        "    },\n",
        "    metrics={\n",
        "        'Q1': ['accuracy'],\n",
        "        'Q2': ['accuracy'],\n",
        "        'Q3': ['accuracy'],\n",
        "        'S1': ['accuracy'],\n",
        "        'S2': ['accuracy'],\n",
        "        'S3': ['accuracy']\n",
        "    }\n",
        ")"
      ]
    },
    {
      "cell_type": "markdown",
      "id": "8c75ac3d",
      "metadata": {
        "id": "8c75ac3d"
      },
      "source": [
        "# Model Fit, 모델학습"
      ]
    },
    {
      "cell_type": "code",
      "execution_count": null,
      "id": "9134cb6d",
      "metadata": {
        "id": "9134cb6d",
        "colab": {
          "base_uri": "https://localhost:8080/",
          "height": 373
        },
        "outputId": "ad73c112-2888-435b-d8fa-195134d8699f"
      },
      "outputs": [
        {
          "output_type": "error",
          "ename": "ValueError",
          "evalue": "Found input variables with inconsistent numbers of samples: [800, 600]",
          "traceback": [
            "\u001b[0;31m---------------------------------------------------------------------------\u001b[0m",
            "\u001b[0;31mValueError\u001b[0m                                Traceback (most recent call last)",
            "\u001b[0;32m<ipython-input-29-d2b15d708e05>\u001b[0m in \u001b[0;36m<cell line: 0>\u001b[0;34m()\u001b[0m\n\u001b[1;32m      1\u001b[0m \u001b[0;31m# 데이터 분할 (명시적으로)\u001b[0m\u001b[0;34m\u001b[0m\u001b[0;34m\u001b[0m\u001b[0m\n\u001b[0;32m----> 2\u001b[0;31m \u001b[0mX_train\u001b[0m\u001b[0;34m,\u001b[0m \u001b[0mX_val\u001b[0m\u001b[0;34m,\u001b[0m \u001b[0my_train\u001b[0m\u001b[0;34m,\u001b[0m \u001b[0my_val\u001b[0m \u001b[0;34m=\u001b[0m \u001b[0mtrain_test_split\u001b[0m\u001b[0;34m(\u001b[0m\u001b[0mX_combined\u001b[0m\u001b[0;34m,\u001b[0m \u001b[0my_combined\u001b[0m\u001b[0;34m,\u001b[0m \u001b[0mtest_size\u001b[0m\u001b[0;34m=\u001b[0m\u001b[0;36m0.2\u001b[0m\u001b[0;34m,\u001b[0m \u001b[0mrandom_state\u001b[0m\u001b[0;34m=\u001b[0m\u001b[0;36m42\u001b[0m\u001b[0;34m)\u001b[0m\u001b[0;34m\u001b[0m\u001b[0;34m\u001b[0m\u001b[0m\n\u001b[0m\u001b[1;32m      3\u001b[0m \u001b[0;34m\u001b[0m\u001b[0m\n\u001b[1;32m      4\u001b[0m \u001b[0;31m# 모델 학습습\u001b[0m\u001b[0;34m\u001b[0m\u001b[0;34m\u001b[0m\u001b[0m\n\u001b[1;32m      5\u001b[0m history = model.fit(\n",
            "\u001b[0;32m/usr/local/lib/python3.11/dist-packages/sklearn/utils/_param_validation.py\u001b[0m in \u001b[0;36mwrapper\u001b[0;34m(*args, **kwargs)\u001b[0m\n\u001b[1;32m    214\u001b[0m                     )\n\u001b[1;32m    215\u001b[0m                 ):\n\u001b[0;32m--> 216\u001b[0;31m                     \u001b[0;32mreturn\u001b[0m \u001b[0mfunc\u001b[0m\u001b[0;34m(\u001b[0m\u001b[0;34m*\u001b[0m\u001b[0margs\u001b[0m\u001b[0;34m,\u001b[0m \u001b[0;34m**\u001b[0m\u001b[0mkwargs\u001b[0m\u001b[0;34m)\u001b[0m\u001b[0;34m\u001b[0m\u001b[0;34m\u001b[0m\u001b[0m\n\u001b[0m\u001b[1;32m    217\u001b[0m             \u001b[0;32mexcept\u001b[0m \u001b[0mInvalidParameterError\u001b[0m \u001b[0;32mas\u001b[0m \u001b[0me\u001b[0m\u001b[0;34m:\u001b[0m\u001b[0;34m\u001b[0m\u001b[0;34m\u001b[0m\u001b[0m\n\u001b[1;32m    218\u001b[0m                 \u001b[0;31m# When the function is just a wrapper around an estimator, we allow\u001b[0m\u001b[0;34m\u001b[0m\u001b[0;34m\u001b[0m\u001b[0m\n",
            "\u001b[0;32m/usr/local/lib/python3.11/dist-packages/sklearn/model_selection/_split.py\u001b[0m in \u001b[0;36mtrain_test_split\u001b[0;34m(test_size, train_size, random_state, shuffle, stratify, *arrays)\u001b[0m\n\u001b[1;32m   2846\u001b[0m         \u001b[0;32mraise\u001b[0m \u001b[0mValueError\u001b[0m\u001b[0;34m(\u001b[0m\u001b[0;34m\"At least one array required as input\"\u001b[0m\u001b[0;34m)\u001b[0m\u001b[0;34m\u001b[0m\u001b[0;34m\u001b[0m\u001b[0m\n\u001b[1;32m   2847\u001b[0m \u001b[0;34m\u001b[0m\u001b[0m\n\u001b[0;32m-> 2848\u001b[0;31m     \u001b[0marrays\u001b[0m \u001b[0;34m=\u001b[0m \u001b[0mindexable\u001b[0m\u001b[0;34m(\u001b[0m\u001b[0;34m*\u001b[0m\u001b[0marrays\u001b[0m\u001b[0;34m)\u001b[0m\u001b[0;34m\u001b[0m\u001b[0;34m\u001b[0m\u001b[0m\n\u001b[0m\u001b[1;32m   2849\u001b[0m \u001b[0;34m\u001b[0m\u001b[0m\n\u001b[1;32m   2850\u001b[0m     \u001b[0mn_samples\u001b[0m \u001b[0;34m=\u001b[0m \u001b[0m_num_samples\u001b[0m\u001b[0;34m(\u001b[0m\u001b[0marrays\u001b[0m\u001b[0;34m[\u001b[0m\u001b[0;36m0\u001b[0m\u001b[0;34m]\u001b[0m\u001b[0;34m)\u001b[0m\u001b[0;34m\u001b[0m\u001b[0;34m\u001b[0m\u001b[0m\n",
            "\u001b[0;32m/usr/local/lib/python3.11/dist-packages/sklearn/utils/validation.py\u001b[0m in \u001b[0;36mindexable\u001b[0;34m(*iterables)\u001b[0m\n\u001b[1;32m    530\u001b[0m \u001b[0;34m\u001b[0m\u001b[0m\n\u001b[1;32m    531\u001b[0m     \u001b[0mresult\u001b[0m \u001b[0;34m=\u001b[0m \u001b[0;34m[\u001b[0m\u001b[0m_make_indexable\u001b[0m\u001b[0;34m(\u001b[0m\u001b[0mX\u001b[0m\u001b[0;34m)\u001b[0m \u001b[0;32mfor\u001b[0m \u001b[0mX\u001b[0m \u001b[0;32min\u001b[0m \u001b[0miterables\u001b[0m\u001b[0;34m]\u001b[0m\u001b[0;34m\u001b[0m\u001b[0;34m\u001b[0m\u001b[0m\n\u001b[0;32m--> 532\u001b[0;31m     \u001b[0mcheck_consistent_length\u001b[0m\u001b[0;34m(\u001b[0m\u001b[0;34m*\u001b[0m\u001b[0mresult\u001b[0m\u001b[0;34m)\u001b[0m\u001b[0;34m\u001b[0m\u001b[0;34m\u001b[0m\u001b[0m\n\u001b[0m\u001b[1;32m    533\u001b[0m     \u001b[0;32mreturn\u001b[0m \u001b[0mresult\u001b[0m\u001b[0;34m\u001b[0m\u001b[0;34m\u001b[0m\u001b[0m\n\u001b[1;32m    534\u001b[0m \u001b[0;34m\u001b[0m\u001b[0m\n",
            "\u001b[0;32m/usr/local/lib/python3.11/dist-packages/sklearn/utils/validation.py\u001b[0m in \u001b[0;36mcheck_consistent_length\u001b[0;34m(*arrays)\u001b[0m\n\u001b[1;32m    473\u001b[0m     \u001b[0muniques\u001b[0m \u001b[0;34m=\u001b[0m \u001b[0mnp\u001b[0m\u001b[0;34m.\u001b[0m\u001b[0munique\u001b[0m\u001b[0;34m(\u001b[0m\u001b[0mlengths\u001b[0m\u001b[0;34m)\u001b[0m\u001b[0;34m\u001b[0m\u001b[0;34m\u001b[0m\u001b[0m\n\u001b[1;32m    474\u001b[0m     \u001b[0;32mif\u001b[0m \u001b[0mlen\u001b[0m\u001b[0;34m(\u001b[0m\u001b[0muniques\u001b[0m\u001b[0;34m)\u001b[0m \u001b[0;34m>\u001b[0m \u001b[0;36m1\u001b[0m\u001b[0;34m:\u001b[0m\u001b[0;34m\u001b[0m\u001b[0;34m\u001b[0m\u001b[0m\n\u001b[0;32m--> 475\u001b[0;31m         raise ValueError(\n\u001b[0m\u001b[1;32m    476\u001b[0m             \u001b[0;34m\"Found input variables with inconsistent numbers of samples: %r\"\u001b[0m\u001b[0;34m\u001b[0m\u001b[0;34m\u001b[0m\u001b[0m\n\u001b[1;32m    477\u001b[0m             \u001b[0;34m%\u001b[0m \u001b[0;34m[\u001b[0m\u001b[0mint\u001b[0m\u001b[0;34m(\u001b[0m\u001b[0ml\u001b[0m\u001b[0;34m)\u001b[0m \u001b[0;32mfor\u001b[0m \u001b[0ml\u001b[0m \u001b[0;32min\u001b[0m \u001b[0mlengths\u001b[0m\u001b[0;34m]\u001b[0m\u001b[0;34m\u001b[0m\u001b[0;34m\u001b[0m\u001b[0m\n",
            "\u001b[0;31mValueError\u001b[0m: Found input variables with inconsistent numbers of samples: [800, 600]"
          ]
        }
      ],
      "source": [
        "# 데이터 분할 (명시적으로)\n",
        "X_train, X_val, y_train, y_val = train_test_split(X_combined, y_combined, test_size=0.2, random_state=42)\n",
        "\n",
        "# 모델 학습습\n",
        "history = model.fit(\n",
        "    X_train, {\n",
        "        'Q1': y_train[:, 0],\n",
        "        'Q2': y_train[:, 1],\n",
        "        'Q3': y_train[:, 2],\n",
        "        'S1': y_train[:, 3],\n",
        "        'S2': y_train[:, 4],\n",
        "        'S3': y_train[:, 5]\n",
        "    },\n",
        "    validation_data=(X_val, {\n",
        "        'Q1': y_val[:, 0],\n",
        "        'Q2': y_val[:, 1],\n",
        "        'Q3': y_val[:, 2],\n",
        "        'S1': y_val[:, 3],\n",
        "        'S2': y_val[:, 4],\n",
        "        'S3': y_val[:, 5]\n",
        "    }),\n",
        "    epochs=100,\n",
        "    batch_size=32,\n",
        "    shuffle=False,\n",
        "    callbacks=[early_stop]\n",
        ")"
      ]
    },
    {
      "cell_type": "markdown",
      "id": "6e6195fa",
      "metadata": {
        "id": "6e6195fa"
      },
      "source": [
        "# Model Prediction, 모델 예측 평가"
      ]
    },
    {
      "cell_type": "code",
      "execution_count": null,
      "id": "328ed6b0",
      "metadata": {
        "id": "328ed6b0"
      },
      "outputs": [],
      "source": [
        "# 예측 및 F1 평가\n",
        "y_pred = model.predict(X_seq)\n",
        "binary_indices = [0, 1, 2, 4, 5]\n",
        "y_pred_binary = [(y_pred[i] > 0.5).astype(int).reshape(-1) for i in binary_indices]\n",
        "y_true_binary = [y_target[:, i] for i in binary_indices]\n",
        "y_pred_multiclass = np.argmax(y_pred[3], axis=1)\n",
        "y_true_multiclass = y_target[:, 3]\n",
        "f1s = [f1_score(y_true_binary[i], y_pred_binary[i], average='macro') for i in range(5)]\n",
        "f1s.append(f1_score(y_true_multiclass, y_pred_multiclass, average='macro'))\n",
        "macro_f1_total = np.mean(f1s)\n",
        "\n",
        "print(\"📊 Macro F1 Score (전체 평균):\", round(macro_f1_total, 5))"
      ]
    },
    {
      "cell_type": "markdown",
      "id": "4f116709",
      "metadata": {
        "id": "4f116709"
      },
      "source": [
        "# Submission csv 파일 생성"
      ]
    },
    {
      "cell_type": "code",
      "execution_count": null,
      "id": "2894ba7a",
      "metadata": {
        "id": "2894ba7a"
      },
      "outputs": [],
      "source": [
        "\n",
        "df_label = pd.read_csv(\"/content/drive/MyDrive/Sleep/ch2025_submission_sample.csv\")\n",
        "\n",
        "# 시계열 입력 생성\n",
        "Z_seq = []\n",
        "for _, row in tqdm(df_label.iterrows(), total=len(df_label)):\n",
        "    x = x = merge_input_timeseries(row['subject_id'], row['lifelog_date'], row['sleep_date'], input_dict)\n",
        "    Z_seq.append(x.values)\n",
        "\n",
        "Z_seq = np.stack(Z_seq)  # shape = (N, 1440, 21)\n",
        "y_target = df_label[['Q1', 'Q2', 'Q3', 'S1', 'S2', 'S3']].values\n",
        "\n",
        "# 예측\n",
        "y_pred = model.predict(Z_seq)\n",
        "\n",
        "# 이진 분류 결과\n",
        "binary_indices = [0, 1, 2, 4, 5]\n",
        "y_pred_binary = [(y_pred[i] > 0.5).astype(int).reshape(-1) for i in binary_indices]\n",
        "y_true_binary = [y_target[:, i] for i in binary_indices]\n",
        "\n",
        "# 다중 분류 (S1)\n",
        "y_pred_multiclass = np.argmax(y_pred[3], axis=1)\n",
        "y_true_multiclass = y_target[:, 3]\n",
        "\n",
        "# 이진 분류: Q1, Q2, Q3, S2, S3\n",
        "binary_indices = [0, 1, 2, 4, 5]\n",
        "y_pred_binary = [(y_pred[i] > 0.5).astype(int).reshape(-1) for i in binary_indices]\n",
        "\n",
        "# 다중 분류: S1\n",
        "y_pred_multiclass = np.argmax(y_pred[3], axis=1)\n",
        "\n",
        "submission_sample = pd.read_csv(\"/content/drive/MyDrive/Sleep/ch2025_submission_sample.csv\")\n",
        "\n",
        "# 결과 입력\n",
        "submission = submission_sample.copy()\n",
        "submission['Q1'] = y_pred_binary[0]\n",
        "submission['Q2'] = y_pred_binary[1]\n",
        "submission['Q3'] = y_pred_binary[2]\n",
        "submission['S1'] = y_pred_multiclass\n",
        "submission['S2'] = y_pred_binary[3]\n",
        "submission['S3'] = y_pred_binary[4]\n",
        "\n",
        "# 저장\n",
        "submission.to_csv(\"/content/drive/MyDrive/Sleep/submission_file/submission12_timegan.csv\", index=False)\n"
      ]
    }
  ],
  "metadata": {
    "accelerator": "GPU",
    "colab": {
      "gpuType": "T4",
      "provenance": [],
      "include_colab_link": true
    },
    "kernelspec": {
      "display_name": "Python (tfenv)",
      "language": "python",
      "name": "tfenv"
    },
    "language_info": {
      "codemirror_mode": {
        "name": "ipython",
        "version": 3
      },
      "file_extension": ".py",
      "mimetype": "text/x-python",
      "name": "python",
      "nbconvert_exporter": "python",
      "pygments_lexer": "ipython3",
      "version": "3.11.0"
    }
  },
  "nbformat": 4,
  "nbformat_minor": 5
}